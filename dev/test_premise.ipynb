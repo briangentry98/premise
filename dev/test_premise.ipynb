{
 "cells": [
  {
   "cell_type": "code",
   "execution_count": 1,
   "id": "df75ca49-bab1-486b-9a5e-4bf7e4259180",
   "metadata": {},
   "outputs": [],
   "source": [
    "from premise import *\n",
    "import bw2data, bw2io, bw2calc\n",
    "bw2data.projects.set_current(\"ecoinvent-3.11-cutoff\")"
   ]
  },
  {
   "cell_type": "code",
   "execution_count": 2,
   "id": "186769fe-f212-4a6e-b2b5-93dc7bf0fd73",
   "metadata": {
    "tags": []
   },
   "outputs": [
    {
     "name": "stdout",
     "output_type": "stream",
     "text": [
      "premise v.(2, 3, 0, 'dev1')\n",
      "+------------------------------------------------------------------+\n",
      "| Warning                                                          |\n",
      "+------------------------------------------------------------------+\n",
      "| Because some of the scenarios can yield LCI databases            |\n",
      "| containing net negative emission technologies (NET),             |\n",
      "| it is advised to account for biogenic CO2 flows when calculating |\n",
      "| Global Warming potential indicators.                             |\n",
      "| `premise_gwp` provides characterization factors for such flows.  |\n",
      "| It also provides factors for hydrogen emissions to air.          |\n",
      "|                                                                  |\n",
      "| Within your Brightway project:                                   |\n",
      "| from premise_gwp import add_premise_gwp                          |\n",
      "| add_premise_gwp()                                                |\n",
      "+------------------------------------------------------------------+\n",
      "+--------------------------------+----------------------------------+\n",
      "| Utils functions                | Description                      |\n",
      "+--------------------------------+----------------------------------+\n",
      "| clear_cache()                  | Clears the cache folder. Useful  |\n",
      "|                                | when updating `premise`or        |\n",
      "|                                | encountering issues with         |\n",
      "|                                | inventories.                     |\n",
      "| get_regions_definition(model)  | Retrieves the list of countries  |\n",
      "|                                | for each region of the model.    |\n",
      "| ndb.NewDatabase(...)           | Generates a summary of the most  |\n",
      "| ndb.generate_scenario_report() | important scenarios' variables.  |\n",
      "+--------------------------------+----------------------------------+\n",
      "Keep uncertainty data?\n",
      "NewDatabase(..., keep_source_db_uncertainty=True), keep_imports_uncertainty=True)\n",
      "\n",
      "Hide these messages?\n",
      "NewDatabase(..., quiet=True)\n",
      "- Extracting source database\n",
      "- Extracting inventories\n",
      "- Fetching IAM data\n",
      "Found file: remind_SSP1-NDC\n",
      "Reading remind_SSP1-NDC as CSV file\n",
      "Done!\n"
     ]
    }
   ],
   "source": [
    "scenarios = [\n",
    "    {\"model\": \"remind\", \"pathway\": \"SSP1-NDC\", \"year\": 2025,},\n",
    "    #{\"model\": \"remind\", \"pathway\": \"SSP1-NPi\", \"year\": 2025,},\n",
    "    #{\"model\": \"remind\", \"pathway\": \"SSP1-PkBudg650\", \"year\": 2025,},\n",
    "    #{\"model\": \"remind\", \"pathway\": \"SSP1-PkBudg1000\", \"year\": 2025,},\n",
    "    #{\"model\": \"remind\", \"pathway\": \"SSP2-rollBack\", \"year\": 2025,},\n",
    "    #{\"model\": \"remind\", \"pathway\": \"SSP2-NDC\", \"year\": 2025,},\n",
    "    #{\"model\": \"remind\", \"pathway\": \"SSP2-NPi\", \"year\": 2025,},\n",
    "    #{\"model\": \"remind\", \"pathway\": \"SSP2-PkBudg650\", \"year\": 2025,},\n",
    "    #{\"model\": \"remind\", \"pathway\": \"SSP2-PkBudg1000\", \"year\": 2025,},\n",
    "    #{\"model\": \"remind\", \"pathway\": \"SSP3-rollBack\", \"year\": 2025,},\n",
    "    #{\"model\": \"remind\", \"pathway\": \"SSP3-NDC\", \"year\": 2025,},\n",
    "    #{\"model\": \"remind\", \"pathway\": \"SSP3-NPi\", \"year\": 2025,},\n",
    "    #{\"model\": \"remind-eu\", \"pathway\": \"SSP2-NDC\", \"year\": 2025,},\n",
    "    #{\"model\": \"remind\", \"pathway\": \"SSP3-PkBudg1000\", \"year\": 2025,},\n",
    "    #{\"model\": \"remind-eu\", \"pathway\": \"SSP2-NPi\", \"year\": 2025,},\n",
    "    #{\"model\": \"remind-eu\", \"pathway\": \"SSP2-PkBudg650\", \"year\": 2025,},\n",
    "    #{\"model\": \"remind-eu\", \"pathway\": \"SSP2-PkBudg1000\", \"year\": 2025,},\n",
    "\n",
    "    #{\"model\": \"image\", \"pathway\": \"SSP1-L\", \"year\": 2025,},\n",
    "    #{\"model\": \"image\", \"pathway\": \"SSP1-Ma\", \"year\": 2025,},\n",
    "    #{\"model\": \"image\", \"pathway\": \"SSP1-VLLO\", \"year\": 2025,},\n",
    "    #{\"model\": \"image\", \"pathway\": \"SSP2-L\", \"year\": 2025,},\n",
    "    #{\"model\": \"image\", \"pathway\": \"SSP2-M\", \"year\": 2025,},\n",
    "    #{\"model\": \"image\", \"pathway\": \"SSP2-VLHO\", \"year\": 2025,},\n",
    "    #{\"model\": \"image\", \"pathway\": \"SSP5-H\", \"year\": 2025,},\n",
    "    #{\"model\": \"image\", \"pathway\": \"SSP3-H\", \"year\": 2025,},\n",
    "\n",
    "    #{\"model\": \"tiam-ucl\", \"pathway\": \"SSP2-Base\", \"year\": 2025,},\n",
    "    #{\"model\": \"tiam-ucl\", \"pathway\": \"SSP2-RCP19\", \"year\": 2025,},\n",
    "    #{\"model\": \"tiam-ucl\", \"pathway\": \"SSP2-RCP26\", \"year\": 2025,},\n",
    "    #{\"model\": \"tiam-ucl\", \"pathway\": \"SSP2-RCP45\", \"year\": 2025,},\n",
    "]\n",
    "\n",
    "\n",
    "ndb = NewDatabase(\n",
    "        scenarios = scenarios,\n",
    "        source_db=\"ecoinvent-3.11-cutoff\",\n",
    "        source_version=\"3.11\",\n",
    "        key='tUePmX_S5B8ieZkkM7WUU2CnO8SmShwmAeWK9x2rTFo=',\n",
    ")\n"
   ]
  },
  {
   "cell_type": "code",
   "execution_count": 3,
   "id": "10350384-60a5-449d-8364-23663189c487",
   "metadata": {},
   "outputs": [
    {
     "name": "stdout",
     "output_type": "stream",
     "text": [
      "Generate scenario report.\n",
      "Report saved under /Users/romain/GitHub/premise/dev/export/scenario_report.\n"
     ]
    }
   ],
   "source": [
    "ndb.generate_scenario_report()"
   ]
  },
  {
   "cell_type": "code",
   "execution_count": 6,
   "id": "40f0e2dd-15b9-427b-893d-007b89a3216e",
   "metadata": {},
   "outputs": [],
   "source": [
    "import bw2data, bw2io, bw2calc\n",
    "bw2data.projects.set_current(\"ei38_2\")"
   ]
  },
  {
   "cell_type": "code",
   "execution_count": 4,
   "id": "2bd03511-d524-4e28-8d10-e4600ce480a3",
   "metadata": {},
   "outputs": [
    {
     "data": {
      "text/plain": [
       "[('Fish, pelagic, in ocean', 'd22719d0-8afd-45d3-b9eb-222112f84cc7')]"
      ]
     },
     "execution_count": 4,
     "metadata": {},
     "output_type": "execute_result"
    }
   ],
   "source": [
    "[(f[\"name\"], f[\"code\"]) for f in bw2data.Database(\"biosphere3\") if f[\"name\"] == \"Fish, pelagic, in ocean\"]"
   ]
  },
  {
   "cell_type": "code",
   "execution_count": 17,
   "id": "08612116-b9f6-429f-86ca-7746b37aa672",
   "metadata": {},
   "outputs": [],
   "source": [
    "import pandas as pd\n",
    "\n",
    "main_df = pd.DataFrame()\n",
    "for scenario in ndb.scenarios:\n",
    "    df = scenario[\"iam data\"].other_vars.sel(variables=\"GMST\", region=\"World\").to_dataframe(\"x\")\n",
    "    df[\"model\"] = scenario[\"model\"]\n",
    "    df[\"scenario\"] = scenario[\"pathway\"]\n",
    "    main_df = pd.concat([main_df, df])"
   ]
  },
  {
   "cell_type": "code",
   "execution_count": 19,
   "id": "2fd0a468-40e1-43d6-b85a-13b1a55719fc",
   "metadata": {},
   "outputs": [],
   "source": [
    "main_df.to_excel(\"temps.xlsx\")"
   ]
  },
  {
   "cell_type": "code",
   "execution_count": 18,
   "id": "3c3ffbbd-98bd-47ef-bdce-8471e0f92a8a",
   "metadata": {},
   "outputs": [
    {
     "data": {
      "text/html": [
       "<div>\n",
       "<style scoped>\n",
       "    .dataframe tbody tr th:only-of-type {\n",
       "        vertical-align: middle;\n",
       "    }\n",
       "\n",
       "    .dataframe tbody tr th {\n",
       "        vertical-align: top;\n",
       "    }\n",
       "\n",
       "    .dataframe thead th {\n",
       "        text-align: right;\n",
       "    }\n",
       "</style>\n",
       "<table border=\"1\" class=\"dataframe\">\n",
       "  <thead>\n",
       "    <tr style=\"text-align: right;\">\n",
       "      <th></th>\n",
       "      <th>region</th>\n",
       "      <th>variables</th>\n",
       "      <th>x</th>\n",
       "      <th>model</th>\n",
       "      <th>scenario</th>\n",
       "    </tr>\n",
       "    <tr>\n",
       "      <th>year</th>\n",
       "      <th></th>\n",
       "      <th></th>\n",
       "      <th></th>\n",
       "      <th></th>\n",
       "      <th></th>\n",
       "    </tr>\n",
       "  </thead>\n",
       "  <tbody>\n",
       "    <tr>\n",
       "      <th>2005</th>\n",
       "      <td>World</td>\n",
       "      <td>GMST</td>\n",
       "      <td>0.972309</td>\n",
       "      <td>remind</td>\n",
       "      <td>SSP1-NDC</td>\n",
       "    </tr>\n",
       "    <tr>\n",
       "      <th>2010</th>\n",
       "      <td>World</td>\n",
       "      <td>GMST</td>\n",
       "      <td>1.074420</td>\n",
       "      <td>remind</td>\n",
       "      <td>SSP1-NDC</td>\n",
       "    </tr>\n",
       "    <tr>\n",
       "      <th>2015</th>\n",
       "      <td>World</td>\n",
       "      <td>GMST</td>\n",
       "      <td>1.209518</td>\n",
       "      <td>remind</td>\n",
       "      <td>SSP1-NDC</td>\n",
       "    </tr>\n",
       "    <tr>\n",
       "      <th>2020</th>\n",
       "      <td>World</td>\n",
       "      <td>GMST</td>\n",
       "      <td>1.319732</td>\n",
       "      <td>remind</td>\n",
       "      <td>SSP1-NDC</td>\n",
       "    </tr>\n",
       "    <tr>\n",
       "      <th>2025</th>\n",
       "      <td>World</td>\n",
       "      <td>GMST</td>\n",
       "      <td>1.467861</td>\n",
       "      <td>remind</td>\n",
       "      <td>SSP1-NDC</td>\n",
       "    </tr>\n",
       "    <tr>\n",
       "      <th>...</th>\n",
       "      <td>...</td>\n",
       "      <td>...</td>\n",
       "      <td>...</td>\n",
       "      <td>...</td>\n",
       "      <td>...</td>\n",
       "    </tr>\n",
       "    <tr>\n",
       "      <th>2060</th>\n",
       "      <td>World</td>\n",
       "      <td>GMST</td>\n",
       "      <td>2.075522</td>\n",
       "      <td>tiam-ucl</td>\n",
       "      <td>SSP2-RCP45</td>\n",
       "    </tr>\n",
       "    <tr>\n",
       "      <th>2070</th>\n",
       "      <td>World</td>\n",
       "      <td>GMST</td>\n",
       "      <td>2.258184</td>\n",
       "      <td>tiam-ucl</td>\n",
       "      <td>SSP2-RCP45</td>\n",
       "    </tr>\n",
       "    <tr>\n",
       "      <th>2080</th>\n",
       "      <td>World</td>\n",
       "      <td>GMST</td>\n",
       "      <td>2.435781</td>\n",
       "      <td>tiam-ucl</td>\n",
       "      <td>SSP2-RCP45</td>\n",
       "    </tr>\n",
       "    <tr>\n",
       "      <th>2090</th>\n",
       "      <td>World</td>\n",
       "      <td>GMST</td>\n",
       "      <td>2.608917</td>\n",
       "      <td>tiam-ucl</td>\n",
       "      <td>SSP2-RCP45</td>\n",
       "    </tr>\n",
       "    <tr>\n",
       "      <th>2100</th>\n",
       "      <td>World</td>\n",
       "      <td>GMST</td>\n",
       "      <td>2.776322</td>\n",
       "      <td>tiam-ucl</td>\n",
       "      <td>SSP2-RCP45</td>\n",
       "    </tr>\n",
       "  </tbody>\n",
       "</table>\n",
       "<p>452 rows × 5 columns</p>\n",
       "</div>"
      ],
      "text/plain": [
       "     region variables         x     model    scenario\n",
       "year                                                 \n",
       "2005  World      GMST  0.972309    remind    SSP1-NDC\n",
       "2010  World      GMST  1.074420    remind    SSP1-NDC\n",
       "2015  World      GMST  1.209518    remind    SSP1-NDC\n",
       "2020  World      GMST  1.319732    remind    SSP1-NDC\n",
       "2025  World      GMST  1.467861    remind    SSP1-NDC\n",
       "...     ...       ...       ...       ...         ...\n",
       "2060  World      GMST  2.075522  tiam-ucl  SSP2-RCP45\n",
       "2070  World      GMST  2.258184  tiam-ucl  SSP2-RCP45\n",
       "2080  World      GMST  2.435781  tiam-ucl  SSP2-RCP45\n",
       "2090  World      GMST  2.608917  tiam-ucl  SSP2-RCP45\n",
       "2100  World      GMST  2.776322  tiam-ucl  SSP2-RCP45\n",
       "\n",
       "[452 rows x 5 columns]"
      ]
     },
     "execution_count": 18,
     "metadata": {},
     "output_type": "execute_result"
    }
   ],
   "source": [
    "main_df"
   ]
  },
  {
   "cell_type": "code",
   "execution_count": null,
   "id": "b159a3af-bed5-4b7b-937c-b29a48ca83c3",
   "metadata": {},
   "outputs": [],
   "source": []
  }
 ],
 "metadata": {
  "kernelspec": {
   "display_name": "Python 3 (ipykernel)",
   "language": "python",
   "name": "python3"
  },
  "language_info": {
   "codemirror_mode": {
    "name": "ipython",
    "version": 3
   },
   "file_extension": ".py",
   "mimetype": "text/x-python",
   "name": "python",
   "nbconvert_exporter": "python",
   "pygments_lexer": "ipython3",
   "version": "3.11.12"
  }
 },
 "nbformat": 4,
 "nbformat_minor": 5
}
