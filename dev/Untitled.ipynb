{
 "cells": [
  {
   "cell_type": "code",
   "execution_count": 1,
   "id": "536a04a5dcd99805",
   "metadata": {
    "ExecuteTime": {
     "end_time": "2025-05-31T19:24:42.355616Z",
     "start_time": "2025-05-31T19:24:33.871646Z"
    },
    "scrolled": true
   },
   "outputs": [
    {
     "name": "stdout",
     "output_type": "stream",
     "text": [
      "premise v.(2, 3, 0, 'dev1')\n",
      "+------------------------------------------------------------------+\n",
      "| Warning                                                          |\n",
      "+------------------------------------------------------------------+\n",
      "| Because some of the scenarios can yield LCI databases            |\n",
      "| containing net negative emission technologies (NET),             |\n",
      "| it is advised to account for biogenic CO2 flows when calculating |\n",
      "| Global Warming potential indicators.                             |\n",
      "| `premise_gwp` provides characterization factors for such flows.  |\n",
      "| It also provides factors for hydrogen emissions to air.          |\n",
      "|                                                                  |\n",
      "| Within your bw2 project:                                         |\n",
      "| from premise_gwp import add_premise_gwp                          |\n",
      "| add_premise_gwp()                                                |\n",
      "+------------------------------------------------------------------+\n",
      "+--------------------------------+----------------------------------+\n",
      "| Utils functions                | Description                      |\n",
      "+--------------------------------+----------------------------------+\n",
      "| clear_cache()                  | Clears the cache folder. Useful  |\n",
      "|                                | when updating `premise`or        |\n",
      "|                                | encountering issues with         |\n",
      "|                                | inventories.                     |\n",
      "| get_regions_definition(model)  | Retrieves the list of countries  |\n",
      "|                                | for each region of the model.    |\n",
      "| ndb.NewDatabase(...)           | Generates a summary of the most  |\n",
      "| ndb.generate_scenario_report() | important scenarios' variables.  |\n",
      "+--------------------------------+----------------------------------+\n",
      "Keep uncertainty data?\n",
      "NewDatabase(..., keep_source_db_uncertainty=True), keep_imports_uncertainty=True)\n",
      "\n",
      "Hide these messages?\n",
      "NewDatabase(..., quiet=True)\n",
      "- Extracting source database\n",
      "- Extracting inventories\n",
      "- Fetching IAM data\n",
      "\n",
      "Summary of the electricity marginal market mixes:\n",
      "+--------+--------+-----------+----------+-------+------+-----------+---------+\n",
      "| Region | Method | Foresight | Duration | Start | End  | Cap repl. | Vol ch. |\n",
      "+--------+--------+-----------+----------+-------+------+-----------+---------+\n",
      "|  CAZ   |   0    |   False   |  False   |  2051 | 2055 |   -0.01   |   -0.0  |\n",
      "|  CHA   |   0    |   False   |  False   |  2051 | 2055 |   -0.02   |   0.05  |\n",
      "|  EUR   |   0    |   False   |  False   |  2050 | 2054 |   -0.03   |   0.01  |\n",
      "|  IND   |   0    |   False   |  False   |  2050 | 2054 |   -0.03   |   0.51  |\n",
      "|  JPN   |   0    |   False   |  False   |  2051 | 2055 |   -0.02   |  -0.05  |\n",
      "|  LAM   |   0    |   False   |  False   |  2050 | 2054 |   -0.02   |   0.43  |\n",
      "|  MEA   |   0    |   False   |  False   |  2050 | 2054 |   -0.03   |   2.74  |\n",
      "|  NEU   |   0    |   False   |  False   |  2050 | 2054 |   -0.02   |   0.03  |\n",
      "|  OAS   |   0    |   False   |  False   |  2050 | 2054 |   -0.03   |   0.53  |\n",
      "|  REF   |   0    |   False   |  False   |  2050 | 2054 |   -0.03   |   0.32  |\n",
      "|  SSA   |   0    |   False   |  False   |  2050 | 2054 |   -0.03   |   0.56  |\n",
      "|  USA   |   0    |   False   |  False   |  2050 | 2054 |   -0.03   |  -0.09  |\n",
      "| World  |   0    |   False   |  False   |  2050 | 2054 |   -0.03   |   5.34  |\n",
      "+--------+--------+-----------+----------+-------+------+-----------+---------+\n",
      "\n",
      "Summary of the petrol marginal market mixes:\n",
      "+--------+--------+-----------+----------+-------+------+-----------+---------+\n",
      "| Region | Method | Foresight | Duration | Start | End  | Cap repl. | Vol ch. |\n",
      "+--------+--------+-----------+----------+-------+------+-----------+---------+\n",
      "|  CAZ   |   0    |   False   |  False   |  2051 | 2055 |   -0.03   |  -0.06  |\n",
      "|  CHA   |   0    |   False   |  False   |  2051 | 2055 |   -0.03   |  -0.09  |\n",
      "|  EUR   |   0    |   False   |  False   |  2051 | 2055 |   -0.03   |  -0.08  |\n",
      "|  IND   |   0    |   False   |  False   |  2051 | 2055 |   -0.03   |   0.39  |\n",
      "|  JPN   |   0    |   False   |  False   |  2051 | 2055 |   -0.03   |   0.0   |\n",
      "|  LAM   |   0    |   False   |  False   |  2051 | 2055 |   -0.03   |  -0.06  |\n",
      "|  MEA   |   0    |   False   |  False   |  2051 | 2055 |   -0.03   |  -0.03  |\n",
      "|  NEU   |   0    |   False   |  False   |  2051 | 2055 |   -0.03   |  -0.04  |\n",
      "|  OAS   |   0    |   False   |  False   |  2051 | 2055 |   -0.03   |   0.05  |\n",
      "|  REF   |   0    |   False   |  False   |  2051 | 2055 |   -0.03   |  -0.03  |\n",
      "|  SSA   |   0    |   False   |  False   |  2051 | 2055 |   -0.03   |   1.11  |\n",
      "|  USA   |   0    |   False   |  False   |  2051 | 2055 |   -0.03   |  -0.51  |\n",
      "| World  |   0    |   False   |  False   |  2051 | 2055 |   -0.03   |   0.58  |\n",
      "+--------+--------+-----------+----------+-------+------+-----------+---------+\n",
      "\n",
      "Summary of the diesel marginal market mixes:\n",
      "+--------+--------+-----------+----------+-------+------+-----------+---------+\n",
      "| Region | Method | Foresight | Duration | Start | End  | Cap repl. | Vol ch. |\n",
      "+--------+--------+-----------+----------+-------+------+-----------+---------+\n",
      "|  CAZ   |   0    |   False   |  False   |  2050 | 2054 |   -0.03   |  -0.13  |\n",
      "|  CHA   |   0    |   False   |  False   |  2051 | 2055 |   -0.03   |   0.01  |\n",
      "|  EUR   |   0    |   False   |  False   |  2051 | 2055 |   -0.03   |  -0.07  |\n",
      "|  IND   |   0    |   False   |  False   |  2051 | 2055 |   -0.03   |   0.33  |\n",
      "|  JPN   |   0    |   False   |  False   |  2050 | 2054 |   -0.03   |   0.0   |\n",
      "|  LAM   |   0    |   False   |  False   |  2051 | 2055 |   -0.03   |  -0.03  |\n",
      "|  MEA   |   0    |   False   |  False   |  2051 | 2055 |   -0.03   |  -0.22  |\n",
      "|  NEU   |   0    |   False   |  False   |  2050 | 2054 |   -0.03   |  -0.06  |\n",
      "|  OAS   |   0    |   False   |  False   |  2051 | 2055 |   -0.03   |   0.12  |\n",
      "|  REF   |   0    |   False   |  False   |  2051 | 2055 |   -0.03   |  -0.13  |\n",
      "|  SSA   |   0    |   False   |  False   |  2051 | 2055 |   -0.03   |   1.11  |\n",
      "|  USA   |   0    |   False   |  False   |  2051 | 2055 |   -0.03   |  -0.22  |\n",
      "| World  |   0    |   False   |  False   |  2051 | 2055 |   -0.03   |   0.67  |\n",
      "+--------+--------+-----------+----------+-------+------+-----------+---------+\n",
      "\n",
      "Summary of the gas marginal market mixes:\n",
      "+--------+--------+-----------+----------+-------+------+-----------+---------+\n",
      "| Region | Method | Foresight | Duration | Start | End  | Cap repl. | Vol ch. |\n",
      "+--------+--------+-----------+----------+-------+------+-----------+---------+\n",
      "|  CAZ   |   0    |   False   |  False   |  2051 | 2055 |   -0.03   |  -0.05  |\n",
      "|  CHA   |   0    |   False   |  False   |  2051 | 2055 |   -0.03   |  -0.19  |\n",
      "|  EUR   |   0    |   False   |  False   |  2051 | 2055 |   -0.03   |  -0.19  |\n",
      "|  IND   |   0    |   False   |  False   |  2051 | 2055 |   -0.03   |  -0.06  |\n",
      "|  JPN   |   0    |   False   |  False   |  2051 | 2055 |   -0.03   |  -0.02  |\n",
      "|  LAM   |   0    |   False   |  False   |  2051 | 2055 |   -0.03   |   0.0   |\n",
      "|  MEA   |   0    |   False   |  False   |  2051 | 2055 |   -0.03   |   -0.4  |\n",
      "|  NEU   |   0    |   False   |  False   |  2051 | 2055 |   -0.03   |  -0.02  |\n",
      "|  OAS   |   0    |   False   |  False   |  2051 | 2055 |   -0.03   |   0.04  |\n",
      "|  REF   |   0    |   False   |  False   |  2051 | 2055 |   -0.03   |  -0.12  |\n",
      "|  SSA   |   0    |   False   |  False   |  2051 | 2055 |   -0.03   |   0.14  |\n",
      "|  USA   |   0    |   False   |  False   |  2051 | 2055 |   -0.03   |  -0.41  |\n",
      "| World  |   0    |   False   |  False   |  2051 | 2055 |   -0.03   |  -1.24  |\n",
      "+--------+--------+-----------+----------+-------+------+-----------+---------+\n",
      "\n",
      "Summary of the hydrogen marginal market mixes:\n",
      "+--------+--------+-----------+----------+-------+------+-----------+---------+\n",
      "| Region | Method | Foresight | Duration | Start | End  | Cap repl. | Vol ch. |\n",
      "+--------+--------+-----------+----------+-------+------+-----------+---------+\n",
      "|  CAZ   |   0    |   False   |  False   |  2050 | 2054 |   -0.03   |   0.01  |\n",
      "|  CHA   |   0    |   False   |  False   |  2051 | 2055 |   -0.03   |   0.06  |\n",
      "|  EUR   |   0    |   False   |  False   |  2051 | 2055 |   -0.03   |   0.04  |\n",
      "|  IND   |   0    |   False   |  False   |  2051 | 2055 |   -0.03   |   0.07  |\n",
      "|  JPN   |   0    |   False   |  False   |  2051 | 2055 |   -0.03   |   0.01  |\n",
      "|  LAM   |   0    |   False   |  False   |  2051 | 2055 |   -0.03   |   0.04  |\n",
      "|  MEA   |   0    |   False   |  False   |  2051 | 2055 |   -0.03   |   0.31  |\n",
      "|  NEU   |   0    |   False   |  False   |  2050 | 2054 |   -0.03   |   0.01  |\n",
      "|  OAS   |   0    |   False   |  False   |  2050 | 2054 |   -0.03   |   0.11  |\n",
      "|  REF   |   0    |   False   |  False   |  2051 | 2055 |   -0.03   |   0.04  |\n",
      "|  SSA   |   0    |   False   |  False   |  2051 | 2055 |   -0.03   |   0.05  |\n",
      "|  USA   |   0    |   False   |  False   |  2051 | 2055 |   -0.03   |   0.04  |\n",
      "| World  |   0    |   False   |  False   |  2051 | 2055 |   -0.03   |   0.79  |\n",
      "+--------+--------+-----------+----------+-------+------+-----------+---------+\n",
      "\n",
      "Summary of the cement marginal market mixes:\n",
      "+--------+--------+-----------+----------+-------+------+-----------+---------+\n",
      "| Region | Method | Foresight | Duration | Start | End  | Cap repl. | Vol ch. |\n",
      "+--------+--------+-----------+----------+-------+------+-----------+---------+\n",
      "|  CAZ   |   0    |   False   |  False   |  2058 | 2062 |   -0.02   |   0.25  |\n",
      "|  CHA   |   0    |   False   |  False   |  2058 | 2062 |   -0.02   |  -29.22 |\n",
      "|  EUR   |   0    |   False   |  False   |  2058 | 2062 |   -0.02   |   0.15  |\n",
      "|  IND   |   0    |   False   |  False   |  2058 | 2062 |   -0.02   |   3.55  |\n",
      "|  JPN   |   0    |   False   |  False   |  2058 | 2062 |   -0.02   |  -0.36  |\n",
      "|  LAM   |   0    |   False   |  False   |  2058 | 2062 |   -0.02   |   3.43  |\n",
      "|  MEA   |   0    |   False   |  False   |  2058 | 2062 |   -0.02   |  26.21  |\n",
      "|  NEU   |   0    |   False   |  False   |  2058 | 2062 |   -0.02   |   0.05  |\n",
      "|  OAS   |   0    |   False   |  False   |  2058 | 2062 |   -0.02   |   4.62  |\n",
      "|  REF   |   0    |   False   |  False   |  2058 | 2062 |   -0.02   |   1.51  |\n",
      "|  SSA   |   0    |   False   |  False   |  2058 | 2062 |   -0.02   |  45.59  |\n",
      "|  USA   |   0    |   False   |  False   |  2058 | 2062 |   -0.02   |   0.32  |\n",
      "| World  |   0    |   False   |  False   |  2058 | 2062 |   -0.02   |  57.41  |\n",
      "+--------+--------+-----------+----------+-------+------+-----------+---------+\n",
      "\n",
      "Summary of the steel marginal market mixes:\n",
      "+--------+--------+-----------+----------+-------+------+-----------+---------+\n",
      "| Region | Method | Foresight | Duration | Start | End  | Cap repl. | Vol ch. |\n",
      "+--------+--------+-----------+----------+-------+------+-----------+---------+\n",
      "|  CAZ   |   0    |   False   |  False   |  2058 | 2062 |   -0.02   |   0.02  |\n",
      "|  CHA   |   0    |   False   |  False   |  2058 | 2062 |   -0.02   |   0.38  |\n",
      "|  EUR   |   0    |   False   |  False   |  2058 | 2062 |   -0.02   |   0.2   |\n",
      "|  IND   |   0    |   False   |  False   |  2058 | 2062 |   -0.02   |  -9.68  |\n",
      "|  JPN   |   0    |   False   |  False   |  2058 | 2062 |   -0.02   |  -0.27  |\n",
      "|  LAM   |   0    |   False   |  False   |  2058 | 2062 |   -0.02   |  -1.29  |\n",
      "|  MEA   |   0    |   False   |  False   |  2058 | 2062 |   -0.02   |   -1.3  |\n",
      "|  NEU   |   0    |   False   |  False   |  2058 | 2062 |   -0.02   |   0.03  |\n",
      "|  OAS   |   0    |   False   |  False   |  2058 | 2062 |   -0.02   |  -0.01  |\n",
      "|  REF   |   0    |   False   |  False   |  2058 | 2062 |   -0.02   |   0.15  |\n",
      "|  SSA   |   0    |   False   |  False   |  2058 | 2062 |   -0.02   |  10.91  |\n",
      "|  USA   |   0    |   False   |  False   |  2058 | 2062 |   -0.03   |  -0.04  |\n",
      "| World  |   0    |   False   |  False   |  2057 | 2061 |   -0.02   |  -2.49  |\n",
      "+--------+--------+-----------+----------+-------+------+-----------+---------+\n",
      "\n",
      "Summary of the cdr marginal market mixes:\n",
      "+--------+--------+-----------+----------+-------+------+-----------+---------+\n",
      "| Region | Method | Foresight | Duration | Start | End  | Cap repl. | Vol ch. |\n",
      "+--------+--------+-----------+----------+-------+------+-----------+---------+\n",
      "|  CAZ   |   0    |   False   |  False   |  2051 | 2055 |   -0.05   |   0.0   |\n",
      "|  CHA   |   0    |   False   |  False   |  2051 | 2055 |   -0.05   |  -0.11  |\n",
      "|  EUR   |   0    |   False   |  False   |  2051 | 2055 |   -0.05   |  -0.06  |\n",
      "|  IND   |   0    |   False   |  False   |  2051 | 2055 |   -0.05   |   0.0   |\n",
      "|  LAM   |   0    |   False   |  False   |  2051 | 2055 |   -0.05   |  -0.17  |\n",
      "|  MEA   |   0    |   False   |  False   |  2051 | 2055 |   -0.05   |  -0.21  |\n",
      "|  NEU   |   0    |   False   |  False   |  2050 | 2054 |   -0.05   |   0.0   |\n",
      "|  OAS   |   0    |   False   |  False   |  2050 | 2054 |   -0.05   |   -0.0  |\n",
      "|  REF   |   0    |   False   |  False   |  2051 | 2055 |   -0.05   |   -0.0  |\n",
      "|  SSA   |   0    |   False   |  False   |  2051 | 2055 |   -0.05   |   0.0   |\n",
      "|  USA   |   0    |   False   |  False   |  2051 | 2055 |   -0.05   |  -0.32  |\n",
      "| World  |   0    |   False   |  False   |  2051 | 2055 |   -0.05   |  -0.85  |\n",
      "+--------+--------+-----------+----------+-------+------+-----------+---------+\n",
      "\n",
      "Summary of the biomass marginal market mixes:\n",
      "+--------+--------+-----------+----------+-------+------+-----------+---------+\n",
      "| Region | Method | Foresight | Duration | Start | End  | Cap repl. | Vol ch. |\n",
      "+--------+--------+-----------+----------+-------+------+-----------+---------+\n",
      "|  CAZ   |   0    |   False   |  False   |  2051 | 2055 |   -0.03   |   -0.0  |\n",
      "|  EUR   |   0    |   False   |  False   |  2051 | 2055 |   -0.03   |   0.0   |\n",
      "|  IND   |   0    |   False   |  False   |  2051 | 2055 |   -0.03   |   -0.0  |\n",
      "|  JPN   |   0    |   False   |  False   |  2051 | 2055 |   -0.03   |   0.0   |\n",
      "| World  |   0    |   False   |  False   |  2051 | 2055 |   -0.03   |   0.0   |\n",
      "+--------+--------+-----------+----------+-------+------+-----------+---------+\n",
      "\n",
      "Summary of the road transport marginal market mixes:\n",
      "+--------+--------+-----------+----------+-------+------+-----------+---------+\n",
      "| Region | Method | Foresight | Duration | Start | End  | Cap repl. | Vol ch. |\n",
      "+--------+--------+-----------+----------+-------+------+-----------+---------+\n",
      "|  CAZ   |   0    |   False   |  False   |  2049 | 2053 |   -0.05   |   4.74  |\n",
      "|  CHA   |   0    |   False   |  False   |  2049 | 2053 |   -0.05   |  30.46  |\n",
      "|  EUR   |   0    |   False   |  False   |  2048 | 2052 |   -0.05   |   9.39  |\n",
      "|  IND   |   0    |   False   |  False   |  2049 | 2053 |   -0.05   |  182.93 |\n",
      "|  JPN   |   0    |   False   |  False   |  2049 | 2053 |   -0.05   |   2.01  |\n",
      "|  LAM   |   0    |   False   |  False   |  2049 | 2053 |   -0.05   |  110.5  |\n",
      "|  MEA   |   0    |   False   |  False   |  2049 | 2053 |   -0.05   |  226.97 |\n",
      "|  NEU   |   0    |   False   |  False   |  2049 | 2053 |   -0.05   |   2.29  |\n",
      "|  OAS   |   0    |   False   |  False   |  2049 | 2053 |   -0.05   |  129.69 |\n",
      "|  REF   |   0    |   False   |  False   |  2048 | 2052 |   -0.05   |   7.79  |\n",
      "|  SSA   |   0    |   False   |  False   |  2049 | 2053 |   -0.05   |  351.39 |\n",
      "|  USA   |   0    |   False   |  False   |  2049 | 2053 |   -0.05   |  -20.94 |\n",
      "| World  |   0    |   False   |  False   |  2049 | 2053 |   -0.05   |  1045.6 |\n",
      "+--------+--------+-----------+----------+-------+------+-----------+---------+\n",
      "\n",
      "Summary of the rail transport marginal market mixes:\n",
      "+--------+--------+-----------+----------+-------+------+-----------+---------+\n",
      "| Region | Method | Foresight | Duration | Start | End  | Cap repl. | Vol ch. |\n",
      "+--------+--------+-----------+----------+-------+------+-----------+---------+\n",
      "|  CAZ   |   0    |   False   |  False   |  2053 | 2057 |   -0.02   |   5.8   |\n",
      "|  CHA   |   0    |   False   |  False   |  2053 | 2057 |   -0.02   |  -0.29  |\n",
      "|  EUR   |   0    |   False   |  False   |  2053 | 2057 |   -0.02   |  -0.37  |\n",
      "|  IND   |   0    |   False   |  False   |  2053 | 2057 |   -0.03   |  84.63  |\n",
      "|  JPN   |   0    |   False   |  False   |  2053 | 2057 |   -0.02   |   0.01  |\n",
      "|  LAM   |   0    |   False   |  False   |  2053 | 2057 |   -0.02   |  16.39  |\n",
      "|  MEA   |   0    |   False   |  False   |  2053 | 2057 |   -0.02   |   4.27  |\n",
      "|  NEU   |   0    |   False   |  False   |  2053 | 2057 |   -0.02   |   0.13  |\n",
      "|  OAS   |   0    |   False   |  False   |  2053 | 2057 |   -0.02   |  20.47  |\n",
      "|  REF   |   0    |   False   |  False   |  2053 | 2057 |   -0.02   |  16.58  |\n",
      "|  SSA   |   0    |   False   |  False   |  2053 | 2057 |   -0.02   |  54.66  |\n",
      "|  USA   |   0    |   False   |  False   |  2053 | 2057 |   -0.02   |   3.7   |\n",
      "| World  |   0    |   False   |  False   |  2053 | 2057 |   -0.02   |  206.12 |\n",
      "+--------+--------+-----------+----------+-------+------+-----------+---------+\n",
      "\n",
      "Summary of the sea transport marginal market mixes:\n",
      "+--------+--------+-----------+----------+-------+------+-----------+---------+\n",
      "| Region | Method | Foresight | Duration | Start | End  | Cap repl. | Vol ch. |\n",
      "+--------+--------+-----------+----------+-------+------+-----------+---------+\n",
      "|  CAZ   |   0    |   False   |  False   |  2058 | 2062 |   -0.02   |   2.83  |\n",
      "|  CHA   |   0    |   False   |  False   |  2058 | 2062 |   -0.02   |  -16.18 |\n",
      "|  EUR   |   0    |   False   |  False   |  2058 | 2062 |   -0.02   |  -0.07  |\n",
      "|  IND   |   0    |   False   |  False   |  2058 | 2062 |   -0.02   |   0.16  |\n",
      "|  JPN   |   0    |   False   |  False   |  2058 | 2062 |   -0.02   |   0.12  |\n",
      "|  LAM   |   0    |   False   |  False   |  2058 | 2062 |   -0.02   |  -0.92  |\n",
      "|  MEA   |   0    |   False   |  False   |  2058 | 2062 |   -0.02   |   5.72  |\n",
      "|  NEU   |   0    |   False   |  False   |  2058 | 2062 |   -0.02   |   0.91  |\n",
      "|  OAS   |   0    |   False   |  False   |  2058 | 2062 |   -0.02   |  24.84  |\n",
      "|  REF   |   0    |   False   |  False   |  2058 | 2062 |   -0.02   |   1.09  |\n",
      "|  SSA   |   0    |   False   |  False   |  2058 | 2062 |   -0.02   |  13.22  |\n",
      "|  USA   |   0    |   False   |  False   |  2058 | 2062 |   -0.02   |   2.57  |\n",
      "| World  |   0    |   False   |  False   |  2058 | 2062 |   -0.02   |  37.15  |\n",
      "+--------+--------+-----------+----------+-------+------+-----------+---------+\n",
      "\n",
      "Summary of the passenger car marginal market mixes:\n",
      "+--------+--------+-----------+----------+-------+------+-----------+---------+\n",
      "| Region | Method | Foresight | Duration | Start | End  | Cap repl. | Vol ch. |\n",
      "+--------+--------+-----------+----------+-------+------+-----------+---------+\n",
      "|  CAZ   |   0    |   False   |  False   |  2048 | 2052 |   -0.05   |   5.81  |\n",
      "|  CHA   |   0    |   False   |  False   |  2048 | 2052 |   -0.05   |   31.0  |\n",
      "|  EUR   |   0    |   False   |  False   |  2049 | 2053 |   -0.05   |  -0.36  |\n",
      "|  IND   |   0    |   False   |  False   |  2048 | 2052 |   -0.05   |  106.73 |\n",
      "|  JPN   |   0    |   False   |  False   |  2049 | 2053 |   -0.05   |  -2.69  |\n",
      "|  LAM   |   0    |   False   |  False   |  2049 | 2053 |   -0.05   |  21.41  |\n",
      "|  MEA   |   0    |   False   |  False   |  2049 | 2053 |   -0.05   |  125.11 |\n",
      "|  NEU   |   0    |   False   |  False   |  2049 | 2053 |   -0.05   |   2.37  |\n",
      "|  OAS   |   0    |   False   |  False   |  2048 | 2052 |   -0.05   |  233.27 |\n",
      "|  REF   |   0    |   False   |  False   |  2049 | 2053 |   -0.05   |   6.3   |\n",
      "|  SSA   |   0    |   False   |  False   |  2048 | 2052 |   -0.05   |  246.25 |\n",
      "|  USA   |   0    |   False   |  False   |  2049 | 2053 |   -0.05   |   0.32  |\n",
      "| World  |   0    |   False   |  False   |  2049 | 2053 |   -0.05   |  740.84 |\n",
      "+--------+--------+-----------+----------+-------+------+-----------+---------+\n",
      "\n",
      "Summary of the passenger bus marginal market mixes:\n",
      "+--------+--------+-----------+----------+-------+------+-----------+---------+\n",
      "| Region | Method | Foresight | Duration | Start | End  | Cap repl. | Vol ch. |\n",
      "+--------+--------+-----------+----------+-------+------+-----------+---------+\n",
      "|  CAZ   |   0    |   False   |  False   |  2049 | 2053 |   -0.05   |   0.62  |\n",
      "|  CHA   |   0    |   False   |  False   |  2049 | 2053 |   -0.05   |  -15.25 |\n",
      "|  EUR   |   0    |   False   |  False   |  2048 | 2052 |   -0.05   |  -5.58  |\n",
      "|  IND   |   0    |   False   |  False   |  2048 | 2052 |   -0.05   |  15.77  |\n",
      "|  JPN   |   0    |   False   |  False   |  2049 | 2053 |   -0.05   |  -0.41  |\n",
      "|  LAM   |   0    |   False   |  False   |  2049 | 2053 |   -0.05   |  16.41  |\n",
      "|  MEA   |   0    |   False   |  False   |  2049 | 2053 |   -0.05   |  23.38  |\n",
      "|  NEU   |   0    |   False   |  False   |  2049 | 2053 |   -0.05   |  -0.11  |\n",
      "|  OAS   |   0    |   False   |  False   |  2048 | 2052 |   -0.05   |   4.36  |\n",
      "|  REF   |   0    |   False   |  False   |  2049 | 2053 |   -0.05   |   4.89  |\n",
      "|  SSA   |   0    |   False   |  False   |  2049 | 2053 |   -0.05   |  69.59  |\n",
      "|  USA   |   0    |   False   |  False   |  2049 | 2053 |   -0.05   |  -6.09  |\n",
      "| World  |   0    |   False   |  False   |  2049 | 2053 |   -0.05   |  160.61 |\n",
      "+--------+--------+-----------+----------+-------+------+-----------+---------+\n",
      "\n",
      "Summary of the two-wheeler marginal market mixes:\n",
      "+--------+--------+-----------+----------+-------+------+-----------+---------+\n",
      "| Region | Method | Foresight | Duration | Start | End  | Cap repl. | Vol ch. |\n",
      "+--------+--------+-----------+----------+-------+------+-----------+---------+\n",
      "|  CAZ   |   0    |   False   |  False   |  2049 | 2053 |   -0.05   |   0.02  |\n",
      "|  CHA   |   0    |   False   |  False   |  2049 | 2053 |   -0.05   |  -26.81 |\n",
      "|  EUR   |   0    |   False   |  False   |  2048 | 2052 |   -0.05   |  -0.77  |\n",
      "|  IND   |   0    |   False   |  False   |  2049 | 2053 |   -0.05   |  32.99  |\n",
      "|  JPN   |   0    |   False   |  False   |  2048 | 2052 |   -0.05   |  -0.21  |\n",
      "|  LAM   |   0    |   False   |  False   |  2049 | 2053 |   -0.05   |   4.96  |\n",
      "|  MEA   |   0    |   False   |  False   |  2048 | 2052 |   -0.05   |  -1.14  |\n",
      "|  NEU   |   0    |   False   |  False   |  2048 | 2052 |   -0.05   |  -0.05  |\n",
      "|  OAS   |   0    |   False   |  False   |  2049 | 2053 |   -0.05   |  95.07  |\n",
      "|  REF   |   0    |   False   |  False   |  2049 | 2053 |   -0.05   |   0.19  |\n",
      "|  SSA   |   0    |   False   |  False   |  2049 | 2053 |   -0.05   |  52.97  |\n",
      "|  USA   |   0    |   False   |  False   |  2049 | 2053 |   -0.05   |  -0.63  |\n",
      "| World  |   0    |   False   |  False   |  2048 | 2052 |   -0.05   |  159.2  |\n",
      "+--------+--------+-----------+----------+-------+------+-----------+---------+\n",
      "\n",
      "Summary of the buildings heating marginal market mixes:\n",
      "+--------+--------+-----------+----------+-------+------+-----------+---------+\n",
      "| Region | Method | Foresight | Duration | Start | End  | Cap repl. | Vol ch. |\n",
      "+--------+--------+-----------+----------+-------+------+-----------+---------+\n",
      "|  CAZ   |   0    |   False   |  False   |  2049 | 2053 |   -0.05   |  -0.03  |\n",
      "|  CHA   |   0    |   False   |  False   |  2049 | 2053 |   -0.05   |  -0.16  |\n",
      "|  EUR   |   0    |   False   |  False   |  2049 | 2053 |   -0.05   |   -0.2  |\n",
      "|  IND   |   0    |   False   |  False   |  2049 | 2053 |   -0.05   |  -0.01  |\n",
      "|  JPN   |   0    |   False   |  False   |  2049 | 2053 |   -0.05   |  -0.02  |\n",
      "|  LAM   |   0    |   False   |  False   |  2048 | 2052 |   -0.05   |   0.01  |\n",
      "|  MEA   |   0    |   False   |  False   |  2049 | 2053 |   -0.05   |   0.83  |\n",
      "|  NEU   |   0    |   False   |  False   |  2049 | 2053 |   -0.05   |  -0.01  |\n",
      "|  OAS   |   0    |   False   |  False   |  2048 | 2052 |   -0.05   |   0.05  |\n",
      "|  REF   |   0    |   False   |  False   |  2048 | 2052 |   -0.05   |  -0.12  |\n",
      "|  SSA   |   0    |   False   |  False   |  2048 | 2052 |   -0.05   |  -0.13  |\n",
      "|  USA   |   0    |   False   |  False   |  2049 | 2053 |   -0.05   |   -0.2  |\n",
      "| World  |   0    |   False   |  False   |  2049 | 2053 |   -0.05   |  -0.01  |\n",
      "+--------+--------+-----------+----------+-------+------+-----------+---------+\n",
      "\n",
      "Summary of the industrial heating marginal market mixes:\n",
      "+--------+--------+-----------+----------+-------+------+-----------+---------+\n",
      "| Region | Method | Foresight | Duration | Start | End  | Cap repl. | Vol ch. |\n",
      "+--------+--------+-----------+----------+-------+------+-----------+---------+\n",
      "|  CAZ   |   0    |   False   |  False   |  2049 | 2053 |   -0.05   |   -0.0  |\n",
      "|  CHA   |   0    |   False   |  False   |  2049 | 2053 |   -0.05   |  -0.09  |\n",
      "|  EUR   |   0    |   False   |  False   |  2049 | 2053 |   -0.05   |  -0.05  |\n",
      "|  IND   |   0    |   False   |  False   |  2049 | 2053 |   -0.05   |   -0.0  |\n",
      "|  JPN   |   0    |   False   |  False   |  2048 | 2052 |   -0.05   |   0.0   |\n",
      "|  LAM   |   0    |   False   |  False   |  2049 | 2053 |   -0.05   |   -0.0  |\n",
      "|  MEA   |   0    |   False   |  False   |  2049 | 2053 |   -0.05   |   -0.0  |\n",
      "|  NEU   |   0    |   False   |  False   |  2048 | 2052 |   -0.05   |   -0.0  |\n",
      "|  OAS   |   0    |   False   |  False   |  2049 | 2053 |   -0.05   |   0.02  |\n",
      "|  REF   |   0    |   False   |  False   |  2049 | 2053 |   -0.05   |   -0.1  |\n",
      "|  SSA   |   0    |   False   |  False   |  2049 | 2053 |   -0.05   |   -0.0  |\n",
      "|  USA   |   0    |   False   |  False   |  2049 | 2053 |   -0.05   |   -0.0  |\n",
      "| World  |   0    |   False   |  False   |  2049 | 2053 |   -0.05   |  -0.23  |\n",
      "+--------+--------+-----------+----------+-------+------+-----------+---------+\n",
      "\n",
      "Summary of the daccs heating marginal market mixes:\n",
      "+--------+--------+-----------+----------+-------+------+-----------+---------+\n",
      "| Region | Method | Foresight | Duration | Start | End  | Cap repl. | Vol ch. |\n",
      "+--------+--------+-----------+----------+-------+------+-----------+---------+\n",
      "| World  |   0    |   False   |  False   |  2049 | 2053 |    -1.0   |   -0.0  |\n",
      "+--------+--------+-----------+----------+-------+------+-----------+---------+\n",
      "\n",
      "Summary of the ewr heating marginal market mixes:\n",
      "+--------+--------+-----------+----------+-------+-----+-----------+---------+\n",
      "| Region | Method | Foresight | Duration | Start | End | Cap repl. | Vol ch. |\n",
      "+--------+--------+-----------+----------+-------+-----+-----------+---------+\n",
      "+--------+--------+-----------+----------+-------+-----+-----------+---------+\n",
      "Done!\n"
     ]
    }
   ],
   "source": [
    "from premise import *\n",
    "import bw2data\n",
    "bw2data.projects.set_current(\"ecoinvent-3.10-consequential\")\n",
    "#bw2data.projects.set_current(\"ecoinvent-3.8-cutoff\")\n",
    "#bw2data.projects.set_current(\"ecoinvent-3.9.1-cutoff_bw25\")\n",
    "#clear_cache()\n",
    "scenarios = [\n",
    "    {\"model\": \"remind\", \"pathway\": \"SSP2-rollBack\", \"year\": 2050},\n",
    "    #{\"model\": \"image\", \"pathway\": \"SSP2-VLHO\", \"year\": 2050},\n",
    "    #{\"model\": \"tiam-ucl\", \"pathway\": \"SSP2-RCP19\", \"year\": 2050},\n",
    "]\n",
    "\n",
    "ndb = NewDatabase(\n",
    "        scenarios=scenarios,\n",
    "        source_db=\"ecoinvent-3.10-consequential\",\n",
    "        source_version=\"3.10\",\n",
    "        biosphere_name=\"ecoinvent-3.10-biosphere\",\n",
    "        key='tUePmX_S5B8ieZkkM7WUU2CnO8SmShwmAeWK9x2rTFo=',\n",
    "        system_model=\"consequential\",\n",
    "        keep_imports_uncertainty=False,\n",
    "        keep_source_db_uncertainty=False\n",
    ")"
   ]
  },
  {
   "cell_type": "code",
   "execution_count": 2,
   "id": "dc9fc83a-cd0e-4957-ba8e-91f70a8bd513",
   "metadata": {},
   "outputs": [
    {
     "data": {
      "text/plain": [
       "array(['CAZ', 'CHA', 'EUR', 'IND', 'JPN', 'LAM', 'MEA', 'NEU', 'OAS',\n",
       "       'REF', 'SSA', 'USA', 'World'], dtype=object)"
      ]
     },
     "execution_count": 2,
     "metadata": {},
     "output_type": "execute_result"
    }
   ],
   "source": [
    "ndb.scenarios[0][\"iam data\"].biomass_mix.coords[\"region\"].values"
   ]
  },
  {
   "cell_type": "code",
   "execution_count": 3,
   "id": "7e01157a-9372-454d-83dd-7aa849fa30d9",
   "metadata": {},
   "outputs": [
    {
     "data": {
      "text/html": [
       "<div><svg style=\"position: absolute; width: 0; height: 0; overflow: hidden\">\n",
       "<defs>\n",
       "<symbol id=\"icon-database\" viewBox=\"0 0 32 32\">\n",
       "<path d=\"M16 0c-8.837 0-16 2.239-16 5v4c0 2.761 7.163 5 16 5s16-2.239 16-5v-4c0-2.761-7.163-5-16-5z\"></path>\n",
       "<path d=\"M16 17c-8.837 0-16-2.239-16-5v6c0 2.761 7.163 5 16 5s16-2.239 16-5v-6c0 2.761-7.163 5-16 5z\"></path>\n",
       "<path d=\"M16 26c-8.837 0-16-2.239-16-5v6c0 2.761 7.163 5 16 5s16-2.239 16-5v-6c0 2.761-7.163 5-16 5z\"></path>\n",
       "</symbol>\n",
       "<symbol id=\"icon-file-text2\" viewBox=\"0 0 32 32\">\n",
       "<path d=\"M28.681 7.159c-0.694-0.947-1.662-2.053-2.724-3.116s-2.169-2.030-3.116-2.724c-1.612-1.182-2.393-1.319-2.841-1.319h-15.5c-1.378 0-2.5 1.121-2.5 2.5v27c0 1.378 1.122 2.5 2.5 2.5h23c1.378 0 2.5-1.122 2.5-2.5v-19.5c0-0.448-0.137-1.23-1.319-2.841zM24.543 5.457c0.959 0.959 1.712 1.825 2.268 2.543h-4.811v-4.811c0.718 0.556 1.584 1.309 2.543 2.268zM28 29.5c0 0.271-0.229 0.5-0.5 0.5h-23c-0.271 0-0.5-0.229-0.5-0.5v-27c0-0.271 0.229-0.5 0.5-0.5 0 0 15.499-0 15.5 0v7c0 0.552 0.448 1 1 1h7v19.5z\"></path>\n",
       "<path d=\"M23 26h-14c-0.552 0-1-0.448-1-1s0.448-1 1-1h14c0.552 0 1 0.448 1 1s-0.448 1-1 1z\"></path>\n",
       "<path d=\"M23 22h-14c-0.552 0-1-0.448-1-1s0.448-1 1-1h14c0.552 0 1 0.448 1 1s-0.448 1-1 1z\"></path>\n",
       "<path d=\"M23 18h-14c-0.552 0-1-0.448-1-1s0.448-1 1-1h14c0.552 0 1 0.448 1 1s-0.448 1-1 1z\"></path>\n",
       "</symbol>\n",
       "</defs>\n",
       "</svg>\n",
       "<style>/* CSS stylesheet for displaying xarray objects in jupyterlab.\n",
       " *\n",
       " */\n",
       "\n",
       ":root {\n",
       "  --xr-font-color0: var(--jp-content-font-color0, rgba(0, 0, 0, 1));\n",
       "  --xr-font-color2: var(--jp-content-font-color2, rgba(0, 0, 0, 0.54));\n",
       "  --xr-font-color3: var(--jp-content-font-color3, rgba(0, 0, 0, 0.38));\n",
       "  --xr-border-color: var(--jp-border-color2, #e0e0e0);\n",
       "  --xr-disabled-color: var(--jp-layout-color3, #bdbdbd);\n",
       "  --xr-background-color: var(--jp-layout-color0, white);\n",
       "  --xr-background-color-row-even: var(--jp-layout-color1, white);\n",
       "  --xr-background-color-row-odd: var(--jp-layout-color2, #eeeeee);\n",
       "}\n",
       "\n",
       "html[theme=dark],\n",
       "body[data-theme=dark],\n",
       "body.vscode-dark {\n",
       "  --xr-font-color0: rgba(255, 255, 255, 1);\n",
       "  --xr-font-color2: rgba(255, 255, 255, 0.54);\n",
       "  --xr-font-color3: rgba(255, 255, 255, 0.38);\n",
       "  --xr-border-color: #1F1F1F;\n",
       "  --xr-disabled-color: #515151;\n",
       "  --xr-background-color: #111111;\n",
       "  --xr-background-color-row-even: #111111;\n",
       "  --xr-background-color-row-odd: #313131;\n",
       "}\n",
       "\n",
       ".xr-wrap {\n",
       "  display: block !important;\n",
       "  min-width: 300px;\n",
       "  max-width: 700px;\n",
       "}\n",
       "\n",
       ".xr-text-repr-fallback {\n",
       "  /* fallback to plain text repr when CSS is not injected (untrusted notebook) */\n",
       "  display: none;\n",
       "}\n",
       "\n",
       ".xr-header {\n",
       "  padding-top: 6px;\n",
       "  padding-bottom: 6px;\n",
       "  margin-bottom: 4px;\n",
       "  border-bottom: solid 1px var(--xr-border-color);\n",
       "}\n",
       "\n",
       ".xr-header > div,\n",
       ".xr-header > ul {\n",
       "  display: inline;\n",
       "  margin-top: 0;\n",
       "  margin-bottom: 0;\n",
       "}\n",
       "\n",
       ".xr-obj-type,\n",
       ".xr-array-name {\n",
       "  margin-left: 2px;\n",
       "  margin-right: 10px;\n",
       "}\n",
       "\n",
       ".xr-obj-type {\n",
       "  color: var(--xr-font-color2);\n",
       "}\n",
       "\n",
       ".xr-sections {\n",
       "  padding-left: 0 !important;\n",
       "  display: grid;\n",
       "  grid-template-columns: 150px auto auto 1fr 20px 20px;\n",
       "}\n",
       "\n",
       ".xr-section-item {\n",
       "  display: contents;\n",
       "}\n",
       "\n",
       ".xr-section-item input {\n",
       "  display: none;\n",
       "}\n",
       "\n",
       ".xr-section-item input + label {\n",
       "  color: var(--xr-disabled-color);\n",
       "}\n",
       "\n",
       ".xr-section-item input:enabled + label {\n",
       "  cursor: pointer;\n",
       "  color: var(--xr-font-color2);\n",
       "}\n",
       "\n",
       ".xr-section-item input:enabled + label:hover {\n",
       "  color: var(--xr-font-color0);\n",
       "}\n",
       "\n",
       ".xr-section-summary {\n",
       "  grid-column: 1;\n",
       "  color: var(--xr-font-color2);\n",
       "  font-weight: 500;\n",
       "}\n",
       "\n",
       ".xr-section-summary > span {\n",
       "  display: inline-block;\n",
       "  padding-left: 0.5em;\n",
       "}\n",
       "\n",
       ".xr-section-summary-in:disabled + label {\n",
       "  color: var(--xr-font-color2);\n",
       "}\n",
       "\n",
       ".xr-section-summary-in + label:before {\n",
       "  display: inline-block;\n",
       "  content: '►';\n",
       "  font-size: 11px;\n",
       "  width: 15px;\n",
       "  text-align: center;\n",
       "}\n",
       "\n",
       ".xr-section-summary-in:disabled + label:before {\n",
       "  color: var(--xr-disabled-color);\n",
       "}\n",
       "\n",
       ".xr-section-summary-in:checked + label:before {\n",
       "  content: '▼';\n",
       "}\n",
       "\n",
       ".xr-section-summary-in:checked + label > span {\n",
       "  display: none;\n",
       "}\n",
       "\n",
       ".xr-section-summary,\n",
       ".xr-section-inline-details {\n",
       "  padding-top: 4px;\n",
       "  padding-bottom: 4px;\n",
       "}\n",
       "\n",
       ".xr-section-inline-details {\n",
       "  grid-column: 2 / -1;\n",
       "}\n",
       "\n",
       ".xr-section-details {\n",
       "  display: none;\n",
       "  grid-column: 1 / -1;\n",
       "  margin-bottom: 5px;\n",
       "}\n",
       "\n",
       ".xr-section-summary-in:checked ~ .xr-section-details {\n",
       "  display: contents;\n",
       "}\n",
       "\n",
       ".xr-array-wrap {\n",
       "  grid-column: 1 / -1;\n",
       "  display: grid;\n",
       "  grid-template-columns: 20px auto;\n",
       "}\n",
       "\n",
       ".xr-array-wrap > label {\n",
       "  grid-column: 1;\n",
       "  vertical-align: top;\n",
       "}\n",
       "\n",
       ".xr-preview {\n",
       "  color: var(--xr-font-color3);\n",
       "}\n",
       "\n",
       ".xr-array-preview,\n",
       ".xr-array-data {\n",
       "  padding: 0 5px !important;\n",
       "  grid-column: 2;\n",
       "}\n",
       "\n",
       ".xr-array-data,\n",
       ".xr-array-in:checked ~ .xr-array-preview {\n",
       "  display: none;\n",
       "}\n",
       "\n",
       ".xr-array-in:checked ~ .xr-array-data,\n",
       ".xr-array-preview {\n",
       "  display: inline-block;\n",
       "}\n",
       "\n",
       ".xr-dim-list {\n",
       "  display: inline-block !important;\n",
       "  list-style: none;\n",
       "  padding: 0 !important;\n",
       "  margin: 0;\n",
       "}\n",
       "\n",
       ".xr-dim-list li {\n",
       "  display: inline-block;\n",
       "  padding: 0;\n",
       "  margin: 0;\n",
       "}\n",
       "\n",
       ".xr-dim-list:before {\n",
       "  content: '(';\n",
       "}\n",
       "\n",
       ".xr-dim-list:after {\n",
       "  content: ')';\n",
       "}\n",
       "\n",
       ".xr-dim-list li:not(:last-child):after {\n",
       "  content: ',';\n",
       "  padding-right: 5px;\n",
       "}\n",
       "\n",
       ".xr-has-index {\n",
       "  font-weight: bold;\n",
       "}\n",
       "\n",
       ".xr-var-list,\n",
       ".xr-var-item {\n",
       "  display: contents;\n",
       "}\n",
       "\n",
       ".xr-var-item > div,\n",
       ".xr-var-item label,\n",
       ".xr-var-item > .xr-var-name span {\n",
       "  background-color: var(--xr-background-color-row-even);\n",
       "  margin-bottom: 0;\n",
       "}\n",
       "\n",
       ".xr-var-item > .xr-var-name:hover span {\n",
       "  padding-right: 5px;\n",
       "}\n",
       "\n",
       ".xr-var-list > li:nth-child(odd) > div,\n",
       ".xr-var-list > li:nth-child(odd) > label,\n",
       ".xr-var-list > li:nth-child(odd) > .xr-var-name span {\n",
       "  background-color: var(--xr-background-color-row-odd);\n",
       "}\n",
       "\n",
       ".xr-var-name {\n",
       "  grid-column: 1;\n",
       "}\n",
       "\n",
       ".xr-var-dims {\n",
       "  grid-column: 2;\n",
       "}\n",
       "\n",
       ".xr-var-dtype {\n",
       "  grid-column: 3;\n",
       "  text-align: right;\n",
       "  color: var(--xr-font-color2);\n",
       "}\n",
       "\n",
       ".xr-var-preview {\n",
       "  grid-column: 4;\n",
       "}\n",
       "\n",
       ".xr-index-preview {\n",
       "  grid-column: 2 / 5;\n",
       "  color: var(--xr-font-color2);\n",
       "}\n",
       "\n",
       ".xr-var-name,\n",
       ".xr-var-dims,\n",
       ".xr-var-dtype,\n",
       ".xr-preview,\n",
       ".xr-attrs dt {\n",
       "  white-space: nowrap;\n",
       "  overflow: hidden;\n",
       "  text-overflow: ellipsis;\n",
       "  padding-right: 10px;\n",
       "}\n",
       "\n",
       ".xr-var-name:hover,\n",
       ".xr-var-dims:hover,\n",
       ".xr-var-dtype:hover,\n",
       ".xr-attrs dt:hover {\n",
       "  overflow: visible;\n",
       "  width: auto;\n",
       "  z-index: 1;\n",
       "}\n",
       "\n",
       ".xr-var-attrs,\n",
       ".xr-var-data,\n",
       ".xr-index-data {\n",
       "  display: none;\n",
       "  background-color: var(--xr-background-color) !important;\n",
       "  padding-bottom: 5px !important;\n",
       "}\n",
       "\n",
       ".xr-var-attrs-in:checked ~ .xr-var-attrs,\n",
       ".xr-var-data-in:checked ~ .xr-var-data,\n",
       ".xr-index-data-in:checked ~ .xr-index-data {\n",
       "  display: block;\n",
       "}\n",
       "\n",
       ".xr-var-data > table {\n",
       "  float: right;\n",
       "}\n",
       "\n",
       ".xr-var-name span,\n",
       ".xr-var-data,\n",
       ".xr-index-name div,\n",
       ".xr-index-data,\n",
       ".xr-attrs {\n",
       "  padding-left: 25px !important;\n",
       "}\n",
       "\n",
       ".xr-attrs,\n",
       ".xr-var-attrs,\n",
       ".xr-var-data,\n",
       ".xr-index-data {\n",
       "  grid-column: 1 / -1;\n",
       "}\n",
       "\n",
       "dl.xr-attrs {\n",
       "  padding: 0;\n",
       "  margin: 0;\n",
       "  display: grid;\n",
       "  grid-template-columns: 125px auto;\n",
       "}\n",
       "\n",
       ".xr-attrs dt,\n",
       ".xr-attrs dd {\n",
       "  padding: 0;\n",
       "  margin: 0;\n",
       "  float: left;\n",
       "  padding-right: 10px;\n",
       "  width: auto;\n",
       "}\n",
       "\n",
       ".xr-attrs dt {\n",
       "  font-weight: normal;\n",
       "  grid-column: 1;\n",
       "}\n",
       "\n",
       ".xr-attrs dt:hover span {\n",
       "  display: inline-block;\n",
       "  background: var(--xr-background-color);\n",
       "  padding-right: 10px;\n",
       "}\n",
       "\n",
       ".xr-attrs dd {\n",
       "  grid-column: 2;\n",
       "  white-space: pre-wrap;\n",
       "  word-break: break-all;\n",
       "}\n",
       "\n",
       ".xr-icon-database,\n",
       ".xr-icon-file-text2,\n",
       ".xr-no-icon {\n",
       "  display: inline-block;\n",
       "  vertical-align: middle;\n",
       "  width: 1em;\n",
       "  height: 1.5em !important;\n",
       "  stroke-width: 0;\n",
       "  stroke: currentColor;\n",
       "  fill: currentColor;\n",
       "}\n",
       "</style><pre class='xr-text-repr-fallback'>&lt;xarray.DataArray &#x27;value&#x27; (region: 13, variables: 2)&gt; Size: 208B\n",
       "array([[1., 0.],\n",
       "       [1., 0.],\n",
       "       [1., 0.],\n",
       "       [1., 0.],\n",
       "       [1., 0.],\n",
       "       [1., 0.],\n",
       "       [1., 0.],\n",
       "       [1., 0.],\n",
       "       [1., 0.],\n",
       "       [1., 0.],\n",
       "       [1., 0.],\n",
       "       [1., 0.],\n",
       "       [1., 0.]])\n",
       "Coordinates:\n",
       "  * region     (region) object 104B &#x27;CAZ&#x27; &#x27;CHA&#x27; &#x27;EUR&#x27; ... &#x27;SSA&#x27; &#x27;USA&#x27; &#x27;World&#x27;\n",
       "  * variables  (variables) &lt;U29 232B &#x27;biomass crops - purpose grown&#x27; &#x27;biomass...\n",
       "    year       int64 8B 2050\n",
       "Attributes:\n",
       "    unit:     {&#x27;SE|Electricity|Biomass|Energy Crops&#x27;: &#x27;EJ/yr&#x27;, &#x27;SE|Electricit...</pre><div class='xr-wrap' style='display:none'><div class='xr-header'><div class='xr-obj-type'>xarray.DataArray</div><div class='xr-array-name'>'value'</div><ul class='xr-dim-list'><li><span class='xr-has-index'>region</span>: 13</li><li><span class='xr-has-index'>variables</span>: 2</li></ul></div><ul class='xr-sections'><li class='xr-section-item'><div class='xr-array-wrap'><input id='section-17e19858-1df5-4565-a079-7ece4bc3f602' class='xr-array-in' type='checkbox' checked><label for='section-17e19858-1df5-4565-a079-7ece4bc3f602' title='Show/hide data repr'><svg class='icon xr-icon-database'><use xlink:href='#icon-database'></use></svg></label><div class='xr-array-preview xr-preview'><span>1.0 0.0 1.0 0.0 1.0 0.0 1.0 0.0 ... 1.0 0.0 1.0 0.0 1.0 0.0 1.0 0.0</span></div><div class='xr-array-data'><pre>array([[1., 0.],\n",
       "       [1., 0.],\n",
       "       [1., 0.],\n",
       "       [1., 0.],\n",
       "       [1., 0.],\n",
       "       [1., 0.],\n",
       "       [1., 0.],\n",
       "       [1., 0.],\n",
       "       [1., 0.],\n",
       "       [1., 0.],\n",
       "       [1., 0.],\n",
       "       [1., 0.],\n",
       "       [1., 0.]])</pre></div></div></li><li class='xr-section-item'><input id='section-baf6850d-e1af-4b05-a18c-a09d7bf9110f' class='xr-section-summary-in' type='checkbox'  checked><label for='section-baf6850d-e1af-4b05-a18c-a09d7bf9110f' class='xr-section-summary' >Coordinates: <span>(3)</span></label><div class='xr-section-inline-details'></div><div class='xr-section-details'><ul class='xr-var-list'><li class='xr-var-item'><div class='xr-var-name'><span class='xr-has-index'>region</span></div><div class='xr-var-dims'>(region)</div><div class='xr-var-dtype'>object</div><div class='xr-var-preview xr-preview'>&#x27;CAZ&#x27; &#x27;CHA&#x27; &#x27;EUR&#x27; ... &#x27;USA&#x27; &#x27;World&#x27;</div><input id='attrs-9a8aadcc-e7d4-4ade-ad35-21f43fe4f392' class='xr-var-attrs-in' type='checkbox' disabled><label for='attrs-9a8aadcc-e7d4-4ade-ad35-21f43fe4f392' title='Show/Hide attributes'><svg class='icon xr-icon-file-text2'><use xlink:href='#icon-file-text2'></use></svg></label><input id='data-5770612c-672a-4bd4-b0a3-cd831af768e5' class='xr-var-data-in' type='checkbox'><label for='data-5770612c-672a-4bd4-b0a3-cd831af768e5' title='Show/Hide data repr'><svg class='icon xr-icon-database'><use xlink:href='#icon-database'></use></svg></label><div class='xr-var-attrs'><dl class='xr-attrs'></dl></div><div class='xr-var-data'><pre>array([&#x27;CAZ&#x27;, &#x27;CHA&#x27;, &#x27;EUR&#x27;, &#x27;IND&#x27;, &#x27;JPN&#x27;, &#x27;LAM&#x27;, &#x27;MEA&#x27;, &#x27;NEU&#x27;, &#x27;OAS&#x27;, &#x27;REF&#x27;,\n",
       "       &#x27;SSA&#x27;, &#x27;USA&#x27;, &#x27;World&#x27;], dtype=object)</pre></div></li><li class='xr-var-item'><div class='xr-var-name'><span class='xr-has-index'>variables</span></div><div class='xr-var-dims'>(variables)</div><div class='xr-var-dtype'>&lt;U29</div><div class='xr-var-preview xr-preview'>&#x27;biomass crops - purpose grown&#x27; ...</div><input id='attrs-7b874754-5fdb-425b-af1f-f41ddffab7d8' class='xr-var-attrs-in' type='checkbox' disabled><label for='attrs-7b874754-5fdb-425b-af1f-f41ddffab7d8' title='Show/Hide attributes'><svg class='icon xr-icon-file-text2'><use xlink:href='#icon-file-text2'></use></svg></label><input id='data-4f60db3b-aa37-45c0-9f89-c13e8b2d69bc' class='xr-var-data-in' type='checkbox'><label for='data-4f60db3b-aa37-45c0-9f89-c13e8b2d69bc' title='Show/Hide data repr'><svg class='icon xr-icon-database'><use xlink:href='#icon-database'></use></svg></label><div class='xr-var-attrs'><dl class='xr-attrs'></dl></div><div class='xr-var-data'><pre>array([&#x27;biomass crops - purpose grown&#x27;, &#x27;biomass - residual&#x27;], dtype=&#x27;&lt;U29&#x27;)</pre></div></li><li class='xr-var-item'><div class='xr-var-name'><span>year</span></div><div class='xr-var-dims'>()</div><div class='xr-var-dtype'>int64</div><div class='xr-var-preview xr-preview'>2050</div><input id='attrs-815a85ec-01bb-44aa-b461-7388f0bfcc02' class='xr-var-attrs-in' type='checkbox' disabled><label for='attrs-815a85ec-01bb-44aa-b461-7388f0bfcc02' title='Show/Hide attributes'><svg class='icon xr-icon-file-text2'><use xlink:href='#icon-file-text2'></use></svg></label><input id='data-a2ce8a91-e5d9-4f24-b1ef-1a436dc65ab9' class='xr-var-data-in' type='checkbox'><label for='data-a2ce8a91-e5d9-4f24-b1ef-1a436dc65ab9' title='Show/Hide data repr'><svg class='icon xr-icon-database'><use xlink:href='#icon-database'></use></svg></label><div class='xr-var-attrs'><dl class='xr-attrs'></dl></div><div class='xr-var-data'><pre>array(2050)</pre></div></li></ul></div></li><li class='xr-section-item'><input id='section-4a68befd-95f8-43cf-b6b5-77365860e59e' class='xr-section-summary-in' type='checkbox'  ><label for='section-4a68befd-95f8-43cf-b6b5-77365860e59e' class='xr-section-summary' >Indexes: <span>(2)</span></label><div class='xr-section-inline-details'></div><div class='xr-section-details'><ul class='xr-var-list'><li class='xr-var-item'><div class='xr-index-name'><div>region</div></div><div class='xr-index-preview'>PandasIndex</div><div></div><input id='index-5cc5be8a-e671-4831-bbba-c873e8750d8b' class='xr-index-data-in' type='checkbox'/><label for='index-5cc5be8a-e671-4831-bbba-c873e8750d8b' title='Show/Hide index repr'><svg class='icon xr-icon-database'><use xlink:href='#icon-database'></use></svg></label><div class='xr-index-data'><pre>PandasIndex(Index([&#x27;CAZ&#x27;, &#x27;CHA&#x27;, &#x27;EUR&#x27;, &#x27;IND&#x27;, &#x27;JPN&#x27;, &#x27;LAM&#x27;, &#x27;MEA&#x27;, &#x27;NEU&#x27;, &#x27;OAS&#x27;, &#x27;REF&#x27;,\n",
       "       &#x27;SSA&#x27;, &#x27;USA&#x27;, &#x27;World&#x27;],\n",
       "      dtype=&#x27;object&#x27;, name=&#x27;region&#x27;))</pre></div></li><li class='xr-var-item'><div class='xr-index-name'><div>variables</div></div><div class='xr-index-preview'>PandasIndex</div><div></div><input id='index-e0e0d1ea-fa47-43f5-92ae-590ed04fb689' class='xr-index-data-in' type='checkbox'/><label for='index-e0e0d1ea-fa47-43f5-92ae-590ed04fb689' title='Show/Hide index repr'><svg class='icon xr-icon-database'><use xlink:href='#icon-database'></use></svg></label><div class='xr-index-data'><pre>PandasIndex(Index([&#x27;biomass crops - purpose grown&#x27;, &#x27;biomass - residual&#x27;], dtype=&#x27;object&#x27;, name=&#x27;variables&#x27;))</pre></div></li></ul></div></li><li class='xr-section-item'><input id='section-ee06c653-d3cb-45e3-9f4c-42ae685763bf' class='xr-section-summary-in' type='checkbox'  checked><label for='section-ee06c653-d3cb-45e3-9f4c-42ae685763bf' class='xr-section-summary' >Attributes: <span>(1)</span></label><div class='xr-section-inline-details'></div><div class='xr-section-details'><dl class='xr-attrs'><dt><span>unit :</span></dt><dd>{&#x27;SE|Electricity|Biomass|Energy Crops&#x27;: &#x27;EJ/yr&#x27;, &#x27;SE|Electricity|Biomass|Residues&#x27;: &#x27;EJ/yr&#x27;}</dd></dl></div></li></ul></div></div>"
      ],
      "text/plain": [
       "<xarray.DataArray 'value' (region: 13, variables: 2)> Size: 208B\n",
       "array([[1., 0.],\n",
       "       [1., 0.],\n",
       "       [1., 0.],\n",
       "       [1., 0.],\n",
       "       [1., 0.],\n",
       "       [1., 0.],\n",
       "       [1., 0.],\n",
       "       [1., 0.],\n",
       "       [1., 0.],\n",
       "       [1., 0.],\n",
       "       [1., 0.],\n",
       "       [1., 0.],\n",
       "       [1., 0.]])\n",
       "Coordinates:\n",
       "  * region     (region) object 104B 'CAZ' 'CHA' 'EUR' ... 'SSA' 'USA' 'World'\n",
       "  * variables  (variables) <U29 232B 'biomass crops - purpose grown' 'biomass...\n",
       "    year       int64 8B 2050\n",
       "Attributes:\n",
       "    unit:     {'SE|Electricity|Biomass|Energy Crops': 'EJ/yr', 'SE|Electricit..."
      ]
     },
     "execution_count": 3,
     "metadata": {},
     "output_type": "execute_result"
    }
   ],
   "source": [
    "ndb.scenarios[0][\"iam data\"].biomass_mix.sel(year=2050)"
   ]
  },
  {
   "cell_type": "code",
   "execution_count": 4,
   "id": "f6b6f582ed096b0e",
   "metadata": {
    "ExecuteTime": {
     "end_time": "2025-05-31T19:24:56.297176Z",
     "start_time": "2025-05-31T19:24:42.364648Z"
    }
   },
   "outputs": [
    {
     "name": "stderr",
     "output_type": "stream",
     "text": [
      "Processing scenarios for all sectors: 100%|█| 1/1 [01:04<00:00, 64.80s"
     ]
    },
    {
     "name": "stdout",
     "output_type": "stream",
     "text": [
      "Done!\n",
      "\n",
      "CPU times: user 1min 1s, sys: 1.69 s, total: 1min 3s\n",
      "Wall time: 1min 4s\n"
     ]
    },
    {
     "name": "stderr",
     "output_type": "stream",
     "text": [
      "\n"
     ]
    }
   ],
   "source": [
    "%%time\n",
    "ndb.update()"
   ]
  },
  {
   "cell_type": "code",
   "execution_count": 6,
   "id": "152a950e-ced2-4289-91de-ad7f2f89b958",
   "metadata": {},
   "outputs": [
    {
     "name": "stdout",
     "output_type": "stream",
     "text": [
      "Write Simapro import file(s).\n",
      "Running all checks...\n",
      "Minor anomalies found: check the change report.\n",
      "The following exchanges have not been used in the Simapro export:\n",
      "+---------------------------------------+---------+----------------------------------+----------+\n",
      "|                  Name                 | Product |            Categories            | Location |\n",
      "+---------------------------------------+---------+----------------------------------+----------+\n",
      "|        Hazardous waste disposed       |         | ('inventory indicator', 'waste') |   None   |\n",
      "|   Organic carbon, placed in landfill  |         | ('inventory indicator', 'waste') |   None   |\n",
      "| Waste mass, total, placed in landfill |         | ('inventory indicator', 'waste') |   None   |\n",
      "|      Non-hazardous waste disposed     |         | ('inventory indicator', 'waste') |   None   |\n",
      "+---------------------------------------+---------+----------------------------------+----------+\n",
      "46 unmatched flow categories. Check unlinked.log.\n",
      "Simapro CSV file saved in /Users/romain/GitHub/premise/dev/export/simapro.\n",
      "Generate scenario report.\n",
      "Report saved under /Users/romain/GitHub/premise/dev/export/scenario_report.\n",
      "Generate change report.\n",
      "Report saved under /Users/romain/GitHub/premise/dev/export/change reports/.\n"
     ]
    }
   ],
   "source": [
    "ndb.write_db_to_simapro()"
   ]
  },
  {
   "cell_type": "code",
   "execution_count": 3,
   "id": "f7a908bd-bf0a-43b2-81d1-5ba86a0e9fbc",
   "metadata": {},
   "outputs": [],
   "source": [
    "from premise.utils import load_database\n",
    "\n",
    "for scenario in ndb.scenarios:\n",
    "    scenario = load_database(scenario)"
   ]
  },
  {
   "cell_type": "code",
   "execution_count": 3,
   "id": "1cbe913512716d4d",
   "metadata": {
    "ExecuteTime": {
     "end_time": "2025-05-31T14:52:28.977133Z",
     "start_time": "2025-05-31T14:52:28.846350Z"
    }
   },
   "outputs": [
    {
     "name": "stdout",
     "output_type": "stream",
     "text": [
      "market for biomass, used as fuel CAZ\n",
      "market for biomass, used as fuel EUR\n",
      "market for biomass, used as fuel IND\n",
      "market for biomass, used as fuel JPN\n",
      "market for biomass, used as fuel World\n"
     ]
    }
   ],
   "source": [
    "sum_ = 0\n",
    "for ds in ndb.scenarios[0][\"database\"]:\n",
    "    if ds[\"name\"] == \"market for biomass, used as fuel\":\n",
    "        print(ds[\"name\"], ds[\"location\"])\n",
    "        #for e in ds[\"exchanges\"]:\n",
    "        #    if e[\"type\"] == \"technosphere\":\n",
    "        #        print(e[\"name\"], e[\"amount\"], e.get(\"location\"))\n",
    "        #print()"
   ]
  },
  {
   "cell_type": "code",
   "execution_count": 4,
   "id": "a98f6a056e254034",
   "metadata": {
    "ExecuteTime": {
     "end_time": "2025-05-31T14:53:08.167508Z",
     "start_time": "2025-05-31T14:53:08.162949Z"
    }
   },
   "outputs": [
    {
     "data": {
      "text/plain": [
       "'CAZ'"
      ]
     },
     "execution_count": 4,
     "metadata": {},
     "output_type": "execute_result"
    }
   ],
   "source": [
    "ndb.scenarios[0][\"iam data\"].natural_gas_blend.sel(region=\"FSU\", year=2050)"
   ]
  },
  {
   "cell_type": "code",
   "execution_count": 3,
   "id": "d1371e26c1ef3f12",
   "metadata": {
    "ExecuteTime": {
     "end_time": "2025-05-31T19:29:02.063908Z",
     "start_time": "2025-05-31T19:24:56.349879Z"
    }
   },
   "outputs": [
    {
     "name": "stdout",
     "output_type": "stream",
     "text": [
      "Write new database(s) to Brightway.\n",
      "Running all checks...\n",
      "Minor anomalies found: check the change report.\n",
      "Warning: No valid output stream.\n",
      "Title: Writing activities to SQLite3 database:\n",
      "  Started: 05/31/2025 21:25:58\n",
      "  Finished: 05/31/2025 21:26:18\n",
      "  Total time elapsed: 00:00:19\n",
      "  CPU %: 92.40\n",
      "  Memory %: 15.12\n",
      "Created database: test cng 3\n",
      "Generate scenario report.\n",
      "Report saved under /Users/romain/GitHub/premise/dev/export/scenario_report.\n",
      "Generate change report.\n",
      "Report saved under /Users/romain/GitHub/premise/dev.\n"
     ]
    }
   ],
   "source": [
    "from premise.validation import BaseDatasetValidator\n",
    "\n",
    "scenario = ndb.scenarios[0]\n",
    "\n",
    "try:\n",
    "    # validate the database\n",
    "    validator = BaseDatasetValidator(\n",
    "        model=scenario[\"model\"],\n",
    "        scenario=scenario[\"pathway\"],\n",
    "        year=scenario[\"year\"],\n",
    "        regions=scenario[\"iam data\"].regions,\n",
    "        original_database=ndb.database,\n",
    "        database=scenario[\"database\"],\n",
    "        db_name=\"some name\",\n",
    "        biosphere_name=\"biosphere3\",\n",
    "    )\n",
    "    validator.run_all_checks()\n",
    "except ValueError:\n",
    "    ndb.generate_change_report()"
   ]
  },
  {
   "cell_type": "code",
   "execution_count": 5,
   "id": "f4460b04-3c97-48f2-ad57-ab5fc08803b4",
   "metadata": {},
   "outputs": [
    {
     "name": "stdout",
     "output_type": "stream",
     "text": [
      "carbon dioxide, captured, at cement production plant, using monoethanolamine RER\n"
     ]
    }
   ],
   "source": [
    "ndb.write_db_to_brightway()"
   ]
  },
  {
   "cell_type": "code",
   "execution_count": 3,
   "id": "ccce5b22-4785-49ad-afb1-a78802aedfc1",
   "metadata": {
    "ExecuteTime": {
     "end_time": "2025-05-31T15:14:34.316563Z",
     "start_time": "2025-05-31T15:14:31.150889Z"
    }
   },
   "outputs": [],
   "source": [
    "ndb.generate_change_report()"
   ]
  },
  {
   "cell_type": "code",
   "execution_count": 4,
   "id": "1e6a097d-612d-42fc-970b-641ed6d730a5",
   "metadata": {},
   "outputs": [],
   "source": [
    "ndb.write_db_to_brightway()"
   ]
  },
  {
   "cell_type": "code",
   "execution_count": 5,
   "id": "be71ab42-7ac0-481e-8aa7-ace9833d9bf5",
   "metadata": {},
   "outputs": [],
   "source": [
    "for ds in ndb.scenarios[0][\"database\"]:\n",
    "    if ds[\"name\"] == \"carbon dioxide, captured, at cement production plant, using monoethanolamine\":\n",
    "        print(ds[\"name\"], ds[\"location\"])"
   ]
  },
  {
   "cell_type": "code",
   "execution_count": 5,
   "id": "e4ae8960-848b-46a7-bc4d-113e047bc30e",
   "metadata": {},
   "outputs": [
    {
     "data": {
      "text/html": [
       "<div>\n",
       "<style scoped>\n",
       "    .dataframe tbody tr th:only-of-type {\n",
       "        vertical-align: middle;\n",
       "    }\n",
       "\n",
       "    .dataframe tbody tr th {\n",
       "        vertical-align: top;\n",
       "    }\n",
       "\n",
       "    .dataframe thead th {\n",
       "        text-align: right;\n",
       "    }\n",
       "</style>\n",
       "<table border=\"1\" class=\"dataframe\">\n",
       "  <thead>\n",
       "    <tr style=\"text-align: right;\">\n",
       "      <th></th>\n",
       "      <th>Category</th>\n",
       "      <th>Market</th>\n",
       "      <th>Product</th>\n",
       "      <th>Locations</th>\n",
       "    </tr>\n",
       "  </thead>\n",
       "  <tbody>\n",
       "    <tr>\n",
       "      <th>0</th>\n",
       "      <td>cement, dry feed rotary kiln</td>\n",
       "      <td>clinker production</td>\n",
       "      <td>clinker</td>\n",
       "      <td>[BR, CA-QC, CAZ, CH, CHA, CO, EC, EUR, Europe ...</td>\n",
       "    </tr>\n",
       "    <tr>\n",
       "      <th>1</th>\n",
       "      <td>cement, dry feed rotary kiln, efficient, with ...</td>\n",
       "      <td>clinker production</td>\n",
       "      <td>clinker</td>\n",
       "      <td>[BR, CA-QC, CAZ, CH, CHA, CO, EC, EUR, Europe ...</td>\n",
       "    </tr>\n",
       "    <tr>\n",
       "      <th>2</th>\n",
       "      <td></td>\n",
       "      <td>clinker production, dry feed rotary kiln, effi...</td>\n",
       "      <td>clinker</td>\n",
       "      <td>[CAZ, CHA, EUR, Europe without Switzerland, IN...</td>\n",
       "    </tr>\n",
       "  </tbody>\n",
       "</table>\n",
       "</div>"
      ],
      "text/plain": [
       "                                            Category  \\\n",
       "0                       cement, dry feed rotary kiln   \n",
       "1  cement, dry feed rotary kiln, efficient, with ...   \n",
       "2                                                      \n",
       "\n",
       "                                              Market  Product  \\\n",
       "0                                 clinker production  clinker   \n",
       "1                                 clinker production  clinker   \n",
       "2  clinker production, dry feed rotary kiln, effi...  clinker   \n",
       "\n",
       "                                           Locations  \n",
       "0  [BR, CA-QC, CAZ, CH, CHA, CO, EC, EUR, Europe ...  \n",
       "1  [BR, CA-QC, CAZ, CH, CHA, CO, EC, EUR, Europe ...  \n",
       "2  [CAZ, CHA, EUR, Europe without Switzerland, IN...  "
      ]
     },
     "execution_count": 5,
     "metadata": {},
     "output_type": "execute_result"
    }
   ],
   "source": [
    "    df = debug_mapping_to_dataframe(\n",
    "    scenarios[0]\n",
    ")"
   ]
  },
  {
   "cell_type": "code",
   "execution_count": 13,
   "id": "390fff29-18bf-47ef-bbcd-13ec3e4912e6",
   "metadata": {},
   "outputs": [],
   "source": [
    "db = bw2data.Database(\"ecoinvent-3.10-cutoff\")"
   ]
  },
  {
   "cell_type": "code",
   "execution_count": 14,
   "id": "3559741a-8291-44d2-8cb5-a42d1e67258d",
   "metadata": {},
   "outputs": [
    {
     "data": {
      "text/plain": [
       "Brightway2 SQLiteBackend: ecoinvent-3.10-cutoff"
      ]
     },
     "execution_count": 14,
     "metadata": {},
     "output_type": "execute_result"
    }
   ],
   "source": [
    "db"
   ]
  },
  {
   "cell_type": "code",
   "execution_count": 19,
   "id": "54f252f9-55f6-41b5-a017-c9c689ad0fbc",
   "metadata": {},
   "outputs": [],
   "source": [
    "classifications = {}"
   ]
  },
  {
   "cell_type": "code",
   "execution_count": 20,
   "id": "0e254825-5e5d-4ee8-b785-0c628672c6be",
   "metadata": {},
   "outputs": [],
   "source": [
    "for ds in db:\n",
    "    for classification in ds[\"classifications\"]:\n",
    "        if not classification[0] in classifications:\n",
    "            classifications[classification[0]] = []\n",
    "        if not classification[1] in classifications[classification[0]]:\n",
    "            classifications[classification[0]].append(classification[1])"
   ]
  },
  {
   "cell_type": "code",
   "execution_count": 24,
   "id": "b9a54081-3a63-490c-963f-bfdebb3a9e8f",
   "metadata": {},
   "outputs": [
    {
     "data": {
      "text/plain": [
       "['EcoSpold01Categories', 'ISIC rev.4 ecoinvent', 'CPC']"
      ]
     },
     "execution_count": 24,
     "metadata": {},
     "output_type": "execute_result"
    }
   ],
   "source": [
    "list(classifications.keys())"
   ]
  },
  {
   "cell_type": "code",
   "execution_count": 25,
   "id": "2c3a5046-f5ac-4abe-b83d-83ab4b90b356",
   "metadata": {},
   "outputs": [
    {
     "data": {
      "text/html": [
       "<div>\n",
       "<style scoped>\n",
       "    .dataframe tbody tr th:only-of-type {\n",
       "        vertical-align: middle;\n",
       "    }\n",
       "\n",
       "    .dataframe tbody tr th {\n",
       "        vertical-align: top;\n",
       "    }\n",
       "\n",
       "    .dataframe thead th {\n",
       "        text-align: right;\n",
       "    }\n",
       "</style>\n",
       "<table border=\"1\" class=\"dataframe\">\n",
       "  <thead>\n",
       "    <tr style=\"text-align: right;\">\n",
       "      <th></th>\n",
       "      <th>0</th>\n",
       "    </tr>\n",
       "  </thead>\n",
       "  <tbody>\n",
       "    <tr>\n",
       "      <th>0</th>\n",
       "      <td>washing agents/builders</td>\n",
       "    </tr>\n",
       "    <tr>\n",
       "      <th>1</th>\n",
       "      <td>photovoltaic/production of components</td>\n",
       "    </tr>\n",
       "    <tr>\n",
       "      <th>2</th>\n",
       "      <td>building components/doors</td>\n",
       "    </tr>\n",
       "    <tr>\n",
       "      <th>3</th>\n",
       "      <td>ventilation/ventilation systems</td>\n",
       "    </tr>\n",
       "    <tr>\n",
       "      <th>4</th>\n",
       "      <td>photovoltaic/power plants</td>\n",
       "    </tr>\n",
       "    <tr>\n",
       "      <th>...</th>\n",
       "      <td>...</td>\n",
       "    </tr>\n",
       "    <tr>\n",
       "      <th>115</th>\n",
       "      <td>construction processes/civil engineering</td>\n",
       "    </tr>\n",
       "    <tr>\n",
       "      <th>116</th>\n",
       "      <td>textiles/production</td>\n",
       "    </tr>\n",
       "    <tr>\n",
       "      <th>117</th>\n",
       "      <td>lignite/heating systems</td>\n",
       "    </tr>\n",
       "    <tr>\n",
       "      <th>118</th>\n",
       "      <td>mechanical engineering/compressed air equipment</td>\n",
       "    </tr>\n",
       "    <tr>\n",
       "      <th>119</th>\n",
       "      <td>cooling/production of components</td>\n",
       "    </tr>\n",
       "  </tbody>\n",
       "</table>\n",
       "<p>120 rows × 1 columns</p>\n",
       "</div>"
      ],
      "text/plain": [
       "                                                   0\n",
       "0                            washing agents/builders\n",
       "1              photovoltaic/production of components\n",
       "2                          building components/doors\n",
       "3                    ventilation/ventilation systems\n",
       "4                          photovoltaic/power plants\n",
       "..                                               ...\n",
       "115         construction processes/civil engineering\n",
       "116                              textiles/production\n",
       "117                          lignite/heating systems\n",
       "118  mechanical engineering/compressed air equipment\n",
       "119                 cooling/production of components\n",
       "\n",
       "[120 rows x 1 columns]"
      ]
     },
     "execution_count": 25,
     "metadata": {},
     "output_type": "execute_result"
    }
   ],
   "source": [
    "import pandas as pd\n",
    "pd.DataFrame.from_dict(classifications['EcoSpold01Categories'])"
   ]
  },
  {
   "cell_type": "code",
   "execution_count": null,
   "id": "7db3d85c-6ac4-41df-8cc6-da32863e0c3d",
   "metadata": {},
   "outputs": [],
   "source": [
    "df.to_excel(\"mapping.xlsx\")"
   ]
  },
  {
   "cell_type": "code",
   "execution_count": 9,
   "id": "a7aba331-d50b-4613-b734-87615f221902",
   "metadata": {},
   "outputs": [],
   "source": [
    "inv = InventorySet(\n",
    "    database=ndb.scenarios[0][\"database\"],\n",
    "    version=\"3.10\",\n",
    "    model=\"remind\"\n",
    ")\n",
    "biomass_map = inv.generate_cement_map()\n",
    "df_biomass = debug_mapping_to_dataframe(biomass_map)\n",
    "df_biomass"
   ]
  },
  {
   "cell_type": "code",
   "execution_count": 6,
   "id": "1461747f13237266",
   "metadata": {
    "ExecuteTime": {
     "end_time": "2025-05-31T15:16:12.946035Z",
     "start_time": "2025-05-31T15:16:12.749927Z"
    }
   },
   "outputs": [
    {
     "name": "stdout",
     "output_type": "stream",
     "text": [
      "market for natural gas, low pressure JPN natural gas, low pressure\n",
      "market for natural gas, low pressure 1.0 JPN production\n",
      "biomethane production, from biogas upgrading, using amine scrubbing 0.25094126690230667 JPN technosphere\n",
      "natural gas, high pressure, import from AE 0.006514966900189843 RoW technosphere\n",
      "natural gas, high pressure, import from AU 0.13096181401672782 RoW technosphere\n",
      "natural gas, high pressure, import from EG 0.0009565722182054117 RoW technosphere\n",
      "natural gas, high pressure, import from ID 0.009271498155888725 RoW technosphere\n",
      "natural gas, high pressure, import from MY 0.050056608013976156 RoW technosphere\n",
      "natural gas, high pressure, import from NG 0.004153829905826414 RoW technosphere\n",
      "natural gas, high pressure, import from OM 0.009361828196270407 RoW technosphere\n",
      "natural gas, high pressure, import from PE 0.002624487359181432 JPN technosphere\n",
      "natural gas, high pressure, import from QA 0.044482293487315694 RoW technosphere\n",
      "natural gas, high pressure, import from RU 0.03162021892561264 RoW technosphere\n",
      "natural gas, high pressure, import from US 0.034757567944892986 RoW technosphere\n",
      "natural gas, liquefied, import from AE 0.006514966900189843 RoW technosphere\n",
      "natural gas, liquefied, import from AU 0.13096181401672782 RoW technosphere\n",
      "natural gas, liquefied, import from EG 0.0009565722182054117 RoW technosphere\n",
      "natural gas, liquefied, import from ID 0.009271498155888725 RoW technosphere\n",
      "natural gas, liquefied, import from MY 0.050056608013976156 RoW technosphere\n",
      "natural gas, liquefied, import from NG 0.004153829905826414 RoW technosphere\n",
      "natural gas, liquefied, import from OM 0.009361828196270407 RoW technosphere\n",
      "natural gas, liquefied, import from PE 0.002624487359181432 RoW technosphere\n",
      "natural gas, liquefied, import from QA 0.044482293487315694 RoW technosphere\n",
      "natural gas, liquefied, import from RU 0.03162021892561264 RoW technosphere\n",
      "natural gas, liquefied, import from US 0.034757567944892986 RoW technosphere\n",
      "\n"
     ]
    }
   ],
   "source": [
    "dataset = bw2data.Database(\"ecoinvent-3.11-cutoff\").random()\n",
    "\n",
    "list = []\n",
    "\n",
    "for exc in dataset.exchanges():\n",
    "    list.append(\n",
    "        (\n",
    "            dataset[\"name\"],\n",
    "            dataset.get(\"comment\", \"\"),\n",
    "            exc[\"name\"],\n",
    "            exc.input.get(\"reference product\"),\n",
    "            exc.input.get(\"location\"),\n",
    "            exc[\"type\"],\n",
    "            exc[\"amount\"],\n",
    "            exc[\"unit\"],\n",
    "        )\n",
    "    )"
   ]
  },
  {
   "cell_type": "code",
   "execution_count": 7,
   "id": "a63c33246ded8fe9",
   "metadata": {
    "ExecuteTime": {
     "end_time": "2025-05-30T10:15:24.052604Z",
     "start_time": "2025-05-30T10:15:24.024019Z"
    }
   },
   "outputs": [
    {
     "name": "stdout",
     "output_type": "stream",
     "text": [
      "market for transport, passenger car, EURO 3 1.0 RER production\n",
      "transport, passenger car, EURO 3 1.0 RER technosphere\n",
      "\n",
      "market for transport, passenger car with internal combustion engine 1.0 RER production\n",
      "transport, passenger car with internal combustion engine 1.0 RER technosphere\n",
      "\n",
      "market for transport, passenger car, EURO 4 1.0 RER production\n",
      "transport, passenger car, EURO 4 1.0 RER technosphere\n",
      "\n",
      "market for transport, passenger car, EURO 5 1.0 RER production\n",
      "transport, passenger car, EURO 5 1.0 RER technosphere\n",
      "\n",
      "market for transport, passenger car 1.0 RER production\n",
      "market for transport, passenger car 1.0 EUR technosphere\n",
      "\n"
     ]
    }
   ],
   "source": [
    "import pandas as pd\n",
    "pd.DataFrame(list, columns=[\"dataset\", \"comment\",\"name\", \"product\", \"location\", \"type\", \"amount\", \"unit\"])"
   ]
  },
  {
   "cell_type": "code",
   "execution_count": 5,
   "id": "abb7edb84da2ed10",
   "metadata": {
    "ExecuteTime": {
     "end_time": "2025-05-30T07:43:45.640111Z",
     "start_time": "2025-05-30T07:43:45.591358Z"
    }
   },
   "outputs": [
    {
     "name": "stdout",
     "output_type": "stream",
     "text": [
      "market for sawlog and veneer log, softwood, measured as solid wood under bark production CHA 1.0\n",
      "market for transport, freight train technosphere CN 13.2253954116397\n",
      "market for transport, freight, lorry, unspecified technosphere RoW 5.805904223724\n",
      "market for transport, freight, sea, bulk carrier for dry goods technosphere GLO 15.6522262861392\n",
      "softwood forestry, pine, sustainable forest management technosphere RoW 0.448540479487862\n",
      "softwood forestry, spruce, sustainable forest management technosphere RoW 0.551459520512138\n",
      "\n"
     ]
    }
   ],
   "source": [
    "for ds in ndb.scenarios[3][\"database\"]:\n",
    "    if ds[\"name\"] == \"transport, passenger bus, gasoline, 13m single deck urban bus, EURO-VI\":\n",
    "        print(ds[\"location\"])"
   ]
  },
  {
   "cell_type": "code",
   "execution_count": null,
   "id": "1dc344c2e8c8af47",
   "metadata": {},
   "outputs": [],
   "source": [
    "t = [\n",
    "    tech for tech in ndb.scenarios[0][\"iam data\"].daccs_energy_use.variables.values\n",
    "]"
   ]
  },
  {
   "cell_type": "code",
   "execution_count": null,
   "id": "fddad7e3b3ce3df0",
   "metadata": {},
   "outputs": [],
   "source": [
    "[x for x in t if x not in ndb.scenarios[0][\"iam data\"].production_volumes.variables.values]"
   ]
  },
  {
   "cell_type": "code",
   "execution_count": null,
   "id": "3d4787d6fd6eed0f",
   "metadata": {},
   "outputs": [],
   "source": [
    "ndb.scenarios[0][\"iam data\"].production_volumes.sel(\n",
    "    year=2060, variables=t\n",
    ")"
   ]
  },
  {
   "cell_type": "code",
   "execution_count": null,
   "id": "3042801535eb2edd",
   "metadata": {},
   "outputs": [],
   "source": [
    " ndb.scenarios[0][\"iam data\"].daccs_energy_use.sel(region=\"CAZ\", year=2060)"
   ]
  },
  {
   "cell_type": "code",
   "execution_count": null,
   "id": "1f83c7e86330f01d",
   "metadata": {},
   "outputs": [],
   "source": [
    "    ei311 = list(set([\n",
    "    (\n",
    "        act[\"name\"],\n",
    "        act[\"reference product\"],\n",
    "    )\n",
    "    for act in bw2data.Database(\"ecoinvent-3.11-cutoff\")\n",
    "]))"
   ]
  },
  {
   "cell_type": "code",
   "execution_count": null,
   "id": "11481d3ada198833",
   "metadata": {},
   "outputs": [],
   "source": []
  },
  {
   "cell_type": "code",
   "execution_count": null,
   "id": "10bfdd08837e1191",
   "metadata": {},
   "outputs": [],
   "source": [
    "ndb.write_db_to_simapro()"
   ]
  },
  {
   "cell_type": "code",
   "execution_count": null,
   "id": "c45644d449e49f48",
   "metadata": {},
   "outputs": [],
   "source": [
    "ndb.scenarios[1][\"iam data\"].carbon_capture_rate"
   ]
  },
  {
   "cell_type": "code",
   "execution_count": null,
   "id": "8f8ce523f532db76",
   "metadata": {},
   "outputs": [],
   "source": [
    "from collections import defaultdict\n",
    "res = defaultdict(float)\n",
    "for ds in ndb.scenarios[1][\"database\"]:\n",
    "    if ds[\"name\"]==\"market group for heat, district or industrial, natural gas\":\n",
    "        print(ds[\"location\"], ds[\"name\"])\n",
    "        for e in ds[\"exchanges\"]:\n",
    "            print(e[\"name\"], e[\"amount\"], e.get(\"location\"), e[\"type\"])\n",
    "        print()\n"
   ]
  },
  {
   "cell_type": "code",
   "execution_count": null,
   "id": "8c8a1fec9589751f",
   "metadata": {},
   "outputs": [],
   "source": [
    "from premise.geomap import Geomap\n",
    "geo = Geomap(\"remind\")\n",
    "geo.ecoinvent_to_iam_location(\"Europe, without Russia and Turkey\")"
   ]
  },
  {
   "cell_type": "code",
   "execution_count": null,
   "id": "bd3545b05dd6a461",
   "metadata": {},
   "outputs": [],
   "source": [
    "geo.rev_additional_mappings"
   ]
  },
  {
   "cell_type": "code",
   "execution_count": null,
   "id": "3c11a56fae6edb1e",
   "metadata": {},
   "outputs": [],
   "source": [
    "import pandas as pd\n",
    "import matplotlib.pyplot as plt\n",
    "pd.DataFrame.from_dict(res, orient=\"index\").plot(kind=\"bar\", figsize=(20, 5))\n",
    "plt.ylabel(\"kg heavy fuel oil/kWh\")\n",
    "plt.savefig(\"electricity production, oil.png\")"
   ]
  },
  {
   "cell_type": "code",
   "execution_count": null,
   "id": "d7306de6c3f7d666",
   "metadata": {},
   "outputs": [],
   "source": [
    "ndb.scenarios[0][\"iam data\"].electricity_efficiencies.sel(variables=\"Biomass IGCC CCS\", year=2050)"
   ]
  },
  {
   "cell_type": "code",
   "execution_count": null,
   "id": "2ec8df24fcb542f1",
   "metadata": {},
   "outputs": [],
   "source": [
    "ndb.scenarios[0][\"iam data\"].gas_markets.sel(region=\"World\")"
   ]
  },
  {
   "cell_type": "code",
   "execution_count": null,
   "id": "5b76ad182f3baeba",
   "metadata": {},
   "outputs": [],
   "source": [
    "for ds in ndb.scenarios[0][\"database\"]:\n",
    "    for e in ds[\"exchanges\"]:\n",
    "        if e[\"name\"] == \"market for platinum\" and e[\"product\"] == \"platinum\":\n",
    "            print(ds[\"name\"], ds[\"location\"], e[\"name\"], e[\"location\"])"
   ]
  },
  {
   "cell_type": "code",
   "execution_count": null,
   "id": "72550b1fed0d35f0",
   "metadata": {},
   "outputs": [],
   "source": [
    "from premise.activity_maps import InventorySet\n",
    "inv = InventorySet(ndb.database, \"3.9\")"
   ]
  },
  {
   "cell_type": "code",
   "execution_count": null,
   "id": "92643f7e6927245d",
   "metadata": {},
   "outputs": [],
   "source": [
    "inv.generate_powerplant_map()"
   ]
  },
  {
   "cell_type": "code",
   "execution_count": null,
   "id": "de440f0db2b13ec4",
   "metadata": {},
   "outputs": [],
   "source": [
    "ndb.write_db_to_brightway(\"test_metals\")"
   ]
  },
  {
   "cell_type": "code",
   "execution_count": null,
   "id": "cd94ca83dbc3b727",
   "metadata": {},
   "outputs": [],
   "source": [
    "len(acts)"
   ]
  },
  {
   "cell_type": "code",
   "execution_count": null,
   "id": "6fe20db999c31460",
   "metadata": {},
   "outputs": [],
   "source": [
    "import bw2data\n",
    "bw2io.BW2Package.export_obj(obj=bw.Database(\"brian\"), filename=\"db_for_brian.bw2package\")"
   ]
  },
  {
   "cell_type": "code",
   "execution_count": null,
   "id": "d8a7689d7ea9f548",
   "metadata": {},
   "outputs": [],
   "source": []
  },
  {
   "cell_type": "code",
   "execution_count": null,
   "id": "ce2d1a7299bd6782",
   "metadata": {},
   "outputs": [],
   "source": [
    "ei_acts = list(set([(a[\"name\"], a[\"reference product\"]) for a in bw.Database(\"ecoinvent 3.9.1 cutoff\")]))\n",
    "print(len(ei_acts))"
   ]
  },
  {
   "cell_type": "code",
   "execution_count": null,
   "id": "dcb64973be80c3c",
   "metadata": {},
   "outputs": [],
   "source": [
    "for ds in i.data:\n",
    "    if (ds[\"name\"], ds[\"reference product\"]) not in ei_acts:\n",
    "        print(ds[\"name\"])"
   ]
  },
  {
   "cell_type": "code",
   "execution_count": null,
   "id": "32a8ddbc29d21b73",
   "metadata": {},
   "outputs": [],
   "source": [
    "for ds in i.data:\n",
    "    print(ds[\"name\"])"
   ]
  },
  {
   "cell_type": "code",
   "execution_count": null,
   "id": "6a2b812bfe7ed3ef",
   "metadata": {},
   "outputs": [],
   "source": [
    "i.statistics()"
   ]
  },
  {
   "cell_type": "code",
   "execution_count": null,
   "id": "8b670e0fa0fda81f",
   "metadata": {},
   "outputs": [],
   "source": [
    "bw.get_activity(('brian', '360c5e612a154ebb8cee2650bcc1bc75_copy1'))"
   ]
  },
  {
   "cell_type": "code",
   "execution_count": null,
   "id": "fbe44335831df1",
   "metadata": {},
   "outputs": [],
   "source": [
    "bw.projects.set_current(\"ei39\")"
   ]
  },
  {
   "cell_type": "code",
   "execution_count": null,
   "id": "af8fd5290167c25c",
   "metadata": {},
   "outputs": [],
   "source": [
    "import csv\n",
    "\n",
    "with open(\"flows_biosphere_39.csv\", \"w\", newline=\"\", ) as f:\n",
    "    writer = csv.writer(f, delimiter=\";\")\n",
    "    writer.writerows(l)"
   ]
  },
  {
   "cell_type": "code",
   "execution_count": null,
   "id": "92bdc92f238e12fa",
   "metadata": {},
   "outputs": [],
   "source": [
    "import numpy as np\n",
    "for ds in ndb.scenarios[1][\"database\"]:\n",
    "    if ds[\"name\"] == (\"carbon dioxide, captured from atmosphere, with a solvent-based direct air capture system, 1MtCO2, with waste heat, and grid electricity\",\n",
    "                            \"carbon dioxide, captured from atmosphere\"):\n",
    "            print(ds[\"name\"], ds[\"location\"])"
   ]
  },
  {
   "cell_type": "code",
   "execution_count": null,
   "id": "ecdb14752a986bf5",
   "metadata": {},
   "outputs": [],
   "source": [
    "ndb.scenarios[0][\"iam data\"].fuel_markets.sel(region=\"WEU\", year=2050)"
   ]
  },
  {
   "cell_type": "code",
   "execution_count": null,
   "id": "bd553b607c0eec02",
   "metadata": {},
   "outputs": [],
   "source": [
    "ndb.update_electricity()"
   ]
  },
  {
   "cell_type": "code",
   "execution_count": null,
   "id": "5a73163962ead122",
   "metadata": {},
   "outputs": [],
   "source": [
    "ndb.generate_scenario_report()"
   ]
  },
  {
   "cell_type": "code",
   "execution_count": null,
   "id": "fb9125119e460f9",
   "metadata": {},
   "outputs": [],
   "source": [
    "ndb.update_all()"
   ]
  },
  {
   "cell_type": "code",
   "execution_count": null,
   "id": "d2d9db61092ecf24",
   "metadata": {},
   "outputs": [],
   "source": [
    "ndb.generate_change_report()"
   ]
  },
  {
   "cell_type": "code",
   "execution_count": null,
   "id": "ee6489cf5bf6d7b4",
   "metadata": {},
   "outputs": [],
   "source": []
  },
  {
   "cell_type": "code",
   "execution_count": null,
   "id": "bbaf04d22ed3a879",
   "metadata": {},
   "outputs": [],
   "source": [
    "ndb.write_db_to_brightway([\"test_dac\", \"test_dac2\"])"
   ]
  },
  {
   "cell_type": "code",
   "execution_count": null,
   "id": "81b6e36e4b777179",
   "metadata": {},
   "outputs": [],
   "source": [
    "Geomap()"
   ]
  },
  {
   "cell_type": "code",
   "execution_count": null,
   "id": "e8a297d21acbf349",
   "metadata": {},
   "outputs": [],
   "source": [
    "ndb.scenarios[0][\"iam data\"].carbon_capture_rate.sel(variables=\"steel\")"
   ]
  },
  {
   "cell_type": "code",
   "execution_count": null,
   "id": "598d2ca51773519e",
   "metadata": {},
   "outputs": [],
   "source": []
  }
 ],
 "metadata": {
  "kernelspec": {
   "display_name": "Python 3 (ipykernel)",
   "language": "python",
   "name": "python3"
  },
  "language_info": {
   "codemirror_mode": {
    "name": "ipython",
    "version": 3
   },
   "file_extension": ".py",
   "mimetype": "text/x-python",
   "name": "python",
   "nbconvert_exporter": "python",
   "pygments_lexer": "ipython3",
   "version": "3.11.12"
  }
 },
 "nbformat": 4,
 "nbformat_minor": 5
}
