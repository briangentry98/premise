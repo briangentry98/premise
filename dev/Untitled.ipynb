{
 "cells": [
  {
   "cell_type": "code",
   "execution_count": 1,
   "id": "536a04a5dcd99805",
   "metadata": {
    "ExecuteTime": {
     "end_time": "2025-05-31T19:24:42.355616Z",
     "start_time": "2025-05-31T19:24:33.871646Z"
    }
   },
   "outputs": [
    {
     "name": "stdout",
     "output_type": "stream",
     "text": [
      "premise v.(2, 3, 0, 'dev0')\n",
      "+------------------------------------------------------------------+\n",
      "| Warning                                                          |\n",
      "+------------------------------------------------------------------+\n",
      "| Because some of the scenarios can yield LCI databases            |\n",
      "| containing net negative emission technologies (NET),             |\n",
      "| it is advised to account for biogenic CO2 flows when calculating |\n",
      "| Global Warming potential indicators.                             |\n",
      "| `premise_gwp` provides characterization factors for such flows.  |\n",
      "| It also provides factors for hydrogen emissions to air.          |\n",
      "|                                                                  |\n",
      "| Within your bw2 project:                                         |\n",
      "| from premise_gwp import add_premise_gwp                          |\n",
      "| add_premise_gwp()                                                |\n",
      "+------------------------------------------------------------------+\n",
      "+--------------------------------+----------------------------------+\n",
      "| Utils functions                | Description                      |\n",
      "+--------------------------------+----------------------------------+\n",
      "| clear_cache()                  | Clears the cache folder. Useful  |\n",
      "|                                | when updating `premise`or        |\n",
      "|                                | encountering issues with         |\n",
      "|                                | inventories.                     |\n",
      "+--------------------------------+----------------------------------+\n",
      "| get_regions_definition(model)  | Retrieves the list of countries  |\n",
      "|                                | for each region of the model.    |\n",
      "+--------------------------------+----------------------------------+\n",
      "| ndb.NewDatabase(...)           | Generates a summary of the most  |\n",
      "| ndb.generate_scenario_report() | important scenarios' variables.  |\n",
      "+--------------------------------+----------------------------------+\n",
      "Keep uncertainty data?\n",
      "NewDatabase(..., keep_source_db_uncertainty=True), keep_imports_uncertainty=True)\n",
      "\n",
      "Hide these messages?\n",
      "NewDatabase(..., quiet=True)\n",
      "- Extracting source database\n",
      "- Extracting inventories\n",
      "- Fetching IAM data\n",
      "Done!\n"
     ]
    }
   ],
   "source": [
    "from premise import *\n",
    "import bw2data\n",
    "bw2data.projects.set_current(\"ecoinvent-3.10-cutoff\")\n",
    "#bw2data.projects.set_current(\"ecoinvent-3.8-cutoff\")\n",
    "#bw2data.projects.set_current(\"ecoinvent-3.9.1-cutoff_bw25\")\n",
    "#clear_inventory_cache()\n",
    "scenarios = [\n",
    "    {\"model\": \"remind\", \"pathway\": \"SSP2-rollBack\", \"year\": 2050},\n",
    "    #{\"model\": \"image\", \"pathway\": \"SSP2-VLHO\", \"year\": 2050},\n",
    "    #{\"model\": \"tiam-ucl\", \"pathway\": \"SSP2-RCP19\", \"year\": 2050},\n",
    "]\n",
    "\n",
    "ndb = NewDatabase(\n",
    "        scenarios=scenarios,\n",
    "        source_db=\"ecoinvent-3.10-cutoff\",\n",
    "        source_version=\"3.10\",\n",
    "        biosphere_name=\"ecoinvent-3.10-biosphere\",\n",
    "        key='tUePmX_S5B8ieZkkM7WUU2CnO8SmShwmAeWK9x2rTFo=',\n",
    "        #system_model=\"consequential\",\n",
    "        keep_imports_uncertainty=True,\n",
    "        keep_source_db_uncertainty=True\n",
    ")\n",
    "#ndb.write_db_to_brightway(\"test final energy 2\")"
   ]
  },
  {
   "cell_type": "code",
   "execution_count": 2,
   "id": "f6b6f582ed096b0e",
   "metadata": {
    "ExecuteTime": {
     "end_time": "2025-05-31T19:24:56.297176Z",
     "start_time": "2025-05-31T19:24:42.364648Z"
    }
   },
   "outputs": [
    {
     "name": "stderr",
     "output_type": "stream",
     "text": [
      "Processing scenarios for all sectors:   0%|     | 0/1 [00:00<?, ?it/s]"
     ]
    },
    {
     "name": "stdout",
     "output_type": "stream",
     "text": [
      "Warning: No activities found for Gas ST -- revise mapping.\n",
      "Warning: No activities found for CON_LOSSHF -- revise mapping.\n",
      "Warning: No activities found for PP_ENGGAS -- revise mapping.\n",
      "Warning: No activities found for PP_MOD_CCSBIOG -- revise mapping.\n",
      "Warning: No activities found for PP_MOD_CCSHC1 -- revise mapping.\n",
      "Warning: No activities found for TRA_OT_AIRGSL -- revise mapping.\n"
     ]
    },
    {
     "name": "stderr",
     "output_type": "stream",
     "text": [
      "Processing scenarios for all sectors:   0%|     | 0/1 [01:25<?, ?it/s]\n"
     ]
    },
    {
     "ename": "KeyError",
     "evalue": "\"The variable(s) ['truck, battery electric, 3.5 metric ton', 'truck, fuel cell electric, 3.5 metric ton', 'truck, diesel, 3.5 metric ton', 'truck, compressed gas, 3.5 metric ton', 'truck, battery electric, 7.5 metric ton', 'truck, fuel cell electric, 7.5 metric ton', 'truck, diesel, 7.5 metric ton', 'truck, compressed gas, 7.5 metric ton', 'truck, battery electric, 18 metric ton', 'truck, fuel cell electric, 18 metric ton', 'truck, diesel, 18 metric ton', 'truck, compressed gas, 18 metric ton', 'truck, battery electric, 26 metric ton', 'truck, fuel cell electric, 26 metric ton', 'truck, diesel, 26 metric ton', 'truck, compressed gas, 26 metric ton', 'truck, battery electric, 40 metric ton', 'truck, fuel cell electric, 40 metric ton', 'truck, diesel, 40 metric ton', 'truck, compressed gas, 40 metric ton'] not found in production volumes data. Available variables: [].\"",
     "output_type": "error",
     "traceback": [
      "\u001b[31m---------------------------------------------------------------------------\u001b[39m",
      "\u001b[31mKeyError\u001b[39m                                  Traceback (most recent call last)",
      "\u001b[36mCell\u001b[39m\u001b[36m \u001b[39m\u001b[32mIn[2]\u001b[39m\u001b[32m, line 1\u001b[39m\n\u001b[32m----> \u001b[39m\u001b[32m1\u001b[39m \u001b[43mndb\u001b[49m\u001b[43m.\u001b[49m\u001b[43mupdate\u001b[49m\u001b[43m(\u001b[49m\u001b[43m)\u001b[49m\n",
      "\u001b[36mFile \u001b[39m\u001b[32m~/GitHub/premise/premise/new_database.py:1019\u001b[39m, in \u001b[36mNewDatabase.update\u001b[39m\u001b[34m(self, sectors)\u001b[39m\n\u001b[32m   1017\u001b[39m update_func = sector_update_methods[sector][\u001b[33m\"\u001b[39m\u001b[33mfunc\u001b[39m\u001b[33m\"\u001b[39m]\n\u001b[32m   1018\u001b[39m fixed_args = sector_update_methods[sector][\u001b[33m\"\u001b[39m\u001b[33margs\u001b[39m\u001b[33m\"\u001b[39m]\n\u001b[32m-> \u001b[39m\u001b[32m1019\u001b[39m scenario = \u001b[43mupdate_func\u001b[49m\u001b[43m(\u001b[49m\u001b[43mscenario\u001b[49m\u001b[43m,\u001b[49m\u001b[43m \u001b[49m\u001b[43m*\u001b[49m\u001b[43mfixed_args\u001b[49m\u001b[43m)\u001b[49m\n\u001b[32m   1021\u001b[39m \u001b[38;5;28;01mif\u001b[39;00m \u001b[33m\"\u001b[39m\u001b[33mapplied functions\u001b[39m\u001b[33m\"\u001b[39m \u001b[38;5;129;01mnot\u001b[39;00m \u001b[38;5;129;01min\u001b[39;00m scenario:\n\u001b[32m   1022\u001b[39m     scenario[\u001b[33m\"\u001b[39m\u001b[33mapplied functions\u001b[39m\u001b[33m\"\u001b[39m] = []\n",
      "\u001b[36mFile \u001b[39m\u001b[32m~/GitHub/premise/premise/transport.py:69\u001b[39m, in \u001b[36m_update_vehicles\u001b[39m\u001b[34m(scenario, vehicle_type, version, system_model)\u001b[39m\n\u001b[32m     66\u001b[39m trspt.regionalize_transport_datasets()\n\u001b[32m     68\u001b[39m \u001b[38;5;28;01mif\u001b[39;00m fleet_data[vehicle_type] \u001b[38;5;129;01mis\u001b[39;00m \u001b[38;5;129;01mnot\u001b[39;00m \u001b[38;5;28;01mNone\u001b[39;00m:\n\u001b[32m---> \u001b[39m\u001b[32m69\u001b[39m     \u001b[43mtrspt\u001b[49m\u001b[43m.\u001b[49m\u001b[43mcreate_vehicle_markets\u001b[49m\u001b[43m(\u001b[49m\u001b[43m)\u001b[49m\n\u001b[32m     70\u001b[39m     trspt.relink_transport_datasets()\n\u001b[32m     72\u001b[39m scenario[\u001b[33m\"\u001b[39m\u001b[33mdatabase\u001b[39m\u001b[33m\"\u001b[39m] = trspt.database\n",
      "\u001b[36mFile \u001b[39m\u001b[32m~/GitHub/premise/premise/transport.py:447\u001b[39m, in \u001b[36mTransport.create_vehicle_markets\u001b[39m\u001b[34m(self)\u001b[39m\n\u001b[32m    445\u001b[39m     \u001b[38;5;28;01mfor\u001b[39;00m size \u001b[38;5;129;01min\u001b[39;00m [\u001b[33m\"\u001b[39m\u001b[33m3.5t\u001b[39m\u001b[33m\"\u001b[39m, \u001b[33m\"\u001b[39m\u001b[33m7.5t\u001b[39m\u001b[33m\"\u001b[39m, \u001b[33m\"\u001b[39m\u001b[33m18t\u001b[39m\u001b[33m\"\u001b[39m, \u001b[33m\"\u001b[39m\u001b[33m26t\u001b[39m\u001b[33m\"\u001b[39m, \u001b[33m\"\u001b[39m\u001b[33m40t\u001b[39m\u001b[33m\"\u001b[39m]:\n\u001b[32m    446\u001b[39m         new_name = \u001b[33mf\u001b[39m\u001b[33m\"\u001b[39m\u001b[38;5;132;01m{\u001b[39;00mname\u001b[38;5;132;01m}\u001b[39;00m\u001b[33m, \u001b[39m\u001b[38;5;132;01m{\u001b[39;00msize\u001b[38;5;132;01m}\u001b[39;00m\u001b[33m gross weight, long haul\u001b[39m\u001b[33m\"\u001b[39m\n\u001b[32m--> \u001b[39m\u001b[32m447\u001b[39m         \u001b[38;5;28;43mself\u001b[39;49m\u001b[43m.\u001b[49m\u001b[43mprocess_and_add_markets\u001b[49m\u001b[43m(\u001b[49m\n\u001b[32m    448\u001b[39m \u001b[43m            \u001b[49m\u001b[43mname\u001b[49m\u001b[43m=\u001b[49m\u001b[43mnew_name\u001b[49m\u001b[43m,\u001b[49m\n\u001b[32m    449\u001b[39m \u001b[43m            \u001b[49m\u001b[43mreference_product\u001b[49m\u001b[43m=\u001b[49m\u001b[43mreference_product\u001b[49m\u001b[43m,\u001b[49m\n\u001b[32m    450\u001b[39m \u001b[43m            \u001b[49m\u001b[43munit\u001b[49m\u001b[43m=\u001b[49m\u001b[43munit\u001b[49m\u001b[43m,\u001b[49m\n\u001b[32m    451\u001b[39m \u001b[43m            \u001b[49m\u001b[43mmapping\u001b[49m\u001b[43m=\u001b[49m\u001b[38;5;28;43mself\u001b[39;49m\u001b[43m.\u001b[49m\u001b[43mvehicle_map\u001b[49m\u001b[43m,\u001b[49m\n\u001b[32m    452\u001b[39m \u001b[43m            \u001b[49m\u001b[43msystem_model\u001b[49m\u001b[43m=\u001b[49m\u001b[38;5;28;43mself\u001b[39;49m\u001b[43m.\u001b[49m\u001b[43msystem_model\u001b[49m\u001b[43m,\u001b[49m\n\u001b[32m    453\u001b[39m \u001b[43m            \u001b[49m\u001b[43mproduction_volumes\u001b[49m\u001b[43m=\u001b[49m\u001b[38;5;28;43mself\u001b[39;49m\u001b[43m.\u001b[49m\u001b[43miam_data\u001b[49m\u001b[43m.\u001b[49m\u001b[43mproduction_volumes\u001b[49m\u001b[43m.\u001b[49m\u001b[43msel\u001b[49m\u001b[43m(\u001b[49m\n\u001b[32m    454\u001b[39m \u001b[43m                \u001b[49m\u001b[43mvariables\u001b[49m\u001b[43m=\u001b[49m\u001b[43m[\u001b[49m\n\u001b[32m    455\u001b[39m \u001b[43m                    \u001b[49m\u001b[43mv\u001b[49m\n\u001b[32m    456\u001b[39m \u001b[43m                    \u001b[49m\u001b[38;5;28;43;01mfor\u001b[39;49;00m\u001b[43m \u001b[49m\u001b[43mv\u001b[49m\u001b[43m \u001b[49m\u001b[38;5;129;43;01min\u001b[39;49;00m\u001b[43m \u001b[49m\u001b[38;5;28;43mself\u001b[39;49m\u001b[43m.\u001b[49m\u001b[43miam_data\u001b[49m\u001b[43m.\u001b[49m\u001b[43mproduction_volumes\u001b[49m\u001b[43m.\u001b[49m\u001b[43mcoords\u001b[49m\u001b[43m[\u001b[49m\n\u001b[32m    457\u001b[39m \u001b[43m                        \u001b[49m\u001b[33;43m\"\u001b[39;49m\u001b[33;43mvariables\u001b[39;49m\u001b[33;43m\"\u001b[39;49m\n\u001b[32m    458\u001b[39m \u001b[43m                    \u001b[49m\u001b[43m]\u001b[49m\u001b[43m.\u001b[49m\u001b[43mvalues\u001b[49m\n\u001b[32m    459\u001b[39m \u001b[43m                    \u001b[49m\u001b[38;5;28;43;01mif\u001b[39;49;00m\u001b[43m \u001b[49m\u001b[43msize\u001b[49m\u001b[43m \u001b[49m\u001b[38;5;129;43;01min\u001b[39;49;00m\u001b[43m \u001b[49m\u001b[43mv\u001b[49m\n\u001b[32m    460\u001b[39m \u001b[43m                \u001b[49m\u001b[43m]\u001b[49m\n\u001b[32m    461\u001b[39m \u001b[43m            \u001b[49m\u001b[43m)\u001b[49m\u001b[43m,\u001b[49m\n\u001b[32m    462\u001b[39m \u001b[43m        \u001b[49m\u001b[43m)\u001b[49m\n\u001b[32m    464\u001b[39m \u001b[38;5;66;03m# if trucks, adjust battery size\u001b[39;00m\n\u001b[32m    465\u001b[39m \u001b[38;5;28;01mif\u001b[39;00m \u001b[38;5;28mself\u001b[39m.vehicle_type == \u001b[33m\"\u001b[39m\u001b[33mtruck\u001b[39m\u001b[33m\"\u001b[39m:\n",
      "\u001b[36mFile \u001b[39m\u001b[32m~/GitHub/premise/premise/transformation.py:728\u001b[39m, in \u001b[36mBaseTransformation.process_and_add_markets\u001b[39m\u001b[34m(self, name, reference_product, unit, mapping, production_volumes, additional_exchanges_fn, system_model, blacklist, conversion_factor)\u001b[39m\n\u001b[32m    725\u001b[39m \u001b[38;5;28;01mif\u001b[39;00m production_volumes \u001b[38;5;129;01mis\u001b[39;00m \u001b[38;5;129;01mnot\u001b[39;00m \u001b[38;5;28;01mNone\u001b[39;00m:\n\u001b[32m    726\u001b[39m     regions = [region \u001b[38;5;28;01mfor\u001b[39;00m region \u001b[38;5;129;01min\u001b[39;00m \u001b[38;5;28mself\u001b[39m.regions \u001b[38;5;28;01mif\u001b[39;00m region != \u001b[33m\"\u001b[39m\u001b[33mWorld\u001b[39m\u001b[33m\"\u001b[39m]\n\u001b[32m    727\u001b[39m     production_volumes, technology_shares_dict, regional_shares_dict = (\n\u001b[32m--> \u001b[39m\u001b[32m728\u001b[39m         \u001b[38;5;28;43mself\u001b[39;49m\u001b[43m.\u001b[49m\u001b[43mget_technology_and_regional_production_shares\u001b[49m\u001b[43m(\u001b[49m\n\u001b[32m    729\u001b[39m \u001b[43m            \u001b[49m\u001b[43mproduction_volumes\u001b[49m\u001b[43m=\u001b[49m\u001b[43mproduction_volumes\u001b[49m\u001b[43m,\u001b[49m\n\u001b[32m    730\u001b[39m \u001b[43m            \u001b[49m\u001b[43mmapping\u001b[49m\u001b[43m=\u001b[49m\u001b[43mmapping\u001b[49m\u001b[43m,\u001b[49m\n\u001b[32m    731\u001b[39m \u001b[43m        \u001b[49m\u001b[43m)\u001b[49m\n\u001b[32m    732\u001b[39m     )\n\u001b[32m    734\u001b[39m \u001b[38;5;28;01melse\u001b[39;00m:\n\u001b[32m    735\u001b[39m     regions = \u001b[38;5;28mself\u001b[39m.regions\n",
      "\u001b[36mFile \u001b[39m\u001b[32m~/GitHub/premise/premise/transformation.py:645\u001b[39m, in \u001b[36mBaseTransformation.get_technology_and_regional_production_shares\u001b[39m\u001b[34m(self, production_volumes, mapping)\u001b[39m\n\u001b[32m    642\u001b[39m     year = production_volumes.year.values.max()\n\u001b[32m    644\u001b[39m \u001b[38;5;28;01mif\u001b[39;00m \u001b[38;5;129;01mnot\u001b[39;00m \u001b[38;5;28many\u001b[39m(v \u001b[38;5;129;01min\u001b[39;00m production_volumes.variables.values \u001b[38;5;28;01mfor\u001b[39;00m v \u001b[38;5;129;01min\u001b[39;00m mapping.keys()):\n\u001b[32m--> \u001b[39m\u001b[32m645\u001b[39m     \u001b[38;5;28;01mraise\u001b[39;00m \u001b[38;5;167;01mKeyError\u001b[39;00m(\n\u001b[32m    646\u001b[39m         \u001b[33mf\u001b[39m\u001b[33m\"\u001b[39m\u001b[33mThe variable(s) \u001b[39m\u001b[38;5;132;01m{\u001b[39;00m[v\u001b[38;5;250m \u001b[39m\u001b[38;5;28;01mfor\u001b[39;00m\u001b[38;5;250m \u001b[39mv\u001b[38;5;250m \u001b[39m\u001b[38;5;129;01min\u001b[39;00m\u001b[38;5;250m \u001b[39m\u001b[38;5;28mlist\u001b[39m(mapping.keys())\u001b[38;5;250m \u001b[39m\u001b[38;5;28;01mif\u001b[39;00m\u001b[38;5;250m \u001b[39mv\u001b[38;5;250m \u001b[39m\u001b[38;5;129;01mnot\u001b[39;00m\u001b[38;5;250m \u001b[39m\u001b[38;5;129;01min\u001b[39;00m\u001b[38;5;250m \u001b[39mproduction_volumes.variables.values]\u001b[38;5;132;01m}\u001b[39;00m\u001b[33m not \u001b[39m\u001b[33m\"\u001b[39m\n\u001b[32m    647\u001b[39m         \u001b[33mf\u001b[39m\u001b[33m\"\u001b[39m\u001b[33mfound in production volumes data. \u001b[39m\u001b[33m\"\u001b[39m\n\u001b[32m    648\u001b[39m         \u001b[33mf\u001b[39m\u001b[33m\"\u001b[39m\u001b[33mAvailable variables: \u001b[39m\u001b[38;5;132;01m{\u001b[39;00m\u001b[38;5;28msorted\u001b[39m(\u001b[38;5;28mlist\u001b[39m(production_volumes.variables.values))\u001b[38;5;132;01m}\u001b[39;00m\u001b[33m.\u001b[39m\u001b[33m\"\u001b[39m\n\u001b[32m    649\u001b[39m     )\n\u001b[32m    651\u001b[39m \u001b[38;5;28;01mtry\u001b[39;00m:\n\u001b[32m    652\u001b[39m     variables = [\n\u001b[32m    653\u001b[39m         v\n\u001b[32m    654\u001b[39m         \u001b[38;5;28;01mfor\u001b[39;00m v \u001b[38;5;129;01min\u001b[39;00m \u001b[38;5;28mlist\u001b[39m(mapping.keys())\n\u001b[32m    655\u001b[39m         \u001b[38;5;28;01mif\u001b[39;00m v \u001b[38;5;129;01min\u001b[39;00m production_volumes.variables.values\n\u001b[32m    656\u001b[39m     ]\n",
      "\u001b[31mKeyError\u001b[39m: \"The variable(s) ['truck, battery electric, 3.5 metric ton', 'truck, fuel cell electric, 3.5 metric ton', 'truck, diesel, 3.5 metric ton', 'truck, compressed gas, 3.5 metric ton', 'truck, battery electric, 7.5 metric ton', 'truck, fuel cell electric, 7.5 metric ton', 'truck, diesel, 7.5 metric ton', 'truck, compressed gas, 7.5 metric ton', 'truck, battery electric, 18 metric ton', 'truck, fuel cell electric, 18 metric ton', 'truck, diesel, 18 metric ton', 'truck, compressed gas, 18 metric ton', 'truck, battery electric, 26 metric ton', 'truck, fuel cell electric, 26 metric ton', 'truck, diesel, 26 metric ton', 'truck, compressed gas, 26 metric ton', 'truck, battery electric, 40 metric ton', 'truck, fuel cell electric, 40 metric ton', 'truck, diesel, 40 metric ton', 'truck, compressed gas, 40 metric ton'] not found in production volumes data. Available variables: [].\""
     ]
    }
   ],
   "source": [
    "ndb.update()"
   ]
  },
  {
   "cell_type": "code",
   "execution_count": 3,
   "id": "1cbe913512716d4d",
   "metadata": {
    "ExecuteTime": {
     "end_time": "2025-05-31T14:52:28.977133Z",
     "start_time": "2025-05-31T14:52:28.846350Z"
    }
   },
   "outputs": [],
   "source": [
    "ndb.write_db_to_brightway()"
   ]
  },
  {
   "cell_type": "code",
   "execution_count": 4,
   "id": "a98f6a056e254034",
   "metadata": {
    "ExecuteTime": {
     "end_time": "2025-05-31T14:53:08.167508Z",
     "start_time": "2025-05-31T14:53:08.162949Z"
    }
   },
   "outputs": [
    {
     "data": {
      "text/plain": [
       "'CAZ'"
      ]
     },
     "execution_count": 4,
     "metadata": {},
     "output_type": "execute_result"
    }
   ],
   "source": [
    "ndb.generate_change_report()"
   ]
  },
  {
   "cell_type": "code",
   "execution_count": 3,
   "id": "d1371e26c1ef3f12",
   "metadata": {
    "ExecuteTime": {
     "end_time": "2025-05-31T19:29:02.063908Z",
     "start_time": "2025-05-31T19:24:56.349879Z"
    }
   },
   "outputs": [
    {
     "name": "stdout",
     "output_type": "stream",
     "text": [
      "Write new database(s) to Brightway.\n",
      "Running all checks...\n",
      "Minor anomalies found: check the change report.\n",
      "Warning: No valid output stream.\n",
      "Title: Writing activities to SQLite3 database:\n",
      "  Started: 05/31/2025 21:25:58\n",
      "  Finished: 05/31/2025 21:26:18\n",
      "  Total time elapsed: 00:00:19\n",
      "  CPU %: 92.40\n",
      "  Memory %: 15.12\n",
      "Created database: test cng 3\n",
      "Generate scenario report.\n",
      "Report saved under /Users/romain/GitHub/premise/dev/export/scenario_report.\n",
      "Generate change report.\n",
      "Report saved under /Users/romain/GitHub/premise/dev.\n"
     ]
    }
   ],
   "source": [
    "ndb.write_db_to_brightway()"
   ]
  },
  {
   "cell_type": "code",
   "execution_count": null,
   "id": "ff3bf957b44ebe9d",
   "metadata": {},
   "outputs": [],
   "source": [
    "from premise.activity_maps import InventorySet, debug_mapping_to_dataframe\n",
    "from premise.utils import load_database\n",
    "\n",
    "for scenario in ndb.scenarios:\n",
    "    scenario = load_database(scenario)"
   ]
  },
  {
   "cell_type": "code",
   "execution_count": 16,
   "id": "f4460b04-3c97-48f2-ad57-ab5fc08803b4",
   "metadata": {},
   "outputs": [
    {
     "data": {
      "text/plain": [
       "<Compressed Sparse Row sparse matrix of dtype 'float64'\n",
       "\twith 335965 stored elements and shape (2687, 26329)>"
      ]
     },
     "execution_count": 16,
     "metadata": {},
     "output_type": "execute_result"
    }
   ],
   "source": [
    "for ds in ndb.scenarios[0][\"database\"]:\n",
    "    for e in ds[\"exchanges\"]:\n",
    "        if e[\"type\"] == \"technosphere\":\n",
    "            if e[\"name\"] == \"primary zinc production from concentrate\" and e[\"product\"] == \"cadmium\":\n",
    "                print(ds[\"name\"], ds[\"location\"], e[\"name\"], e[\"product\"], e[\"location\"])"
   ]
  },
  {
   "cell_type": "code",
   "execution_count": 3,
   "id": "ccce5b22-4785-49ad-afb1-a78802aedfc1",
   "metadata": {
    "ExecuteTime": {
     "end_time": "2025-05-31T15:14:34.316563Z",
     "start_time": "2025-05-31T15:14:31.150889Z"
    }
   },
   "outputs": [],
   "source": [
    "    df = debug_mapping_to_dataframe(\n",
    "    scenarios[0]\n",
    ")"
   ]
  },
  {
   "cell_type": "code",
   "execution_count": 4,
   "id": "1e6a097d-612d-42fc-970b-641ed6d730a5",
   "metadata": {},
   "outputs": [],
   "source": [
    "df.to_excel(\"mapping.xlsx\")"
   ]
  },
  {
   "cell_type": "code",
   "execution_count": 5,
   "id": "be71ab42-7ac0-481e-8aa7-ace9833d9bf5",
   "metadata": {},
   "outputs": [],
   "source": [
    "inv = InventorySet(\n",
    "    database=ndb.scenarios[0][\"database\"],\n",
    "    version=\"3.10\",\n",
    "    model=\"remind\"\n",
    ")\n",
    "biomass_map = inv.generate_cement_map()\n",
    "df_biomass = debug_mapping_to_dataframe(biomass_map)\n",
    "df_biomass"
   ]
  },
  {
   "cell_type": "code",
   "execution_count": 5,
   "id": "e4ae8960-848b-46a7-bc4d-113e047bc30e",
   "metadata": {},
   "outputs": [
    {
     "data": {
      "text/html": [
       "<div>\n",
       "<style scoped>\n",
       "    .dataframe tbody tr th:only-of-type {\n",
       "        vertical-align: middle;\n",
       "    }\n",
       "\n",
       "    .dataframe tbody tr th {\n",
       "        vertical-align: top;\n",
       "    }\n",
       "\n",
       "    .dataframe thead th {\n",
       "        text-align: right;\n",
       "    }\n",
       "</style>\n",
       "<table border=\"1\" class=\"dataframe\">\n",
       "  <thead>\n",
       "    <tr style=\"text-align: right;\">\n",
       "      <th></th>\n",
       "      <th>Category</th>\n",
       "      <th>Market</th>\n",
       "      <th>Product</th>\n",
       "      <th>Locations</th>\n",
       "    </tr>\n",
       "  </thead>\n",
       "  <tbody>\n",
       "    <tr>\n",
       "      <th>0</th>\n",
       "      <td>cement, dry feed rotary kiln</td>\n",
       "      <td>clinker production</td>\n",
       "      <td>clinker</td>\n",
       "      <td>[BR, CA-QC, CAZ, CH, CHA, CO, EC, EUR, Europe ...</td>\n",
       "    </tr>\n",
       "    <tr>\n",
       "      <th>1</th>\n",
       "      <td>cement, dry feed rotary kiln, efficient, with ...</td>\n",
       "      <td>clinker production</td>\n",
       "      <td>clinker</td>\n",
       "      <td>[BR, CA-QC, CAZ, CH, CHA, CO, EC, EUR, Europe ...</td>\n",
       "    </tr>\n",
       "    <tr>\n",
       "      <th>2</th>\n",
       "      <td></td>\n",
       "      <td>clinker production, dry feed rotary kiln, effi...</td>\n",
       "      <td>clinker</td>\n",
       "      <td>[CAZ, CHA, EUR, Europe without Switzerland, IN...</td>\n",
       "    </tr>\n",
       "  </tbody>\n",
       "</table>\n",
       "</div>"
      ],
      "text/plain": [
       "                                            Category  \\\n",
       "0                       cement, dry feed rotary kiln   \n",
       "1  cement, dry feed rotary kiln, efficient, with ...   \n",
       "2                                                      \n",
       "\n",
       "                                              Market  Product  \\\n",
       "0                                 clinker production  clinker   \n",
       "1                                 clinker production  clinker   \n",
       "2  clinker production, dry feed rotary kiln, effi...  clinker   \n",
       "\n",
       "                                           Locations  \n",
       "0  [BR, CA-QC, CAZ, CH, CHA, CO, EC, EUR, Europe ...  \n",
       "1  [BR, CA-QC, CAZ, CH, CHA, CO, EC, EUR, Europe ...  \n",
       "2  [CAZ, CHA, EUR, Europe without Switzerland, IN...  "
      ]
     },
     "execution_count": 5,
     "metadata": {},
     "output_type": "execute_result"
    }
   ],
   "source": [
    "dataset = bw2data.Database(\"ecoinvent-3.11-cutoff\").random()\n",
    "\n",
    "list = []\n",
    "\n",
    "for exc in dataset.exchanges():\n",
    "    list.append(\n",
    "        (\n",
    "            dataset[\"name\"],\n",
    "            dataset.get(\"comment\", \"\"),\n",
    "            exc[\"name\"],\n",
    "            exc.input.get(\"reference product\"),\n",
    "            exc.input.get(\"location\"),\n",
    "            exc[\"type\"],\n",
    "            exc[\"amount\"],\n",
    "            exc[\"unit\"],\n",
    "        )\n",
    "    )"
   ]
  },
  {
   "cell_type": "code",
   "execution_count": null,
   "id": "7db3d85c-6ac4-41df-8cc6-da32863e0c3d",
   "metadata": {},
   "outputs": [],
   "source": [
    "import pandas as pd\n",
    "pd.DataFrame(list, columns=[\"dataset\", \"comment\",\"name\", \"product\", \"location\", \"type\", \"amount\", \"unit\"])"
   ]
  },
  {
   "cell_type": "code",
   "execution_count": 9,
   "id": "a7aba331-d50b-4613-b734-87615f221902",
   "metadata": {},
   "outputs": [],
   "source": [
    "for ds in ndb.scenarios[3][\"database\"]:\n",
    "    if ds[\"name\"] == \"transport, passenger bus, gasoline, 13m single deck urban bus, EURO-VI\":\n",
    "        print(ds[\"location\"])"
   ]
  },
  {
   "cell_type": "code",
   "execution_count": 6,
   "id": "1461747f13237266",
   "metadata": {
    "ExecuteTime": {
     "end_time": "2025-05-31T15:16:12.946035Z",
     "start_time": "2025-05-31T15:16:12.749927Z"
    }
   },
   "outputs": [
    {
     "name": "stdout",
     "output_type": "stream",
     "text": [
      "market for natural gas, low pressure JPN natural gas, low pressure\n",
      "market for natural gas, low pressure 1.0 JPN production\n",
      "biomethane production, from biogas upgrading, using amine scrubbing 0.25094126690230667 JPN technosphere\n",
      "natural gas, high pressure, import from AE 0.006514966900189843 RoW technosphere\n",
      "natural gas, high pressure, import from AU 0.13096181401672782 RoW technosphere\n",
      "natural gas, high pressure, import from EG 0.0009565722182054117 RoW technosphere\n",
      "natural gas, high pressure, import from ID 0.009271498155888725 RoW technosphere\n",
      "natural gas, high pressure, import from MY 0.050056608013976156 RoW technosphere\n",
      "natural gas, high pressure, import from NG 0.004153829905826414 RoW technosphere\n",
      "natural gas, high pressure, import from OM 0.009361828196270407 RoW technosphere\n",
      "natural gas, high pressure, import from PE 0.002624487359181432 JPN technosphere\n",
      "natural gas, high pressure, import from QA 0.044482293487315694 RoW technosphere\n",
      "natural gas, high pressure, import from RU 0.03162021892561264 RoW technosphere\n",
      "natural gas, high pressure, import from US 0.034757567944892986 RoW technosphere\n",
      "natural gas, liquefied, import from AE 0.006514966900189843 RoW technosphere\n",
      "natural gas, liquefied, import from AU 0.13096181401672782 RoW technosphere\n",
      "natural gas, liquefied, import from EG 0.0009565722182054117 RoW technosphere\n",
      "natural gas, liquefied, import from ID 0.009271498155888725 RoW technosphere\n",
      "natural gas, liquefied, import from MY 0.050056608013976156 RoW technosphere\n",
      "natural gas, liquefied, import from NG 0.004153829905826414 RoW technosphere\n",
      "natural gas, liquefied, import from OM 0.009361828196270407 RoW technosphere\n",
      "natural gas, liquefied, import from PE 0.002624487359181432 RoW technosphere\n",
      "natural gas, liquefied, import from QA 0.044482293487315694 RoW technosphere\n",
      "natural gas, liquefied, import from RU 0.03162021892561264 RoW technosphere\n",
      "natural gas, liquefied, import from US 0.034757567944892986 RoW technosphere\n",
      "\n"
     ]
    }
   ],
   "source": [
    "t = [\n",
    "    tech for tech in ndb.scenarios[0][\"iam data\"].daccs_energy_use.variables.values\n",
    "]"
   ]
  },
  {
   "cell_type": "code",
   "execution_count": 7,
   "id": "a63c33246ded8fe9",
   "metadata": {
    "ExecuteTime": {
     "end_time": "2025-05-30T10:15:24.052604Z",
     "start_time": "2025-05-30T10:15:24.024019Z"
    }
   },
   "outputs": [
    {
     "name": "stdout",
     "output_type": "stream",
     "text": [
      "market for transport, passenger car, EURO 3 1.0 RER production\n",
      "transport, passenger car, EURO 3 1.0 RER technosphere\n",
      "\n",
      "market for transport, passenger car with internal combustion engine 1.0 RER production\n",
      "transport, passenger car with internal combustion engine 1.0 RER technosphere\n",
      "\n",
      "market for transport, passenger car, EURO 4 1.0 RER production\n",
      "transport, passenger car, EURO 4 1.0 RER technosphere\n",
      "\n",
      "market for transport, passenger car, EURO 5 1.0 RER production\n",
      "transport, passenger car, EURO 5 1.0 RER technosphere\n",
      "\n",
      "market for transport, passenger car 1.0 RER production\n",
      "market for transport, passenger car 1.0 EUR technosphere\n",
      "\n"
     ]
    }
   ],
   "source": [
    "[x for x in t if x not in ndb.scenarios[0][\"iam data\"].production_volumes.variables.values]"
   ]
  },
  {
   "cell_type": "code",
   "execution_count": 5,
   "id": "abb7edb84da2ed10",
   "metadata": {
    "ExecuteTime": {
     "end_time": "2025-05-30T07:43:45.640111Z",
     "start_time": "2025-05-30T07:43:45.591358Z"
    }
   },
   "outputs": [
    {
     "name": "stdout",
     "output_type": "stream",
     "text": [
      "market for sawlog and veneer log, softwood, measured as solid wood under bark production CHA 1.0\n",
      "market for transport, freight train technosphere CN 13.2253954116397\n",
      "market for transport, freight, lorry, unspecified technosphere RoW 5.805904223724\n",
      "market for transport, freight, sea, bulk carrier for dry goods technosphere GLO 15.6522262861392\n",
      "softwood forestry, pine, sustainable forest management technosphere RoW 0.448540479487862\n",
      "softwood forestry, spruce, sustainable forest management technosphere RoW 0.551459520512138\n",
      "\n"
     ]
    }
   ],
   "source": [
    "ndb.scenarios[0][\"iam data\"].production_volumes.sel(\n",
    "    year=2060, variables=t\n",
    ")"
   ]
  },
  {
   "cell_type": "code",
   "execution_count": null,
   "id": "1dc344c2e8c8af47",
   "metadata": {},
   "outputs": [],
   "source": [
    " ndb.scenarios[0][\"iam data\"].daccs_energy_use.sel(region=\"CAZ\", year=2060)"
   ]
  },
  {
   "cell_type": "code",
   "execution_count": null,
   "id": "fddad7e3b3ce3df0",
   "metadata": {},
   "outputs": [],
   "source": [
    "    ei311 = list(set([\n",
    "    (\n",
    "        act[\"name\"],\n",
    "        act[\"reference product\"],\n",
    "    )\n",
    "    for act in bw2data.Database(\"ecoinvent-3.11-cutoff\")\n",
    "]))"
   ]
  },
  {
   "cell_type": "code",
   "execution_count": null,
   "id": "3d4787d6fd6eed0f",
   "metadata": {},
   "outputs": [],
   "source": []
  },
  {
   "cell_type": "code",
   "execution_count": null,
   "id": "3042801535eb2edd",
   "metadata": {},
   "outputs": [],
   "source": [
    "ndb.write_db_to_simapro()"
   ]
  },
  {
   "cell_type": "code",
   "execution_count": null,
   "id": "1f83c7e86330f01d",
   "metadata": {},
   "outputs": [],
   "source": [
    "ndb.scenarios[1][\"iam data\"].carbon_capture_rate"
   ]
  },
  {
   "cell_type": "code",
   "execution_count": null,
   "id": "11481d3ada198833",
   "metadata": {},
   "outputs": [],
   "source": [
    "from collections import defaultdict\n",
    "res = defaultdict(float)\n",
    "for ds in ndb.scenarios[1][\"database\"]:\n",
    "    if ds[\"name\"]==\"market group for heat, district or industrial, natural gas\":\n",
    "        print(ds[\"location\"], ds[\"name\"])\n",
    "        for e in ds[\"exchanges\"]:\n",
    "            print(e[\"name\"], e[\"amount\"], e.get(\"location\"), e[\"type\"])\n",
    "        print()\n"
   ]
  },
  {
   "cell_type": "code",
   "execution_count": null,
   "id": "10bfdd08837e1191",
   "metadata": {},
   "outputs": [],
   "source": [
    "from premise.geomap import Geomap\n",
    "geo = Geomap(\"remind\")\n",
    "geo.ecoinvent_to_iam_location(\"Europe, without Russia and Turkey\")"
   ]
  },
  {
   "cell_type": "code",
   "execution_count": null,
   "id": "c45644d449e49f48",
   "metadata": {},
   "outputs": [],
   "source": [
    "geo.rev_additional_mappings"
   ]
  },
  {
   "cell_type": "code",
   "execution_count": null,
   "id": "8f8ce523f532db76",
   "metadata": {},
   "outputs": [],
   "source": [
    "import pandas as pd\n",
    "import matplotlib.pyplot as plt\n",
    "pd.DataFrame.from_dict(res, orient=\"index\").plot(kind=\"bar\", figsize=(20, 5))\n",
    "plt.ylabel(\"kg heavy fuel oil/kWh\")\n",
    "plt.savefig(\"electricity production, oil.png\")"
   ]
  },
  {
   "cell_type": "code",
   "execution_count": null,
   "id": "8c8a1fec9589751f",
   "metadata": {},
   "outputs": [],
   "source": [
    "ndb.scenarios[0][\"iam data\"].electricity_efficiencies.sel(variables=\"Biomass IGCC CCS\", year=2050)"
   ]
  },
  {
   "cell_type": "code",
   "execution_count": null,
   "id": "bd3545b05dd6a461",
   "metadata": {},
   "outputs": [],
   "source": [
    "ndb.scenarios[0][\"iam data\"].gas_markets.sel(region=\"World\")"
   ]
  },
  {
   "cell_type": "code",
   "execution_count": null,
   "id": "3c11a56fae6edb1e",
   "metadata": {},
   "outputs": [],
   "source": [
    "for ds in ndb.scenarios[0][\"database\"]:\n",
    "    for e in ds[\"exchanges\"]:\n",
    "        if e[\"name\"] == \"market for platinum\" and e[\"product\"] == \"platinum\":\n",
    "            print(ds[\"name\"], ds[\"location\"], e[\"name\"], e[\"location\"])"
   ]
  },
  {
   "cell_type": "code",
   "execution_count": null,
   "id": "d7306de6c3f7d666",
   "metadata": {},
   "outputs": [],
   "source": [
    "from premise.activity_maps import InventorySet\n",
    "inv = InventorySet(ndb.database, \"3.9\")"
   ]
  },
  {
   "cell_type": "code",
   "execution_count": null,
   "id": "2ec8df24fcb542f1",
   "metadata": {},
   "outputs": [],
   "source": [
    "inv.generate_powerplant_map()"
   ]
  },
  {
   "cell_type": "code",
   "execution_count": null,
   "id": "5b76ad182f3baeba",
   "metadata": {},
   "outputs": [],
   "source": [
    "ndb.write_db_to_brightway(\"test_metals\")"
   ]
  },
  {
   "cell_type": "code",
   "execution_count": null,
   "id": "72550b1fed0d35f0",
   "metadata": {},
   "outputs": [],
   "source": [
    "len(acts)"
   ]
  },
  {
   "cell_type": "code",
   "execution_count": null,
   "id": "92643f7e6927245d",
   "metadata": {},
   "outputs": [],
   "source": [
    "import bw2data\n",
    "bw2io.BW2Package.export_obj(obj=bw.Database(\"brian\"), filename=\"db_for_brian.bw2package\")"
   ]
  },
  {
   "cell_type": "code",
   "execution_count": null,
   "id": "de440f0db2b13ec4",
   "metadata": {},
   "outputs": [],
   "source": []
  },
  {
   "cell_type": "code",
   "execution_count": null,
   "id": "cd94ca83dbc3b727",
   "metadata": {},
   "outputs": [],
   "source": [
    "ei_acts = list(set([(a[\"name\"], a[\"reference product\"]) for a in bw.Database(\"ecoinvent 3.9.1 cutoff\")]))\n",
    "print(len(ei_acts))"
   ]
  },
  {
   "cell_type": "code",
   "execution_count": null,
   "id": "6fe20db999c31460",
   "metadata": {},
   "outputs": [],
   "source": [
    "for ds in i.data:\n",
    "    if (ds[\"name\"], ds[\"reference product\"]) not in ei_acts:\n",
    "        print(ds[\"name\"])"
   ]
  },
  {
   "cell_type": "code",
   "execution_count": null,
   "id": "d8a7689d7ea9f548",
   "metadata": {},
   "outputs": [],
   "source": [
    "for ds in i.data:\n",
    "    print(ds[\"name\"])"
   ]
  },
  {
   "cell_type": "code",
   "execution_count": null,
   "id": "ce2d1a7299bd6782",
   "metadata": {},
   "outputs": [],
   "source": [
    "i.statistics()"
   ]
  },
  {
   "cell_type": "code",
   "execution_count": null,
   "id": "dcb64973be80c3c",
   "metadata": {},
   "outputs": [],
   "source": [
    "bw.get_activity(('brian', '360c5e612a154ebb8cee2650bcc1bc75_copy1'))"
   ]
  },
  {
   "cell_type": "code",
   "execution_count": null,
   "id": "32a8ddbc29d21b73",
   "metadata": {},
   "outputs": [],
   "source": [
    "bw.projects.set_current(\"ei39\")"
   ]
  },
  {
   "cell_type": "code",
   "execution_count": null,
   "id": "6a2b812bfe7ed3ef",
   "metadata": {},
   "outputs": [],
   "source": [
    "import csv\n",
    "\n",
    "with open(\"flows_biosphere_39.csv\", \"w\", newline=\"\", ) as f:\n",
    "    writer = csv.writer(f, delimiter=\";\")\n",
    "    writer.writerows(l)"
   ]
  },
  {
   "cell_type": "code",
   "execution_count": null,
   "id": "8b670e0fa0fda81f",
   "metadata": {},
   "outputs": [],
   "source": [
    "import numpy as np\n",
    "for ds in ndb.scenarios[1][\"database\"]:\n",
    "    if ds[\"name\"] == (\"carbon dioxide, captured from atmosphere, with a solvent-based direct air capture system, 1MtCO2, with waste heat, and grid electricity\",\n",
    "                            \"carbon dioxide, captured from atmosphere\"):\n",
    "            print(ds[\"name\"], ds[\"location\"])"
   ]
  },
  {
   "cell_type": "code",
   "execution_count": null,
   "id": "fbe44335831df1",
   "metadata": {},
   "outputs": [],
   "source": [
    "ndb.scenarios[0][\"iam data\"].fuel_markets.sel(region=\"WEU\", year=2050)"
   ]
  },
  {
   "cell_type": "code",
   "execution_count": null,
   "id": "af8fd5290167c25c",
   "metadata": {},
   "outputs": [],
   "source": [
    "ndb.update_electricity()"
   ]
  },
  {
   "cell_type": "code",
   "execution_count": null,
   "id": "92bdc92f238e12fa",
   "metadata": {},
   "outputs": [],
   "source": [
    "ndb.generate_scenario_report()"
   ]
  },
  {
   "cell_type": "code",
   "execution_count": null,
   "id": "ecdb14752a986bf5",
   "metadata": {},
   "outputs": [],
   "source": [
    "ndb.update_all()"
   ]
  },
  {
   "cell_type": "code",
   "execution_count": null,
   "id": "bd553b607c0eec02",
   "metadata": {},
   "outputs": [],
   "source": [
    "ndb.generate_change_report()"
   ]
  },
  {
   "cell_type": "code",
   "execution_count": null,
   "id": "5a73163962ead122",
   "metadata": {},
   "outputs": [],
   "source": []
  },
  {
   "cell_type": "code",
   "execution_count": null,
   "id": "fb9125119e460f9",
   "metadata": {},
   "outputs": [],
   "source": [
    "ndb.write_db_to_brightway([\"test_dac\", \"test_dac2\"])"
   ]
  },
  {
   "cell_type": "code",
   "execution_count": null,
   "id": "d2d9db61092ecf24",
   "metadata": {},
   "outputs": [],
   "source": [
    "Geomap()"
   ]
  },
  {
   "cell_type": "code",
   "execution_count": null,
   "id": "ee6489cf5bf6d7b4",
   "metadata": {},
   "outputs": [],
   "source": [
    "ndb.scenarios[0][\"iam data\"].carbon_capture_rate.sel(variables=\"steel\")"
   ]
  },
  {
   "cell_type": "code",
   "execution_count": null,
   "id": "bbaf04d22ed3a879",
   "metadata": {},
   "outputs": [],
   "source": []
  }
 ],
 "metadata": {
  "kernelspec": {
   "display_name": "Python 3 (ipykernel)",
   "language": "python",
   "name": "python3"
  },
  "language_info": {
   "codemirror_mode": {
    "name": "ipython",
    "version": 3
   },
   "file_extension": ".py",
   "mimetype": "text/x-python",
   "name": "python",
   "nbconvert_exporter": "python",
   "pygments_lexer": "ipython3",
   "version": "3.11.12"
  }
 },
 "nbformat": 4,
 "nbformat_minor": 5
}
