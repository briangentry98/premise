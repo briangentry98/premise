{
 "cells": [
  {
   "cell_type": "code",
   "execution_count": 1,
   "id": "401b7493bc9dc350",
   "metadata": {
    "ExecuteTime": {
     "end_time": "2025-04-09T10:15:16.607169Z",
     "start_time": "2025-04-09T10:15:03.305769Z"
    }
   },
   "outputs": [
    {
     "name": "stdout",
     "output_type": "stream",
     "text": [
      "Loading variables from /Users/romain/Github/premise/dev/variables.yaml\n",
      "USER_DATA_BASE_DIR: test\n",
      "premise v.(2, 3, 0, 'dev0')\n",
      "+------------------------------------------------------------------+\n",
      "| Warning                                                          |\n",
      "+------------------------------------------------------------------+\n",
      "| Because some of the scenarios can yield LCI databases            |\n",
      "| containing net negative emission technologies (NET),             |\n",
      "| it is advised to account for biogenic CO2 flows when calculating |\n",
      "| Global Warming potential indicators.                             |\n",
      "| `premise_gwp` provides characterization factors for such flows.  |\n",
      "| It also provides factors for hydrogen emissions to air.          |\n",
      "|                                                                  |\n",
      "| Within your bw2 project:                                         |\n",
      "| from premise_gwp import add_premise_gwp                          |\n",
      "| add_premise_gwp()                                                |\n",
      "+------------------------------------------------------------------+\n",
      "+--------------------------------+----------------------------------+\n",
      "| Utils functions                | Description                      |\n",
      "+--------------------------------+----------------------------------+\n",
      "| clear_cache()                  | Clears the cache folder. Useful  |\n",
      "|                                | when updating `premise`or        |\n",
      "|                                | encountering issues with         |\n",
      "|                                | inventories.                     |\n",
      "+--------------------------------+----------------------------------+\n",
      "| get_regions_definition(model)  | Retrieves the list of countries  |\n",
      "|                                | for each region of the model.    |\n",
      "+--------------------------------+----------------------------------+\n",
      "| ndb.NewDatabase(...)           | Generates a summary of the most  |\n",
      "| ndb.generate_scenario_report() | important scenarios' variables.  |\n",
      "+--------------------------------+----------------------------------+\n",
      "Keep uncertainty data?\n",
      "NewDatabase(..., keep_source_db_uncertainty=True), keep_imports_uncertainty=True)\n",
      "\n",
      "Hide these messages?\n",
      "NewDatabase(..., quiet=True)\n",
      "- Extracting source database\n",
      "- Extracting inventories\n",
      "- Fetching IAM data\n",
      "The following variables are missing from the IAM file:\n",
      "+----------------------------------------------------------------------+\n",
      "|                               Variable                               |\n",
      "+----------------------------------------------------------------------+\n",
      "| FE|Transport|Bunkers|Freight|International Shipping|Liquids|Hydrogen |\n",
      "+----------------------------------------------------------------------+\n",
      "The following variables are missing from the IAM file:\n",
      "+-----------------------------------------------------------------------------------+\n",
      "|                                      Variable                                     |\n",
      "+-----------------------------------------------------------------------------------+\n",
      "|   FE|Transport|Pass|Road|LDV|Two Wheelers|Motorcycle(50-250cc)|Liquids|Hydrogen   |\n",
      "|               FE|Transport|Freight|Domestic Shipping|Liquids|Biomass              |\n",
      "|             FE|Transport|Pass|Road|LDV|Two Wheelers|Moped|Electricity             |\n",
      "|   FE|Transport|Pass|Road|LDV|Four Wheelers|Large|Large Car and SUV|Gases|Biomass  |\n",
      "|      FE|Transport|Pass|Road|LDV|Four Wheelers|Large|Large Car|Liquids|Fossil      |\n",
      "|                    FE|Non-energy Use|Industry|Gases|+|Hydrogen                    |\n",
      "|      FE|Transport|Pass|Road|LDV|Four Wheelers|Medium|Midsize Car|Gases|Fossil     |\n",
      "|    FE|Transport|Pass|Road|LDV|Four Wheelers|Small|Subcompact Car|Gases|Hydrogen   |\n",
      "|                FE|Transport|Pass|Domestic Aviation|Liquids|Hydrogen               |\n",
      "|        FE|Transport|Pass|Road|LDV|Four Wheelers|Small|Mini Car|Gases|Fossil       |\n",
      "|     FE|Transport|Pass|Road|LDV|Four Wheelers|Small|Subcompact Car|Electricity     |\n",
      "|              FE|Transport|Freight|Domestic Shipping|Liquids|Hydrogen              |\n",
      "|     FE|Transport|Pass|Road|LDV|Four Wheelers|Medium|Midsize Car|Gases|Biomass     |\n",
      "|  FE|Transport|Pass|Road|LDV|Four Wheelers|Large|Large Car and SUV|Liquids|Fossil  |\n",
      "|    FE|Transport|Pass|Road|LDV|Four Wheelers|Large|Large Car and SUV|Electricity   |\n",
      "|    FE|Transport|Pass|Road|LDV|Four Wheelers|Medium|Midsize Car|Liquids|Biomass    |\n",
      "|             FE|Transport|Freight|Road|Light|Truck(0-3_5t)|Electricity             |\n",
      "|       FE|Transport|Pass|Road|LDV|Four Wheelers|Large|Large Car|Gases|Fossil       |\n",
      "|             FE|Transport|Freight|Road|Heavy|Truck(18t)|Liquids|Biomass            |\n",
      "|            FE|Transport|Freight|Road|Light|Truck(0-3_5t)|Gases|Biomass            |\n",
      "|            FE|Transport|Freight|Road|Light|Truck(7_5t)|Liquids|Hydrogen           |\n",
      "|    FE|Transport|Pass|Road|LDV|Four Wheelers|Medium|Midsize Car|Liquids|Hydrogen   |\n",
      "|     FE|Transport|Pass|Road|LDV|Four Wheelers|Medium|Midsize Car|Gases|Hydrogen    |\n",
      "| FE|Transport|Pass|Road|LDV|Four Wheelers|Large|Large Car and SUV|Liquids|Hydrogen |\n",
      "|  FE|Transport|Pass|Road|LDV|Four Wheelers|Large|Large Car and SUV|Gases|Hydrogen  |\n",
      "|     FE|Transport|Pass|Road|LDV|Four Wheelers|Medium|Midsize Car|Liquids|Fossil    |\n",
      "|       Final Energy|Industry|Chemicals|Heavy Refinery Products|Solids|Biomass      |\n",
      "|                      FE|Transport|Pass|Road|Bus|Gases|Biomass                     |\n",
      "|            FE|Transport|Freight|Road|Heavy|Truck(26t)|Liquids|Hydrogen            |\n",
      "|             FE|Transport|Freight|Road|Heavy|Truck(40t)|Liquids|Biomass            |\n",
      "|             FE|Transport|Freight|Road|Light|Truck(7_5t)|Gases|Hydrogen            |\n",
      "|                     FE|CDR|OAE, traditional calciner|+|Diesel                     |\n",
      "|         FE|Transport|Pass|Road|LDV|Four Wheelers|Large|Large Car|Hydrogen         |\n",
      "|      FE|Transport|Pass|Road|LDV|Four Wheelers|Small|Mini Car|Liquids|Biomass      |\n",
      "|         FE|Transport|Bunkers|Freight|International Shipping|Liquids|Fossil        |\n",
      "|                       FE|CDR|OAE, electric calciner|+|Diesel                      |\n",
      "|       FE|Transport|Pass|Road|LDV|Two Wheelers|Motorcycle(>250cc)|Electricity      |\n",
      "|     FE|Transport|Pass|Road|LDV|Four Wheelers|Large|Large Car|Liquids|Hydrogen     |\n",
      "|                      FE|Transport|Pass|Road|Bus|Gases|Fossil                      |\n",
      "|    FE|Transport|Pass|Road|LDV|Two Wheelers|Motorcycle(50-250cc)|Liquids|Fossil    |\n",
      "|                     FE|Non-energy Use|Industry|Gases|+|Biomass                    |\n",
      "|               FE|Transport|Freight|Road|Heavy|Truck(26t)|Electricity              |\n",
      "|                Final Energy|Industry|Food Processing|Liquids|Fossil               |\n",
      "|              FE|Transport|Freight|Road|Heavy|Truck(26t)|Gases|Fossil              |\n",
      "|                      FE|CDR|OAE, electric calciner|+|Hydrogen                     |\n",
      "|              FE|Transport|Freight|Road|Heavy|Truck(40t)|Gases|Fossil              |\n",
      "|       FE|Transport|Pass|Road|LDV|Four Wheelers|Large|Large Car|Gases|Biomass      |\n",
      "|               FE|Transport|Freight|Road|Light|Truck(0-3_5t)|Hydrogen              |\n",
      "|            FE|Transport|Freight|Road|Light|Truck(7_5t)|Liquids|Biomass            |\n",
      "|    FE|Transport|Pass|Road|LDV|Two Wheelers|Motorcycle(50-250cc)|Liquids|Biomass   |\n",
      "|     FE|Transport|Pass|Road|LDV|Two Wheelers|Motorcycle(>250cc)|Liquids|Fossil     |\n",
      "|                FE|Transport|Freight|Road|Heavy|Truck(26t)|Hydrogen                |\n",
      "|                 FE|Transport|Pass|Domestic Aviation|Liquids|Fossil                |\n",
      "|            FE|Transport|Freight|Road|Light|Truck(0-3_5t)|Gases|Hydrogen           |\n",
      "|                    FE|Non-energy Use|Industry|Liquids|+|Biomass                   |\n",
      "|      FE|Transport|Pass|Road|LDV|Four Wheelers|Large|Large Car|Gases|Hydrogen      |\n",
      "|       Final Energy|Industry|Chemicals|Heavy Refinery Products|Liquids|Fossil      |\n",
      "|              FE|Transport|Freight|Road|Heavy|Truck(26t)|Gases|Biomass             |\n",
      "|         FE|Transport|Pass|Road|LDV|Four Wheelers|Large|Van|Liquids|Biomass        |\n",
      "|    FE|Transport|Pass|Road|LDV|Four Wheelers|Small|Subcompact Car|Gases|Biomass    |\n",
      "|    FE|Transport|Pass|Road|LDV|Two Wheelers|Motorcycle(>250cc)|Liquids|Hydrogen    |\n",
      "|        FE|Transport|Pass|Road|LDV|Four Wheelers|Large|Van|Liquids|Hydrogen        |\n",
      "|                    FE|CDR|OAE, traditional calciner|+|Hydrogen                    |\n",
      "|            FE|Transport|Pass|Road|LDV|Two Wheelers|Moped|Liquids|Fossil           |\n",
      "|          FE|Transport|Pass|Road|LDV|Four Wheelers|Small|Mini Car|Hydrogen         |\n",
      "|            FE|Transport|Pass|Road|LDV|Four Wheelers|Large|Van|Hydrogen            |\n",
      "|              FE|Transport|Freight|Road|Heavy|Truck(40t)|Gases|Biomass             |\n",
      "|                FE|Transport|Pass|Domestic Aviation|Liquids|Biomass                |\n",
      "|   FE|Transport|Pass|Road|LDV|Four Wheelers|Small|Subcompact Car|Liquids|Biomass   |\n",
      "|       FE|Transport|Pass|Road|LDV|Four Wheelers|Small|Subcompact Car|Hydrogen      |\n",
      "|     FE|Transport|Pass|Road|LDV|Four Wheelers|Medium|Compact Car|Liquids|Fossil    |\n",
      "|                    FE|Transport|Pass|Domestic Aviation|Hydrogen                   |\n",
      "|        Final Energy|Industry|Chemicals|High-Value Chemicals|Solids|Biomass        |\n",
      "|             FE|Transport|Freight|Road|Heavy|Truck(18t)|Liquids|Fossil             |\n",
      "|               Final Energy|Industry|Chemicals|Ammonia|Liquids|Fossil              |\n",
      "|                Final Energy|Industry|Pulp and Paper|Solids|Biomass                |\n",
      "|               FE|Transport|Freight|Domestic Shipping|Liquids|Fossil               |\n",
      "|              Final Energy|Industry|Chemicals|Methanol|Liquids|Fossil              |\n",
      "|                FE|Transport|Freight|Road|Heavy|Truck(18t)|Hydrogen                |\n",
      "|        FE|Transport|Pass|Road|LDV|Four Wheelers|Large|Large Car|Electricity       |\n",
      "|     FE|Transport|Pass|Road|LDV|Two Wheelers|Motorcycle(>250cc)|Liquids|Biomass    |\n",
      "|       FE|Transport|Pass|Road|LDV|Four Wheelers|Small|Mini Car|Gases|Hydrogen      |\n",
      "|                Final Energy|Industry|Pulp and Paper|Liquids|Fossil                |\n",
      "|      FE|Transport|Pass|Road|LDV|Two Wheelers|Motorcycle(50-250cc)|Electricity     |\n",
      "|           FE|Transport|Pass|Road|LDV|Two Wheelers|Moped|Liquids|Hydrogen          |\n",
      "|             Final Energy|Industry|Fertilizer production|Solids|Biomass            |\n",
      "|   FE|Transport|Pass|Road|LDV|Four Wheelers|Large|Large Car and SUV|Gases|Fossil   |\n",
      "|        Final Energy|Industry|Chemicals|High-Value Chemicals|Liquids|Fossil        |\n",
      "|             FE|Transport|Freight|Road|Heavy|Truck(40t)|Gases|Hydrogen             |\n",
      "|        FE|Transport|Pass|Road|LDV|Four Wheelers|Medium|Compact Car|Hydrogen       |\n",
      "|              FE|Transport|Freight|Road|Heavy|Truck(18t)|Gases|Biomass             |\n",
      "|     FE|Transport|Pass|Road|LDV|Four Wheelers|Small|Subcompact Car|Gases|Fossil    |\n",
      "|                   FE|Non-energy Use|Industry|Liquids|+|Hydrogen                   |\n",
      "|    FE|Transport|Pass|Road|LDV|Four Wheelers|Medium|Compact Car|Liquids|Biomass    |\n",
      "|      FE|Transport|Pass|Road|LDV|Four Wheelers|Medium|Compact Car|Electricity      |\n",
      "|              FE|Transport|Freight|Road|Heavy|Truck(18t)|Gases|Fossil              |\n",
      "|             FE|Transport|Freight|Road|Heavy|Truck(26t)|Gases|Hydrogen             |\n",
      "|      FE|Transport|Pass|Road|LDV|Four Wheelers|Medium|Midsize Car|Electricity      |\n",
      "|         FE|Transport|Bunkers|Pass|International Aviation|Liquids|Hydrogen         |\n",
      "|           FE|Transport|Pass|Road|LDV|Two Wheelers|Moped|Liquids|Biomass           |\n",
      "|                FE|Transport|Freight|Road|Heavy|Truck(40t)|Hydrogen                |\n",
      "|             FE|Transport|Freight|Road|Light|Truck(7_5t)|Liquids|Fossil            |\n",
      "|                Final Energy|Industry|Food Processing|Solids|Biomass               |\n",
      "|             FE|Transport|Freight|Road|Light|Truck(7_5t)|Gases|Biomass             |\n",
      "|          FE|Transport|Bunkers|Pass|International Aviation|Liquids|Biomass         |\n",
      "|           FE|Transport|Freight|Road|Light|Truck(0-3_5t)|Liquids|Hydrogen          |\n",
      "|  FE|Transport|Pass|Road|LDV|Four Wheelers|Large|Large Car and SUV|Liquids|Biomass |\n",
      "|                    FE|Non-energy Use|Industry|Solids|+|Biomass                    |\n",
      "|               Final Energy|Industry|Chemicals|Ammonia|Solids|Biomass              |\n",
      "|        FE|Transport|Pass|Road|LDV|Four Wheelers|Medium|Midsize Car|Hydrogen       |\n",
      "|      FE|Transport|Pass|Road|LDV|Four Wheelers|Small|Mini Car|Liquids|Hydrogen     |\n",
      "|             Final Energy|Industry|Fertilizer production|Liquids|Fossil            |\n",
      "|   FE|Transport|Pass|Road|LDV|Four Wheelers|Small|Subcompact Car|Liquids|Hydrogen  |\n",
      "|       FE|Transport|Pass|Road|LDV|Four Wheelers|Small|Mini Car|Liquids|Fossil      |\n",
      "|                FE|Transport|Freight|Road|Light|Truck(7_5t)|Hydrogen               |\n",
      "|                    FE|Non-energy Use|Industry|Liquids|+|Fossil                    |\n",
      "|              FE|Transport|Freight|Road|Light|Truck(7_5t)|Electricity              |\n",
      "|     FE|Transport|Pass|Road|LDV|Four Wheelers|Medium|Compact Car|Gases|Hydrogen    |\n",
      "|          FE|Transport|Bunkers|Pass|International Aviation|Liquids|Fossil          |\n",
      "|             FE|Transport|Freight|Road|Heavy|Truck(40t)|Liquids|Fossil             |\n",
      "|     FE|Transport|Pass|Road|LDV|Four Wheelers|Large|Large Car and SUV|Hydrogen     |\n",
      "|            FE|Transport|Freight|Road|Heavy|Truck(18t)|Liquids|Hydrogen            |\n",
      "|          FE|Transport|Pass|Road|LDV|Four Wheelers|Large|Van|Gases|Fossil          |\n",
      "|     FE|Transport|Pass|Road|LDV|Four Wheelers|Medium|Compact Car|Gases|Biomass     |\n",
      "|      FE|Transport|Pass|Road|LDV|Four Wheelers|Medium|Compact Car|Gases|Fossil     |\n",
      "|    FE|Transport|Pass|Road|LDV|Four Wheelers|Medium|Compact Car|Liquids|Hydrogen   |\n",
      "|             FE|Transport|Freight|Road|Light|Truck(0-3_5t)|Gases|Fossil            |\n",
      "|         FE|Transport|Pass|Road|LDV|Four Wheelers|Large|Van|Liquids|Fossil         |\n",
      "|        FE|Transport|Pass|Road|LDV|Four Wheelers|Small|Mini Car|Electricity        |\n",
      "|                    FE|CDR|OAE, electric calciner|+|Electricity                    |\n",
      "|                   FE|CDR|OAE, traditional calciner|+|Electricity                  |\n",
      "|             FE|Transport|Freight|Road|Heavy|Truck(18t)|Gases|Hydrogen             |\n",
      "|            FE|Transport|Freight|Road|Heavy|Truck(40t)|Liquids|Hydrogen            |\n",
      "|       FE|Transport|Pass|Road|LDV|Four Wheelers|Small|Mini Car|Gases|Biomass       |\n",
      "|          FE|Transport|Pass|Road|LDV|Four Wheelers|Large|Van|Gases|Biomass         |\n",
      "|                     FE|Non-energy Use|Industry|Solids|+|Fossil                    |\n",
      "|                      FE|CDR|OAE, traditional calciner|+|Gases                     |\n",
      "|        FE|Transport|Bunkers|Freight|International Shipping|Liquids|Hydrogen       |\n",
      "|              FE|Transport|Freight|Road|Light|Truck(7_5t)|Gases|Fossil             |\n",
      "|            FE|Transport|Freight|Road|Light|Truck(0-3_5t)|Liquids|Fossil           |\n",
      "|                     FE|Non-energy Use|Industry|Gases|+|Fossil                     |\n",
      "|               FE|Transport|Freight|Road|Heavy|Truck(40t)|Electricity              |\n",
      "|               FE|Transport|Freight|Road|Heavy|Truck(18t)|Electricity              |\n",
      "|             FE|Transport|Freight|Road|Heavy|Truck(26t)|Liquids|Fossil             |\n",
      "|                     FE|Transport|Pass|Road|Bus|Gases|Hydrogen                     |\n",
      "|    FE|Transport|Pass|Road|LDV|Four Wheelers|Small|Subcompact Car|Liquids|Fossil   |\n",
      "|              Final Energy|Industry|Chemicals|Methanol|Solids|Biomass              |\n",
      "|           FE|Transport|Pass|Road|LDV|Four Wheelers|Large|Van|Electricity          |\n",
      "|         FE|Transport|Pass|Road|LDV|Four Wheelers|Large|Van|Gases|Hydrogen         |\n",
      "|        FE|Transport|Bunkers|Freight|International Shipping|Liquids|Biomass        |\n",
      "|             FE|Transport|Freight|Road|Heavy|Truck(26t)|Liquids|Biomass            |\n",
      "|           FE|Transport|Freight|Road|Light|Truck(0-3_5t)|Liquids|Biomass           |\n",
      "|      FE|Transport|Pass|Road|LDV|Four Wheelers|Large|Large Car|Liquids|Biomass     |\n",
      "+-----------------------------------------------------------------------------------+\n",
      "The following variables are missing from the IAM file:\n",
      "+----------------------------------------------------------------------+\n",
      "|                               Variable                               |\n",
      "+----------------------------------------------------------------------+\n",
      "| FE|Transport|Bunkers|Freight|International Shipping|Liquids|Hydrogen |\n",
      "+----------------------------------------------------------------------+\n",
      "Done!\n",
      "CPU times: user 5.06 s, sys: 342 ms, total: 5.4 s\n",
      "Wall time: 5.81 s\n"
     ]
    }
   ],
   "source": [
    "%%time\n",
    "\n",
    "from premise import *\n",
    "import bw2data\n",
    "bw2data.projects.set_current(\"ecoinvent-3.10-cutoff\")\n",
    "#bw2data.projects.set_current(\"ecoinvent-3.9.1-cutoff_bw25\")\n",
    "# clear_inventory_cache()\n",
    "scenarios = [\n",
    "    {\"model\": \"remind\", \"pathway\": \"SSP2-NPi\", \"year\": 2020},\n",
    "    #{\"model\": \"remind\", \"pathway\": \"SSP2-NPi\", \"year\": 2030},\n",
    "    #{\"model\": \"remind\", \"pathway\": \"SSP2-NPi\", \"year\": 2040},\n",
    "    #{\"model\": \"remind\", \"pathway\": \"SSP2-NPi\", \"year\": 2050},\n",
    "    #{\"model\": \"remind\", \"pathway\": \"SSP2-NPi\", \"year\": 2060},\n",
    "    #{\"model\": \"remind\", \"pathway\": \"SSP2-PkBudg1150\", \"year\": 2020},\n",
    "    #{\"model\": \"witch\", \"pathway\": \"SSP2-Base\", \"year\": 2050},\n",
    "    #{\"model\": \"witch\", \"pathway\": \"SSP2-PkBudg1150\", \"year\": 2050},\n",
    "    #{\"model\": \"image\", \"pathway\": \"SSP2-RCP26\", \"year\": 2030},\n",
    "    #{\"model\": \"remind\", \"pathway\": \"SSP2-PkBudg1150\", \"year\": 2040},\n",
    "    #{\"model\": \"tiam-ucl\", \"pathway\": \"SSP2-RCP26\", \"year\": 2040},\n",
    "\n",
    "    #{\"model\": \"remind\", \"pathway\": \"SSP2-PkBudg1150\", \"year\": 2060},\n",
    "]\n",
    "\n",
    "ndb = NewDatabase(\n",
    "        scenarios=scenarios,\n",
    "        source_db=\"ecoinvent-3.10.1-cutoff\",\n",
    "        source_version=\"3.10\",\n",
    "        biosphere_name=\"biosphere3\",\n",
    "        key='tUePmX_S5B8ieZkkM7WUU2CnO8SmShwmAeWK9x2rTFo=',\n",
    ")\n",
    "#ndb.write_db_to_brightway(\"test final energy 2\")"
   ]
  },
  {
   "cell_type": "code",
   "execution_count": 2,
   "id": "ceee617a-18ab-4a7d-9d93-f4f8e56f3965",
   "metadata": {},
   "outputs": [
    {
     "name": "stderr",
     "output_type": "stream",
     "text": [
      "Processing scenarios for sector 'fuels':   0%|  | 0/1 [00:10<?, ?it/s]\n"
     ]
    },
    {
     "ename": "TypeError",
     "evalue": "Fuels.generate_regional_fuel_market() missing 1 required positional argument: 'subset'",
     "output_type": "error",
     "traceback": [
      "\u001b[0;31m---------------------------------------------------------------------------\u001b[0m",
      "\u001b[0;31mTypeError\u001b[0m                                 Traceback (most recent call last)",
      "Cell \u001b[0;32mIn[2], line 1\u001b[0m\n\u001b[0;32m----> 1\u001b[0m \u001b[43mndb\u001b[49m\u001b[38;5;241;43m.\u001b[39;49m\u001b[43mupdate\u001b[49m\u001b[43m(\u001b[49m\u001b[38;5;124;43m\"\u001b[39;49m\u001b[38;5;124;43mfuels\u001b[39;49m\u001b[38;5;124;43m\"\u001b[39;49m\u001b[43m)\u001b[49m\n",
      "File \u001b[0;32m~/Github/premise/premise/new_database.py:1008\u001b[0m, in \u001b[0;36mNewDatabase.update\u001b[0;34m(self, sectors)\u001b[0m\n\u001b[1;32m   1006\u001b[0m update_func \u001b[38;5;241m=\u001b[39m sector_update_methods[sector][\u001b[38;5;124m\"\u001b[39m\u001b[38;5;124mfunc\u001b[39m\u001b[38;5;124m\"\u001b[39m]\n\u001b[1;32m   1007\u001b[0m fixed_args \u001b[38;5;241m=\u001b[39m sector_update_methods[sector][\u001b[38;5;124m\"\u001b[39m\u001b[38;5;124margs\u001b[39m\u001b[38;5;124m\"\u001b[39m]\n\u001b[0;32m-> 1008\u001b[0m scenario \u001b[38;5;241m=\u001b[39m \u001b[43mupdate_func\u001b[49m\u001b[43m(\u001b[49m\u001b[43mscenario\u001b[49m\u001b[43m,\u001b[49m\u001b[43m \u001b[49m\u001b[38;5;241;43m*\u001b[39;49m\u001b[43mfixed_args\u001b[49m\u001b[43m)\u001b[49m\n\u001b[1;32m   1010\u001b[0m \u001b[38;5;28;01mif\u001b[39;00m \u001b[38;5;124m\"\u001b[39m\u001b[38;5;124mapplied functions\u001b[39m\u001b[38;5;124m\"\u001b[39m \u001b[38;5;129;01mnot\u001b[39;00m \u001b[38;5;129;01min\u001b[39;00m scenario:\n\u001b[1;32m   1011\u001b[0m     scenario[\u001b[38;5;124m\"\u001b[39m\u001b[38;5;124mapplied functions\u001b[39m\u001b[38;5;124m\"\u001b[39m] \u001b[38;5;241m=\u001b[39m []\n",
      "File \u001b[0;32m~/Github/premise/premise/fuels.py:310\u001b[0m, in \u001b[0;36m_update_fuels\u001b[0;34m(scenario, version, system_model)\u001b[0m\n\u001b[1;32m    289\u001b[0m fuels \u001b[38;5;241m=\u001b[39m Fuels(\n\u001b[1;32m    290\u001b[0m     database\u001b[38;5;241m=\u001b[39mscenario[\u001b[38;5;124m\"\u001b[39m\u001b[38;5;124mdatabase\u001b[39m\u001b[38;5;124m\"\u001b[39m],\n\u001b[1;32m    291\u001b[0m     iam_data\u001b[38;5;241m=\u001b[39mscenario[\u001b[38;5;124m\"\u001b[39m\u001b[38;5;124miam data\u001b[39m\u001b[38;5;124m\"\u001b[39m],\n\u001b[0;32m   (...)\u001b[0m\n\u001b[1;32m    298\u001b[0m     index\u001b[38;5;241m=\u001b[39mscenario\u001b[38;5;241m.\u001b[39mget(\u001b[38;5;124m\"\u001b[39m\u001b[38;5;124mindex\u001b[39m\u001b[38;5;124m\"\u001b[39m),\n\u001b[1;32m    299\u001b[0m )\n\u001b[1;32m    301\u001b[0m \u001b[38;5;28;01mif\u001b[39;00m \u001b[38;5;28many\u001b[39m(\n\u001b[1;32m    302\u001b[0m     x \u001b[38;5;129;01mis\u001b[39;00m \u001b[38;5;129;01mnot\u001b[39;00m \u001b[38;5;28;01mNone\u001b[39;00m\n\u001b[1;32m    303\u001b[0m     \u001b[38;5;28;01mfor\u001b[39;00m x \u001b[38;5;129;01min\u001b[39;00m (\n\u001b[0;32m   (...)\u001b[0m\n\u001b[1;32m    308\u001b[0m     )\n\u001b[1;32m    309\u001b[0m ):\n\u001b[0;32m--> 310\u001b[0m     \u001b[43mfuels\u001b[49m\u001b[38;5;241;43m.\u001b[39;49m\u001b[43mgenerate_fuel_markets\u001b[49m\u001b[43m(\u001b[49m\u001b[43m)\u001b[49m\n\u001b[1;32m    311\u001b[0m     fuels\u001b[38;5;241m.\u001b[39mrelink_datasets()\n\u001b[1;32m    312\u001b[0m     scenario[\u001b[38;5;124m\"\u001b[39m\u001b[38;5;124mdatabase\u001b[39m\u001b[38;5;124m\"\u001b[39m] \u001b[38;5;241m=\u001b[39m fuels\u001b[38;5;241m.\u001b[39mdatabase\n",
      "File \u001b[0;32m~/Github/premise/premise/fuels.py:2445\u001b[0m, in \u001b[0;36mFuels.generate_fuel_markets\u001b[0;34m(self)\u001b[0m\n\u001b[1;32m   2442\u001b[0m     dataset[\u001b[38;5;124m\"\u001b[39m\u001b[38;5;124mcode\u001b[39m\u001b[38;5;124m\"\u001b[39m] \u001b[38;5;241m=\u001b[39m \u001b[38;5;28mstr\u001b[39m(uuid\u001b[38;5;241m.\u001b[39muuid4()\u001b[38;5;241m.\u001b[39mhex)\n\u001b[1;32m   2444\u001b[0m \u001b[38;5;28;01mif\u001b[39;00m region \u001b[38;5;241m!=\u001b[39m \u001b[38;5;124m\"\u001b[39m\u001b[38;5;124mWorld\u001b[39m\u001b[38;5;124m\"\u001b[39m:\n\u001b[0;32m-> 2445\u001b[0m     dataset \u001b[38;5;241m=\u001b[39m \u001b[38;5;28;43mself\u001b[39;49m\u001b[38;5;241;43m.\u001b[39;49m\u001b[43mgenerate_regional_fuel_market\u001b[49m\u001b[43m(\u001b[49m\n\u001b[1;32m   2446\u001b[0m \u001b[43m        \u001b[49m\u001b[43mdataset\u001b[49m\u001b[38;5;241;43m=\u001b[39;49m\u001b[43mdataset\u001b[49m\u001b[43m,\u001b[49m\n\u001b[1;32m   2447\u001b[0m \u001b[43m        \u001b[49m\u001b[43mfuel_providers\u001b[49m\u001b[38;5;241;43m=\u001b[39;49m\u001b[43md_fuels\u001b[49m\u001b[43m,\u001b[49m\n\u001b[1;32m   2448\u001b[0m \u001b[43m        \u001b[49m\u001b[43mprod_vars\u001b[49m\u001b[38;5;241;43m=\u001b[39;49m\u001b[43mprod_vars\u001b[49m\u001b[43m,\u001b[49m\n\u001b[1;32m   2449\u001b[0m \u001b[43m        \u001b[49m\u001b[43mvars_map\u001b[49m\u001b[38;5;241;43m=\u001b[39;49m\u001b[43mvars_map\u001b[49m\u001b[43m,\u001b[49m\n\u001b[1;32m   2450\u001b[0m \u001b[43m        \u001b[49m\u001b[43mfuel_category\u001b[49m\u001b[38;5;241;43m=\u001b[39;49m\u001b[43mfuel\u001b[49m\u001b[43m,\u001b[49m\n\u001b[1;32m   2451\u001b[0m \u001b[43m        \u001b[49m\u001b[43mregion\u001b[49m\u001b[38;5;241;43m=\u001b[39;49m\u001b[43mregion\u001b[49m\u001b[43m,\u001b[49m\n\u001b[1;32m   2452\u001b[0m \u001b[43m        \u001b[49m\u001b[43minitial_lhv\u001b[49m\u001b[38;5;241;43m=\u001b[39;49m\u001b[43mlhvs\u001b[49m\u001b[43m[\u001b[49m\u001b[43mfuel\u001b[49m\u001b[43m]\u001b[49m\u001b[43m,\u001b[49m\n\u001b[1;32m   2453\u001b[0m \u001b[43m        \u001b[49m\u001b[43mperiod\u001b[49m\u001b[38;5;241;43m=\u001b[39;49m\u001b[43mperiod\u001b[49m\u001b[43m,\u001b[49m\n\u001b[1;32m   2454\u001b[0m \u001b[43m    \u001b[49m\u001b[43m)\u001b[49m\n\u001b[1;32m   2455\u001b[0m \u001b[38;5;28;01melse\u001b[39;00m:\n\u001b[1;32m   2456\u001b[0m     \u001b[38;5;66;03m# World dataset\u001b[39;00m\n\u001b[1;32m   2457\u001b[0m     dataset \u001b[38;5;241m=\u001b[39m \u001b[38;5;28mself\u001b[39m\u001b[38;5;241m.\u001b[39mgenerate_world_fuel_market(\n\u001b[1;32m   2458\u001b[0m         dataset\u001b[38;5;241m=\u001b[39mdataset,\n\u001b[1;32m   2459\u001b[0m         d_act\u001b[38;5;241m=\u001b[39mcopied_regionalized_datasets,\n\u001b[1;32m   2460\u001b[0m         prod_vars\u001b[38;5;241m=\u001b[39mprod_vars,\n\u001b[1;32m   2461\u001b[0m         period\u001b[38;5;241m=\u001b[39mperiod,\n\u001b[1;32m   2462\u001b[0m     )\n",
      "\u001b[0;31mTypeError\u001b[0m: Fuels.generate_regional_fuel_market() missing 1 required positional argument: 'subset'"
     ]
    }
   ],
   "source": [
    "ndb.update(\"fuels\")"
   ]
  },
  {
   "cell_type": "code",
   "execution_count": 7,
   "id": "ac915224-2ec6-4b0b-8828-4e2dbdc2ef56",
   "metadata": {},
   "outputs": [
    {
     "name": "stderr",
     "output_type": "stream",
     "text": [
      "Processing scenarios for sector 'electricity':   0%| | 0/1 [00:00<?, ?"
     ]
    },
    {
     "name": "stdout",
     "output_type": "stream",
     "text": [
      "Warning: No activities found for Gas ST -- revise mapping.\n"
     ]
    },
    {
     "name": "stderr",
     "output_type": "stream",
     "text": [
      "Processing scenarios for sector 'electricity': 100%|█| 1/1 [00:14<00:0"
     ]
    },
    {
     "name": "stdout",
     "output_type": "stream",
     "text": [
      "Done!\n",
      "\n"
     ]
    },
    {
     "name": "stderr",
     "output_type": "stream",
     "text": [
      "\n"
     ]
    }
   ],
   "source": [
    "ndb.update(\"electricity\")"
   ]
  },
  {
   "cell_type": "code",
   "execution_count": 2,
   "id": "4df7bdd0060d8e61",
   "metadata": {
    "ExecuteTime": {
     "end_time": "2025-04-09T10:15:25.787195Z",
     "start_time": "2025-04-09T10:15:16.620115Z"
    }
   },
   "outputs": [
    {
     "name": "stdout",
     "output_type": "stream",
     "text": [
      "Generate scenario report.\n",
      "Report saved under /Users/romain/GitHub/premise/dev/export/scenario_report.\n"
     ]
    }
   ],
   "source": [
    "ndb.generate_scenario_report()"
   ]
  },
  {
   "cell_type": "code",
   "execution_count": 2,
   "id": "3b73c52038cbae6e",
   "metadata": {
    "ExecuteTime": {
     "end_time": "2025-04-09T07:34:20.106050Z",
     "start_time": "2025-04-09T07:31:28.331786Z"
    }
   },
   "outputs": [
    {
     "name": "stderr",
     "output_type": "stream",
     "text": [
      "Processing scenarios for all sectors:   0%|     | 0/1 [00:00<?, ?it/s]"
     ]
    },
    {
     "name": "stdout",
     "output_type": "stream",
     "text": [
      "No cement scenario data available -- skipping\n",
      "No steel scenario data available -- skipping\n",
      "No residential heat scenario data available -- skipping\n",
      "No DAC scenario data available -- skipping\n",
      "No EWR scenario data available -- skipping\n",
      "No CDR scenario data available -- skipping\n",
      "Warning: No activities found for CON_LOSSHF -- revise mapping.\n",
      "Warning: No activities found for PP_ENGGAS -- revise mapping.\n",
      "Warning: No activities found for PP_MOD_CCSBIOG -- revise mapping.\n",
      "Warning: No activities found for PP_MOD_CCSHC1 -- revise mapping.\n",
      "Warning: No activities found for TRA_OT_AIRGSL -- revise mapping.\n",
      "No two-wheeler fleet scenario data available -- skipping\n",
      "No bus fleet scenario data available -- skipping\n",
      "No train fleet scenario data available -- skipping\n",
      "No final energy scenario data available -- skipping\n"
     ]
    },
    {
     "name": "stderr",
     "output_type": "stream",
     "text": [
      "Processing scenarios for all sectors: 100%|█| 1/1 [02:51<00:00, 171.76"
     ]
    },
    {
     "name": "stdout",
     "output_type": "stream",
     "text": [
      "Done!\n",
      "\n"
     ]
    },
    {
     "name": "stderr",
     "output_type": "stream",
     "text": [
      "\n"
     ]
    }
   ],
   "source": [
    "ndb.update()"
   ]
  },
  {
   "cell_type": "code",
   "execution_count": 8,
   "id": "7e1c1e730d374291",
   "metadata": {
    "ExecuteTime": {
     "end_time": "2025-04-09T07:44:19.571693Z",
     "start_time": "2025-04-09T07:34:20.260027Z"
    }
   },
   "outputs": [
    {
     "name": "stdout",
     "output_type": "stream",
     "text": [
      "Write new database(s) to Brightway.\n",
      "Running all checks...\n",
      "Minor anomalies found: check the change report.\n"
     ]
    },
    {
     "name": "stderr",
     "output_type": "stream",
     "text": [
      "Writing activities to SQLite3 database:\n",
      "0% [##############################] 100% | ETA: 00:00:00\n",
      "Total time elapsed: 00:00:27\n"
     ]
    },
    {
     "name": "stdout",
     "output_type": "stream",
     "text": [
      "Title: Writing activities to SQLite3 database:\n",
      "  Started: 04/16/2025 14:37:03\n",
      "  Finished: 04/16/2025 14:37:30\n",
      "  Total time elapsed: 00:00:27\n",
      "  CPU %: 92.90\n",
      "  Memory %: 24.08\n",
      "Created database: test 1\n",
      "Generate scenario report.\n",
      "Report saved under /Users/romain/Github/premise/dev/export/scenario_report.\n",
      "Generate change report.\n",
      "Report saved under /Users/romain/Github/premise/dev.\n"
     ]
    }
   ],
   "source": [
    "ndb.write_db_to_brightway(\"test 1\")"
   ]
  },
  {
   "cell_type": "code",
   "execution_count": 6,
   "id": "6c50e2b2a5fe62d0",
   "metadata": {
    "ExecuteTime": {
     "end_time": "2025-04-09T07:52:36.110376Z",
     "start_time": "2025-04-09T07:52:36.044502Z"
    }
   },
   "outputs": [
    {
     "ename": "AttributeError",
     "evalue": "'IAMDataCollection' object has no attribute 'petrol_efficiencies'",
     "output_type": "error",
     "traceback": [
      "\u001b[0;31m---------------------------------------------------------------------------\u001b[0m",
      "\u001b[0;31mAttributeError\u001b[0m                            Traceback (most recent call last)",
      "Cell \u001b[0;32mIn[6], line 1\u001b[0m\n\u001b[0;32m----> 1\u001b[0m ndb\u001b[38;5;241m.\u001b[39mscenarios[\u001b[38;5;241m0\u001b[39m][\u001b[38;5;124m\"\u001b[39m\u001b[38;5;124miam data\u001b[39m\u001b[38;5;124m\"\u001b[39m]\u001b[38;5;241m.\u001b[39mpetrol_efficiencies\u001b[38;5;241m.\u001b[39msel(region\u001b[38;5;241m=\u001b[39m\u001b[38;5;124m\"\u001b[39m\u001b[38;5;124meu27\u001b[39m\u001b[38;5;124m\"\u001b[39m, year\u001b[38;5;241m=\u001b[39m\u001b[38;5;241m2050\u001b[39m)\n",
      "\u001b[0;31mAttributeError\u001b[0m: 'IAMDataCollection' object has no attribute 'petrol_efficiencies'"
     ]
    }
   ],
   "source": [
    "ndb.scenarios[0][\"iam data\"].petrol_efficiencies.sel(region=\"eu27\", year=2050)"
   ]
  },
  {
   "cell_type": "code",
   "execution_count": null,
   "id": "1461747f13237266",
   "metadata": {},
   "outputs": [],
   "source": [
    "from premise.utils import load_database\n",
    "\n",
    "for scenario in ndb.scenarios:\n",
    "    scenario = load_database(scenario)"
   ]
  },
  {
   "cell_type": "code",
   "execution_count": null,
   "id": "abb7edb84da2ed10",
   "metadata": {},
   "outputs": [],
   "source": [
    "for ds in ndb.scenarios[0][\"database\"]:\n",
    "    if ds[\"name\"] == \"heat, residential, by combustion of methanol using boiler, distributed by truck, produced with biomass\" and ds[\"location\"] == \"brazil\":\n",
    "        for e in ds[\"exchanges\"]:\n",
    "            print(e[\"name\"], e[\"amount\"])\n",
    "        print()\n",
    "        break"
   ]
  },
  {
   "cell_type": "code",
   "execution_count": null,
   "id": "489d4403f84d2e24",
   "metadata": {},
   "outputs": [],
   "source": [
    "ndb.scenarios[0][\"iam data\"].passenger_car_efficiencies.sel(region=\"india\")"
   ]
  },
  {
   "cell_type": "code",
   "execution_count": null,
   "id": "a15ca81672e68398",
   "metadata": {},
   "outputs": [],
   "source": [
    "expected_co2 = 0.0\n",
    "\n",
    "energy = sum(\n",
    "    [\n",
    "        exc[\"amount\"]\n",
    "        for exc in ds[\"exchanges\"]\n",
    "        if exc[\"unit\"] == \"megajoule\" and exc[\"type\"] == \"technosphere\"\n",
    "    ]\n",
    ")\n",
    "# add input of coal\n",
    "coal = sum(\n",
    "    [\n",
    "        exc[\"amount\"] * 26.4\n",
    "        for exc in ds[\"exchanges\"]\n",
    "        if \"hard coal\" in exc[\"name\"]\n",
    "        and exc[\"type\"] == \"technosphere\"\n",
    "        and exc[\"unit\"] == \"kilogram\"\n",
    "    ]\n",
    ")\n",
    "\n",
    "expected_co2 += coal * 0.098\n",
    "print(expected_co2)\n",
    "\n",
    "# add input of coal briquettes\n",
    "briquettes = sum(\n",
    "    [\n",
    "        exc[\"amount\"]\n",
    "        for exc in ds[\"exchanges\"]\n",
    "        if \"briquettes\" in exc[\"name\"]\n",
    "        and exc[\"type\"] == \"technosphere\"\n",
    "        and exc[\"unit\"] == \"megajoule\"\n",
    "    ]\n",
    ")\n",
    "\n",
    "expected_co2 += briquettes * 0.098\n",
    "print(expected_co2)\n",
    "\n",
    "# add input of natural gas\n",
    "nat_gas = sum(\n",
    "    [\n",
    "        exc[\"amount\"] * (36 if exc[\"unit\"] == \"cubic meter\" else 47.5)\n",
    "        for exc in ds[\"exchanges\"]\n",
    "        if \"natural gas\" in exc[\"name\"]\n",
    "        and exc[\"type\"] == \"technosphere\"\n",
    "        and exc[\"unit\"] in [\"cubic meter\", \"kilogram\"]\n",
    "    ]\n",
    ")\n",
    "\n",
    "expected_co2 += nat_gas * 0.06\n",
    "print(expected_co2)\n",
    "\n",
    "# add input of liquefied natural gas\n",
    "\n",
    "lpg = sum(\n",
    "    [\n",
    "        exc[\"amount\"] * (36 if exc[\"unit\"] == \"cubic meter\" else 47.5)\n",
    "        for exc in ds[\"exchanges\"]\n",
    "        if \"liquefied petroleum gas\" in exc[\"name\"]\n",
    "        and exc[\"type\"] == \"technosphere\"\n",
    "        and exc[\"unit\"] in [\"cubic meter\", \"kilogram\"]\n",
    "    ]\n",
    ")\n",
    "\n",
    "expected_co2 += lpg * 0.0631\n",
    "print(expected_co2)\n",
    "\n",
    "# add input of diesel\n",
    "diesel = sum(\n",
    "    [\n",
    "        exc[\"amount\"] * 42.6\n",
    "        for exc in ds[\"exchanges\"]\n",
    "        if \"diesel\" in exc[\"name\"]\n",
    "        and exc[\"type\"] == \"technosphere\"\n",
    "        and exc[\"unit\"] == \"kilogram\"\n",
    "    ]\n",
    ")\n",
    "\n",
    "expected_co2 += diesel * 0.0732\n",
    "print(expected_co2)\n",
    "\n",
    "# add input of light fuel oil\n",
    "light_fue_oil = sum(\n",
    "    [\n",
    "        exc[\"amount\"] * 41.8\n",
    "        for exc in ds[\"exchanges\"]\n",
    "        if \"light fuel oil\" in exc[\"name\"]\n",
    "        and exc[\"type\"] == \"technosphere\"\n",
    "        and exc[\"unit\"] == \"kilogram\"\n",
    "    ]\n",
    ")\n",
    "\n",
    "expected_co2 += light_fue_oil * 0.0686\n",
    "print(expected_co2)\n",
    "\n",
    "# add input of heavy fuel oil\n",
    "heavy_fuel_oil = sum(\n",
    "    [\n",
    "        exc[\"amount\"] * 41.8\n",
    "        for exc in ds[\"exchanges\"]\n",
    "        if \"heavy fuel oil\" in exc[\"name\"]\n",
    "        and exc[\"type\"] == \"technosphere\"\n",
    "        and exc[\"unit\"] == \"kilogram\"\n",
    "    ]\n",
    ")\n",
    "\n",
    "expected_co2 += heavy_fuel_oil * 0.0739\n",
    "print(expected_co2)\n",
    "\n",
    "# add input of biomass\n",
    "biomass = sum(\n",
    "    [\n",
    "        exc[\"amount\"] * 18\n",
    "        for exc in ds[\"exchanges\"]\n",
    "        if any(x in exc[\"name\"] for x in [\"biomass\", \"wood\", \"timber\"])\n",
    "        and exc[\"type\"] == \"technosphere\"\n",
    "        and exc[\"unit\"] == \"kilogram\"\n",
    "    ]\n",
    ")\n",
    "\n",
    "expected_co2 += biomass * 0.112\n",
    "print(expected_co2)\n",
    "\n",
    "# add input of methane\n",
    "methane = sum(\n",
    "    [\n",
    "        exc[\"amount\"] * (36 if exc[\"unit\"] == \"cubic meter\" else 47.5)\n",
    "        for exc in ds[\"exchanges\"]\n",
    "        if \"methane\" in exc[\"name\"]\n",
    "        and exc[\"type\"] == \"technosphere\"\n",
    "        and exc[\"unit\"] in [\"kilogram\", \"cubic meter\"]\n",
    "    ]\n",
    ")\n",
    "\n",
    "expected_co2 += methane * 0.06\n",
    "print(expected_co2)\n",
    "\n",
    "# add input of biogas\n",
    "biogas = sum(\n",
    "    [\n",
    "        exc[\"amount\"] * 22.7\n",
    "        for exc in ds[\"exchanges\"]\n",
    "        if \"biogas\" in exc[\"name\"]\n",
    "        and exc[\"type\"] == \"technosphere\"\n",
    "        and exc[\"unit\"] == \"cubic meter\"\n",
    "    ]\n",
    ")\n",
    "\n",
    "expected_co2 += biogas * 0.058\n",
    "print(expected_co2)\n",
    "\n",
    "# add input of methanol\n",
    "methanol = sum(\n",
    "    [\n",
    "        exc[\"amount\"] * 20\n",
    "        for exc in ds[\"exchanges\"]\n",
    "        if \"methanol\" in exc[\"name\"]\n",
    "        and exc[\"type\"] == \"technosphere\"\n",
    "        and exc[\"unit\"] == \"kilogram\"\n",
    "    ]\n",
    ")\n",
    "\n",
    "expected_co2 += methanol * 0.069\n",
    "print(expected_co2)\n",
    "\n",
    "# add input of hydrogen\n",
    "hydrogen = sum(\n",
    "    [\n",
    "        exc[\"amount\"] * 120\n",
    "        for exc in ds[\"exchanges\"]\n",
    "        if \"hydrogen\" in exc[\"name\"]\n",
    "        and exc[\"type\"] == \"technosphere\"\n",
    "        and exc[\"unit\"] == \"kilogram\"\n",
    "    ]\n",
    ")\n",
    "\n",
    "# add input of electricity\n",
    "electricity = sum(\n",
    "    [\n",
    "        exc[\"amount\"] * 3.6\n",
    "        for exc in ds[\"exchanges\"]\n",
    "        if \"electricity\" in exc[\"name\"]\n",
    "        and exc[\"type\"] == \"technosphere\"\n",
    "        and exc[\"unit\"] == \"kilowatt hour\"\n",
    "    ]\n",
    ")\n",
    "\n",
    "energy_input = sum(\n",
    "    [\n",
    "        energy,\n",
    "        coal,\n",
    "        briquettes,\n",
    "        nat_gas,\n",
    "        lpg,\n",
    "        diesel,\n",
    "        light_fue_oil,\n",
    "        heavy_fuel_oil,\n",
    "        biomass,\n",
    "        methane,\n",
    "        biogas,\n",
    "        hydrogen,\n",
    "        methanol,\n",
    "        electricity,\n",
    "    ]\n",
    ")"
   ]
  },
  {
   "cell_type": "code",
   "execution_count": null,
   "id": "a0ade6753eb9070",
   "metadata": {},
   "outputs": [],
   "source": [
    "[\n",
    "        exc\n",
    "        for exc in ds[\"exchanges\"]\n",
    "        if any(x in exc[\"name\"] for x in [\"biomass\", \"wood\", \"timber\"])\n",
    "        and exc[\"type\"] == \"technosphere\"\n",
    "        and exc[\"unit\"] == \"kilogram\"\n",
    "    ]"
   ]
  },
  {
   "cell_type": "code",
   "execution_count": null,
   "id": "18dfbf23be773950",
   "metadata": {},
   "outputs": [],
   "source": [
    "ndb.scenarios[0][\"iam data\"].biomass_mix.sel(region=\"canada\", year=2050)"
   ]
  },
  {
   "cell_type": "code",
   "execution_count": null,
   "id": "7e6880dae59c3326",
   "metadata": {},
   "outputs": [],
   "source": [
    "bw2data.projects.set_current(\"ecoinvent-3.9.1-cutoff_bw25\")\n",
    "bw2data.databases"
   ]
  },
  {
   "cell_type": "code",
   "execution_count": null,
   "id": "61a69a9d5e12bb2",
   "metadata": {},
   "outputs": [],
   "source": [
    "ndb.generate_scenario_report()"
   ]
  },
  {
   "cell_type": "code",
   "execution_count": null,
   "id": "5bffc389b701951c",
   "metadata": {},
   "outputs": [],
   "source": [
    "ndb.scenarios[0][\"iam data\"].daccs_energy_use"
   ]
  },
  {
   "cell_type": "code",
   "execution_count": null,
   "id": "a5848185dd9a5f5a",
   "metadata": {},
   "outputs": [],
   "source": [
    "ndb.update([\n",
    "    #\"fuels\",\n",
    "    \"heat\",\n",
    "    \"final energy\"\n",
    "])"
   ]
  },
  {
   "cell_type": "code",
   "execution_count": null,
   "id": "e42aa29a01751b1b",
   "metadata": {},
   "outputs": [],
   "source": [
    "ndb.write_db_to_brightway(\"heat test 1\")"
   ]
  },
  {
   "cell_type": "code",
   "execution_count": null,
   "id": "b91f9207d8694b6d",
   "metadata": {},
   "outputs": [],
   "source": [
    "ndb.write_superstructure_db_to_brightway(\"heat test 1\")"
   ]
  },
  {
   "cell_type": "code",
   "execution_count": null,
   "id": "c6b29840bc338523",
   "metadata": {},
   "outputs": [],
   "source": [
    "from premise.utils import load_database\n",
    "\n",
    "for scenario in ndb.scenarios:\n",
    "    scenario = load_database(scenario)\n",
    "\n",
    "\n",
    "for scenario in ndb.scenarios:\n",
    "    for ds in scenario[\"database\"]:\n",
    "        if ds[\"name\"] == \"biodiesel, burned in passenger train\" and ds[\"location\"] == \"LAM\":\n",
    "            for e in ds[\"exchanges\"]:\n",
    "                    print(e[\"name\"], e[\"amount\"])"
   ]
  },
  {
   "cell_type": "code",
   "execution_count": null,
   "id": "8e97eb399810b26f",
   "metadata": {},
   "outputs": [],
   "source": [
    "ndb.scenarios[0][\"iam data\"].residential_heating_mix.sel(region=\"CAZ\")"
   ]
  },
  {
   "cell_type": "code",
   "execution_count": null,
   "id": "7caed14aa1bfdf7e",
   "metadata": {},
   "outputs": [],
   "source": [
    "ndb.update(\n",
    "    [\n",
    "        #\"electricity\",\n",
    "        #\"dac\",\n",
    "        #\"fuels\",\n",
    "        \"heat\",\n",
    "        #\"final energy\"\n",
    "    ]\n",
    ")"
   ]
  },
  {
   "cell_type": "code",
   "execution_count": null,
   "id": "7f68b63effdb792c",
   "metadata": {},
   "outputs": [],
   "source": [
    "ndb.generate_scenario_report()"
   ]
  },
  {
   "cell_type": "code",
   "execution_count": null,
   "id": "bac05c4be4357545",
   "metadata": {},
   "outputs": [],
   "source": [
    "ndb.write_db_to_brightway(\"test final energy 12\")"
   ]
  },
  {
   "cell_type": "code",
   "execution_count": null,
   "id": "398bedc922b6813a",
   "metadata": {},
   "outputs": [],
   "source": [
    "import copy\n",
    "import json\n",
    "import ujson\n",
    "import pickle"
   ]
  },
  {
   "cell_type": "code",
   "execution_count": null,
   "id": "965a63a9c9764bcd",
   "metadata": {},
   "outputs": [],
   "source": [
    "%%time\n",
    "\n",
    "data = pickle.dumps(ndb.database, -1)\n",
    "db = pickle.loads(data)"
   ]
  },
  {
   "cell_type": "code",
   "execution_count": null,
   "id": "2928e877eb0e3b13",
   "metadata": {},
   "outputs": [],
   "source": [
    "%%time\n",
    "\n",
    "json_data = ujson.dumps(ndb.database)\n",
    "db = ujson.loads(json_data)"
   ]
  },
  {
   "cell_type": "code",
   "execution_count": null,
   "id": "57d137418599e504",
   "metadata": {},
   "outputs": [],
   "source": [
    "%%time\n",
    "\n",
    "json_data = json.dumps(ndb.database)\n",
    "db = json.loads(json_data)"
   ]
  },
  {
   "cell_type": "code",
   "execution_count": null,
   "id": "29720eb8b65e0ce2",
   "metadata": {},
   "outputs": [],
   "source": [
    "%%time\n",
    "\n",
    "db = copy.deepcopy(ndb.database)"
   ]
  },
  {
   "cell_type": "code",
   "execution_count": null,
   "id": "d65606f2ec93765d",
   "metadata": {},
   "outputs": [],
   "source": [
    "ndb.update()"
   ]
  },
  {
   "cell_type": "code",
   "execution_count": null,
   "id": "ad25e6b3fb509dc5",
   "metadata": {},
   "outputs": [],
   "source": [
    "for ds in ndb.scenarios[0][\"database\"]:\n",
    "    if ds[\"name\"] == \"market for petrol, low-sulfur, 20-year period\" and ds[\"location\"] == \"WEU\":\n",
    "        for e in ds[\"exchanges\"]:\n",
    "            print(e[\"name\"], e[\"amount\"])"
   ]
  },
  {
   "cell_type": "code",
   "execution_count": null,
   "id": "76a5c781cba810a8",
   "metadata": {},
   "outputs": [],
   "source": [
    "ndb.write_db_to_brightway()"
   ]
  },
  {
   "cell_type": "code",
   "execution_count": null,
   "id": "5e81193f9f06d4e3",
   "metadata": {},
   "outputs": [],
   "source": [
    "import pandas as pd\n",
    "fp = \"/Users/romain/GitHub/carculator_utils/carculator_utils/data/emission_factors/car/EF_HBEFA42_exhaust.csv\"\n",
    "df = pd.read_csv(fp)"
   ]
  },
  {
   "cell_type": "code",
   "execution_count": null,
   "id": "553a7f29a2cd5c02",
   "metadata": {},
   "outputs": [],
   "source": [
    "df.loc[df[\"euro_class\"]==6.2]"
   ]
  },
  {
   "cell_type": "code",
   "execution_count": null,
   "id": "3e5a371098ff2725",
   "metadata": {},
   "outputs": [],
   "source": [
    "import pandas as pd\n",
    "fp = \"/Users/romain/GitHub/premise/premise/data/iam_output_files/fleet_files/image_fleet_trucks.csv\"\n",
    "fp_out = \"/Users/romain/GitHub/premise/premise/data/iam_output_files/fleet_files/image_fleet_trucks_.csv\"\n",
    "df = pd.read_csv(fp, sep=\",\")"
   ]
  },
  {
   "cell_type": "code",
   "execution_count": null,
   "id": "160c2f5081c5d2d4",
   "metadata": {},
   "outputs": [],
   "source": [
    "df"
   ]
  },
  {
   "cell_type": "code",
   "execution_count": null,
   "id": "3b9a341ceffaa3c4",
   "metadata": {},
   "outputs": [],
   "source": [
    "df.groupby([\"year\", \"region\", \"powertrain\", \"size\"]).sum().to_csv(fp_out)"
   ]
  },
  {
   "cell_type": "code",
   "execution_count": null,
   "id": "61a671b7d525d91a",
   "metadata": {},
   "outputs": [],
   "source": [
    "from bw2io import ExcelImporter\n",
    "import bw2data\n",
    "\n",
    "bw2data.projects.set_current(\"new4\")\n",
    "fp = \"/Users/romain/GitHub/premise/premise/data/additional_inventories/lci-pass_cars.xlsx\"\n",
    "\n",
    "i = ExcelImporter(fp)"
   ]
  },
  {
   "cell_type": "code",
   "execution_count": null,
   "id": "9beb7955bc3d957",
   "metadata": {},
   "outputs": [],
   "source": [
    "i.apply_strategies()"
   ]
  },
  {
   "cell_type": "code",
   "execution_count": null,
   "id": "46f6606b36041071",
   "metadata": {},
   "outputs": [],
   "source": [
    "bw2data.databases"
   ]
  },
  {
   "cell_type": "code",
   "execution_count": null,
   "id": "998441490f435ca1",
   "metadata": {},
   "outputs": [],
   "source": [
    "i.match_database(fields=[\"name\", \"reference product\", \"location\"])\n",
    "i.match_database(\"ecoinvent 3.7 cutoff\", fields=[\"name\", \"reference product\", \"location\"])\n",
    "i.match_database(\"biosphere3\", fields=[\"name\", \"categories\",])"
   ]
  },
  {
   "cell_type": "code",
   "execution_count": null,
   "id": "9ffc46e57a7a8126",
   "metadata": {},
   "outputs": [],
   "source": [
    "i.statistics()"
   ]
  },
  {
   "cell_type": "code",
   "execution_count": null,
   "id": "93a4c28c0dde6f4a",
   "metadata": {},
   "outputs": [],
   "source": [
    "list(i.unlinked)"
   ]
  },
  {
   "cell_type": "code",
   "execution_count": null,
   "id": "4ac81d28a09974a7",
   "metadata": {},
   "outputs": [],
   "source": [
    "i.write_excel()"
   ]
  },
  {
   "cell_type": "code",
   "execution_count": null,
   "id": "671c305747a0bfd3",
   "metadata": {},
   "outputs": [],
   "source": [
    "ndb.write_db_to_brightway(\"test batt\")"
   ]
  },
  {
   "cell_type": "code",
   "execution_count": null,
   "id": "58806656997fc147",
   "metadata": {},
   "outputs": [],
   "source": [
    "ndb.update()"
   ]
  },
  {
   "cell_type": "code",
   "execution_count": null,
   "id": "7db8904e6587b0e4",
   "metadata": {},
   "outputs": [],
   "source": [
    "ndb.write_db_to_brightway(\"test13\")"
   ]
  },
  {
   "cell_type": "code",
   "execution_count": null,
   "id": "13c6690f221af177",
   "metadata": {},
   "outputs": [],
   "source": [
    "for ds in ndb.database:\n",
    "    if ds[\"reference product\"] == \"biogas\" and \"market for\" not in ds[\"name\"]:\n",
    "        print(ds[\"location\"])\n",
    "        for e in ds[\"exchanges\"]:\n",
    "            print(e[\"name\"], e[\"amount\"])\n",
    "        print()"
   ]
  },
  {
   "cell_type": "code",
   "execution_count": null,
   "id": "f2a00b863e889a2f",
   "metadata": {},
   "outputs": [],
   "source": [
    "ndb.write_db_to_brightway(\"test8\")"
   ]
  },
  {
   "cell_type": "code",
   "execution_count": null,
   "id": "e57bbd2b4f7273af",
   "metadata": {},
   "outputs": [],
   "source": [
    "bw2data."
   ]
  },
  {
   "cell_type": "code",
   "execution_count": null,
   "id": "1dc344c2e8c8af47",
   "metadata": {},
   "outputs": [],
   "source": [
    "FU = [\n",
    "    {a: 1} for a in\n",
    "    bw2data.Database(\"ecoinvent_cutoff_3.9_image_SSP2-Base_2050\")\n",
    "    if a[\"name\"].startswith(\"electricity production\") and a[\"unit\"] == \"kilowatt hour\"\n",
    "]\n",
    "\n",
    "print(len(FU))\n",
    "\n",
    "list_meth = [\n",
    "    ('IPCC 2021', 'climate change', 'GWP 100a, incl. H'),\n",
    "    ('IPCC 2021', 'climate change', 'GWP 100a, incl. H and bio CO2')\n",
    "]\n",
    "import bw2calc\n",
    "bw2data.calculation_setups['multiLCA'] = {'inv': FU, 'ia': list_meth}\n",
    "myMultiLCA = bw2calc.MultiLCA('multiLCA')\n",
    "df_impact_exc = pd.DataFrame(columns = [\", \".join(i) for i in list_meth],\n",
    "     data = myMultiLCA.results,\n",
    "     index=[k[\"name\"] + \", \" + k[\"location\"] for i in FU for k in i]\n",
    ")"
   ]
  },
  {
   "cell_type": "code",
   "execution_count": null,
   "id": "fddad7e3b3ce3df0",
   "metadata": {},
   "outputs": [],
   "source": [
    "ndb.update_steel()"
   ]
  },
  {
   "cell_type": "code",
   "execution_count": null,
   "id": "3d4787d6fd6eed0f",
   "metadata": {},
   "outputs": [],
   "source": [
    "ndb.update_biomass()"
   ]
  },
  {
   "cell_type": "code",
   "execution_count": null,
   "id": "befda89aaafa2382",
   "metadata": {},
   "outputs": [],
   "source": [
    "ndb.update_electricity()"
   ]
  },
  {
   "cell_type": "code",
   "execution_count": null,
   "id": "3042801535eb2edd",
   "metadata": {},
   "outputs": [],
   "source": [
    "ndb.write_db_to_simapro()"
   ]
  },
  {
   "cell_type": "code",
   "execution_count": null,
   "id": "df6a73e7cbb9ffa0",
   "metadata": {},
   "outputs": [],
   "source": [
    "for ds in ndb.scenarios[0][\"database\"]:\n",
    "    if ds[\"name\"].startswith(\"market group for electricity, low\"):\n",
    "        print(ds[\"name\"], ds[\"reference product\"], ds[\"location\"])"
   ]
  },
  {
   "cell_type": "code",
   "execution_count": null,
   "id": "1f83c7e86330f01d",
   "metadata": {},
   "outputs": [],
   "source": [
    "ndb.scenarios[1][\"iam data\"].carbon_capture_rate"
   ]
  },
  {
   "cell_type": "code",
   "execution_count": null,
   "id": "196733a35a2d69f3",
   "metadata": {},
   "outputs": [],
   "source": [
    "from collections import defaultdict\n",
    "res = defaultdict(float)\n",
    "for ds in ndb.scenarios[0][\"database\"]:\n",
    "    if ds[\"reference product\"]==\"biogas\":\n",
    "        print(ds[\"location\"], ds[\"name\"])\n",
    "        for e in ds[\"exchanges\"]:\n",
    "            print(e[\"name\"], e[\"amount\"], e.get(\"location\"))\n",
    "        print()\n",
    "\n"
   ]
  },
  {
   "cell_type": "code",
   "execution_count": null,
   "id": "11481d3ada198833",
   "metadata": {},
   "outputs": [],
   "source": [
    "from collections import defaultdict\n",
    "res = defaultdict(float)\n",
    "for ds in ndb.scenarios[1][\"database\"]:\n",
    "    if ds[\"name\"]==\"market group for heat, district or industrial, natural gas\":\n",
    "        print(ds[\"location\"], ds[\"name\"])\n",
    "        for e in ds[\"exchanges\"]:\n",
    "            print(e[\"name\"], e[\"amount\"], e.get(\"location\"), e[\"type\"])\n",
    "        print()\n"
   ]
  },
  {
   "cell_type": "code",
   "execution_count": null,
   "id": "25589d4ace41a00a",
   "metadata": {},
   "outputs": [],
   "source": [
    "from collections import defaultdict\n",
    "res = defaultdict(float)\n",
    "for ds in ndb.scenarios[0][\"database\"]:\n",
    "    if ds[\"name\"]==\"transport, freight, lorry, plugin diesel hybrid, 26t gross weight, 2020, EURO-VI, regional delivery\" and ds[\"location\"] == \"ME\":\n",
    "        print(ds[\"location\"], ds[\"name\"])\n",
    "        for e in ds[\"exchanges\"]:\n",
    "            print(e[\"name\"], e[\"amount\"], e.get(\"location\"), e[\"type\"])\n",
    "        print()\n"
   ]
  },
  {
   "cell_type": "code",
   "execution_count": null,
   "id": "10bfdd08837e1191",
   "metadata": {},
   "outputs": [],
   "source": [
    "from premise.geomap import Geomap\n",
    "geo = Geomap(\"remind\")\n",
    "geo.ecoinvent_to_iam_location(\"Europe, without Russia and Turkey\")"
   ]
  },
  {
   "cell_type": "code",
   "execution_count": null,
   "id": "3b0e4b8b0904090d",
   "metadata": {},
   "outputs": [],
   "source": [
    "geo.iam_to_ecoinvent_location(\"EUR\")"
   ]
  },
  {
   "cell_type": "code",
   "execution_count": null,
   "id": "c45644d449e49f48",
   "metadata": {},
   "outputs": [],
   "source": [
    "geo.rev_additional_mappings"
   ]
  },
  {
   "cell_type": "code",
   "execution_count": null,
   "id": "8556e2982ba2b13b",
   "metadata": {},
   "outputs": [],
   "source": [
    "from collections import defaultdict\n",
    "res = defaultdict(float)\n",
    "for ds in ndb.scenarios[0][\"database\"]:\n",
    "    if ds[\"name\"]==\"pig iron production\" and ds[\"location\"] == \"CHN\":\n",
    "        print(ds[\"location\"], ds[\"name\"])\n",
    "        for e in ds[\"exchanges\"]:\n",
    "            print(e[\"name\"], e[\"amount\"])\n",
    "        print(ds[\"comment\"])\n",
    "        print()\n"
   ]
  },
  {
   "cell_type": "code",
   "execution_count": null,
   "id": "8f8ce523f532db76",
   "metadata": {},
   "outputs": [],
   "source": [
    "import pandas as pd\n",
    "import matplotlib.pyplot as plt\n",
    "pd.DataFrame.from_dict(res, orient=\"index\").plot(kind=\"bar\", figsize=(20, 5))\n",
    "plt.ylabel(\"kg heavy fuel oil/kWh\")\n",
    "plt.savefig(\"electricity production, oil.png\")"
   ]
  },
  {
   "cell_type": "code",
   "execution_count": null,
   "id": "aa6f95a63a594df3",
   "metadata": {},
   "outputs": [],
   "source": [
    "ndb.scenarios[0][\"iam data\"].electricity_efficiencies.coords[\"variables\"].values"
   ]
  },
  {
   "cell_type": "code",
   "execution_count": null,
   "id": "8c8a1fec9589751f",
   "metadata": {},
   "outputs": [],
   "source": [
    "ndb.scenarios[0][\"iam data\"].electricity_efficiencies.sel(variables=\"Biomass IGCC CCS\", year=2050)"
   ]
  },
  {
   "cell_type": "code",
   "execution_count": null,
   "id": "965434f4ed4c0c8b",
   "metadata": {},
   "outputs": [],
   "source": [
    "ndb.generate_change_report()"
   ]
  },
  {
   "cell_type": "code",
   "execution_count": null,
   "id": "bd3545b05dd6a461",
   "metadata": {},
   "outputs": [],
   "source": [
    "ndb.scenarios[0][\"iam data\"].gas_markets.sel(region=\"World\")"
   ]
  },
  {
   "cell_type": "code",
   "execution_count": null,
   "id": "57242751b841c527",
   "metadata": {},
   "outputs": [],
   "source": [
    "ndb.scenarios[0]."
   ]
  },
  {
   "cell_type": "code",
   "execution_count": null,
   "id": "3c11a56fae6edb1e",
   "metadata": {},
   "outputs": [],
   "source": [
    "for ds in ndb.scenarios[0][\"database\"]:\n",
    "    for e in ds[\"exchanges\"]:\n",
    "        if e[\"name\"] == \"market for platinum\" and e[\"product\"] == \"platinum\":\n",
    "            print(ds[\"name\"], ds[\"location\"], e[\"name\"], e[\"location\"])"
   ]
  },
  {
   "cell_type": "code",
   "execution_count": null,
   "id": "fcd627206940b21d",
   "metadata": {},
   "outputs": [],
   "source": [
    "import pprint\n",
    "for ds in ndb.scenarios[0][\"database\"]:\n",
    "    if ds[\"name\"].lower() == \"lithium carbonate, precipitated\":\n",
    "        print(ds[\"name\"], ds[\"location\"])"
   ]
  },
  {
   "cell_type": "code",
   "execution_count": null,
   "id": "d7306de6c3f7d666",
   "metadata": {},
   "outputs": [],
   "source": [
    "from premise.activity_maps import InventorySet\n",
    "inv = InventorySet(ndb.database, \"3.9\")"
   ]
  },
  {
   "cell_type": "code",
   "execution_count": null,
   "id": "50350461511f76bd",
   "metadata": {},
   "outputs": [],
   "source": [
    "inv.generate_metals_map()"
   ]
  },
  {
   "cell_type": "code",
   "execution_count": null,
   "id": "2ec8df24fcb542f1",
   "metadata": {},
   "outputs": [],
   "source": [
    "inv.generate_powerplant_map()"
   ]
  },
  {
   "cell_type": "code",
   "execution_count": null,
   "id": "116a0069bb4d87d0",
   "metadata": {},
   "outputs": [],
   "source": [
    "inv.generate_daccs_map()"
   ]
  },
  {
   "cell_type": "code",
   "execution_count": null,
   "id": "5b76ad182f3baeba",
   "metadata": {},
   "outputs": [],
   "source": [
    "ndb.write_db_to_brightway(\"test_metals\")"
   ]
  },
  {
   "cell_type": "code",
   "execution_count": null,
   "id": "b45ac5225053b343",
   "metadata": {},
   "outputs": [],
   "source": [
    "products = [\n",
    "    'lightweighting, glider',\n",
    "    'auxilliary battery inputs, for road vehicle',\n",
    "    'battery cell, Li-ion, NMC622',\n",
    "    'auxilliary electronics inputs, for fuel cell electric vehicle',\n",
    "    'auxilliary material inputs, for fuel cell electric vehicle',\n",
    "    'fuel cell stack, for fuel cell electric vehicle',\n",
    "    'carbon fiber, weaved',\n",
    "    'tank liner, polyethylene, high density',\n",
    "    'transformer and rectifier unit, for electrolyser',\n",
    "    'fuel tank, for diesel road vehicle',\n",
    "    'fuel tank, for compressed hydrogen gas, 700bar',\n",
    "    'fuel tank, for compressed hydrogen gas, 700bar',\n",
    "    'fuel tank, for compressed hydrogen gas, 700bar',\n",
    "    'fuel tank, for compressed natural gas, 200 bar',\n",
    "    'charger, level 3, plugin, 200 kW, for electric vehicle',\n",
    "    'gearbox, for lorry',\n",
    "    'transmission, for lorry',\n",
    "    'suspension, for lorry',\n",
    "    'power electronics, for lorry',\n",
    "    'auxilliary material inputs, for electric lorry',\n",
    "    'retarder, for lorry',\n",
    "    'cabin, for lorry',\n",
    "    'frame, blanks and saddle, for lorry',\n",
    "    'tires and wheels, for lorry',\n",
    "    'auxilliary material inputs, for hydrid electric lorry',\n",
    "    'exhaust system, for lorry',\n",
    "    'internal combustion engine, for lorry',\n",
    "    'lead acid battery, for lorry',\n",
    "    'charger, level 3, with pantograph, 450 kW, for electric vehicle',\n",
    "    'overhead lines, for electric vehicle',\n",
    "    'battery cell, Li-ion, LTO',\n",
    "    'charging station, 3kW',\n",
    "    'battery cell,  Li-ion, LFP',\n",
    "    'battery cell, Li-ion, NCA',\n",
    "    'assembly operation, for lorry'\n",
    "]\n",
    "\n",
    "print(len(products))\n",
    "\n",
    "acts = [a for a in bw.Database(\"brian\") if a[\"reference product\"] in products]"
   ]
  },
  {
   "cell_type": "code",
   "execution_count": null,
   "id": "72550b1fed0d35f0",
   "metadata": {},
   "outputs": [],
   "source": [
    "len(acts)"
   ]
  },
  {
   "cell_type": "code",
   "execution_count": null,
   "id": "9c3774c79a448faa",
   "metadata": {},
   "outputs": [],
   "source": [
    "[a[\"reference product\"] for a in acts]"
   ]
  },
  {
   "cell_type": "code",
   "execution_count": null,
   "id": "92643f7e6927245d",
   "metadata": {},
   "outputs": [],
   "source": [
    "import bw2data\n",
    "bw2io.BW2Package.export_obj(obj=bw.Database(\"brian\"), filename=\"db_for_brian.bw2package\")"
   ]
  },
  {
   "cell_type": "code",
   "execution_count": null,
   "id": "9c356f2368eb5b2f",
   "metadata": {},
   "outputs": [],
   "source": [
    "import bw2data\n",
    "bw2io.BW2Package.import_file(\"db_for_brian.bw2package\")"
   ]
  },
  {
   "cell_type": "code",
   "execution_count": null,
   "id": "de440f0db2b13ec4",
   "metadata": {},
   "outputs": [],
   "source": []
  },
  {
   "cell_type": "code",
   "execution_count": null,
   "id": "a1c8fa6cb4f2dd8",
   "metadata": {},
   "outputs": [],
   "source": [
    "fp = \"/Users/romain/Library/Application Support/Brightway3/ei39.f1469ad5eb0a071dc60323f6e0fce980/output/lci-brian.xlsx\"\n",
    "import bw2io\n",
    "\n",
    "i = bw2io.ExcelImporter(fp)\n",
    "i.apply_strategies()"
   ]
  },
  {
   "cell_type": "code",
   "execution_count": null,
   "id": "cd94ca83dbc3b727",
   "metadata": {},
   "outputs": [],
   "source": [
    "ei_acts = list(set([(a[\"name\"], a[\"reference product\"]) for a in bw.Database(\"ecoinvent 3.9.1 cutoff\")]))\n",
    "print(len(ei_acts))"
   ]
  },
  {
   "cell_type": "code",
   "execution_count": null,
   "id": "92206a853e60d19b",
   "metadata": {},
   "outputs": [],
   "source": [
    "for ds in i.data:\n",
    "    if (ds[\"name\"], ds[\"reference product\"]) in ei_acts:\n",
    "        i.data.remove(ds)"
   ]
  },
  {
   "cell_type": "code",
   "execution_count": null,
   "id": "6fe20db999c31460",
   "metadata": {},
   "outputs": [],
   "source": [
    "for ds in i.data:\n",
    "    if (ds[\"name\"], ds[\"reference product\"]) not in ei_acts:\n",
    "        print(ds[\"name\"])"
   ]
  },
  {
   "cell_type": "code",
   "execution_count": null,
   "id": "4c208c1745d4e045",
   "metadata": {},
   "outputs": [],
   "source": [
    "len(i.data)"
   ]
  },
  {
   "cell_type": "code",
   "execution_count": null,
   "id": "d8a7689d7ea9f548",
   "metadata": {},
   "outputs": [],
   "source": [
    "for ds in i.data:\n",
    "    print(ds[\"name\"])"
   ]
  },
  {
   "cell_type": "code",
   "execution_count": null,
   "id": "835d05ffcee22155",
   "metadata": {},
   "outputs": [],
   "source": [
    "i.match_database(fields=[\"name\", \"unit\", \"location\"])\n",
    "i.match_database(\"ecoinvent 3.9.1 cutoff\", fields=[\"name\", \"reference product\", \"location\", \"unit\"])\n",
    "i.match_database(\"biosphere3\", fields=[\"name\", \"categories\", \"unit\"])"
   ]
  },
  {
   "cell_type": "code",
   "execution_count": null,
   "id": "ce2d1a7299bd6782",
   "metadata": {},
   "outputs": [],
   "source": [
    "i.statistics()"
   ]
  },
  {
   "cell_type": "code",
   "execution_count": null,
   "id": "44505a17c9058074",
   "metadata": {},
   "outputs": [],
   "source": [
    "list(i.unlinked)[-1]"
   ]
  },
  {
   "cell_type": "code",
   "execution_count": null,
   "id": "dcb64973be80c3c",
   "metadata": {},
   "outputs": [],
   "source": [
    "bw.get_activity(('brian', '360c5e612a154ebb8cee2650bcc1bc75_copy1'))"
   ]
  },
  {
   "cell_type": "code",
   "execution_count": null,
   "id": "cf8f1b66b781babb",
   "metadata": {},
   "outputs": [],
   "source": [
    "for f in bw.Database(\"biosphere3\"):\n",
    "    if f[\"code\"] == \"e030108f-2125-4bcb-a73b-ad72130fcca3\":\n",
    "        print(f)"
   ]
  },
  {
   "cell_type": "code",
   "execution_count": null,
   "id": "32a8ddbc29d21b73",
   "metadata": {},
   "outputs": [],
   "source": [
    "bw.projects.set_current(\"ei39\")"
   ]
  },
  {
   "cell_type": "code",
   "execution_count": null,
   "id": "821a5e9586fd98ec",
   "metadata": {},
   "outputs": [],
   "source": [
    "l = []\n",
    "\n",
    "for f in bw.Database(\"biosphere3\"):\n",
    "    l.append([f[\"name\"], f[\"categories\"][0], f[\"categories\"][1] if len(f[\"categories\"])>1 else \"unspecified\", f[\"unit\"], f[\"code\"]])"
   ]
  },
  {
   "cell_type": "code",
   "execution_count": null,
   "id": "6a2b812bfe7ed3ef",
   "metadata": {},
   "outputs": [],
   "source": [
    "import csv\n",
    "\n",
    "with open(\"flows_biosphere_39.csv\", \"w\", newline=\"\", ) as f:\n",
    "    writer = csv.writer(f, delimiter=\";\")\n",
    "    writer.writerows(l)"
   ]
  },
  {
   "cell_type": "code",
   "execution_count": null,
   "id": "62f0ebb66127ad0",
   "metadata": {},
   "outputs": [],
   "source": [
    "ndb.scenarios[1][\"iam data\"].fuel_markets.sel(region=\"NEU\").variables.values"
   ]
  },
  {
   "cell_type": "code",
   "execution_count": null,
   "id": "8b670e0fa0fda81f",
   "metadata": {},
   "outputs": [],
   "source": [
    "import numpy as np\n",
    "for ds in ndb.scenarios[1][\"database\"]:\n",
    "    if ds[\"name\"] == (\"carbon dioxide, captured from atmosphere, with a solvent-based direct air capture system, 1MtCO2, with waste heat, and grid electricity\",\n",
    "                            \"carbon dioxide, captured from atmosphere\"):\n",
    "            print(ds[\"name\"], ds[\"location\"])"
   ]
  },
  {
   "cell_type": "code",
   "execution_count": null,
   "id": "48db9dd51197d500",
   "metadata": {},
   "outputs": [],
   "source": [
    "for ds in ndb.scenarios[1][\"database\"]:\n",
    "    if \"carbon dioxide, captured\" in ds[\"name\"]:\n",
    "        print(ds[\"name\"], ds[\"location\"])"
   ]
  },
  {
   "cell_type": "code",
   "execution_count": null,
   "id": "fbe44335831df1",
   "metadata": {},
   "outputs": [],
   "source": [
    "ndb.scenarios[0][\"iam data\"].fuel_markets.sel(region=\"WEU\", year=2050)"
   ]
  },
  {
   "cell_type": "code",
   "execution_count": null,
   "id": "f20df6c9c884d6bd",
   "metadata": {},
   "outputs": [],
   "source": [
    "ndb.scenarios[0][\"iam data\"].fuel_markets.sel(region=\"WEU\")"
   ]
  },
  {
   "cell_type": "code",
   "execution_count": null,
   "id": "af8fd5290167c25c",
   "metadata": {},
   "outputs": [],
   "source": [
    "ndb.update_electricity()"
   ]
  },
  {
   "cell_type": "code",
   "execution_count": null,
   "id": "c73afb6cb07d765e",
   "metadata": {},
   "outputs": [],
   "source": [
    "ndb.scenarios[0][\"iam data\"].fuel_markets"
   ]
  },
  {
   "cell_type": "code",
   "execution_count": null,
   "id": "92bdc92f238e12fa",
   "metadata": {},
   "outputs": [],
   "source": [
    "ndb.generate_scenario_report()"
   ]
  },
  {
   "cell_type": "code",
   "execution_count": null,
   "id": "65caa34ff603bc11",
   "metadata": {},
   "outputs": [],
   "source": [
    "ndb.generate_change_report()"
   ]
  },
  {
   "cell_type": "code",
   "execution_count": null,
   "id": "ecdb14752a986bf5",
   "metadata": {},
   "outputs": [],
   "source": [
    "ndb.update_all()"
   ]
  },
  {
   "cell_type": "code",
   "execution_count": null,
   "id": "a32b6ceb2068aa88",
   "metadata": {},
   "outputs": [],
   "source": [
    "ndb.generate_scenario_report()"
   ]
  },
  {
   "cell_type": "code",
   "execution_count": null,
   "id": "bd553b607c0eec02",
   "metadata": {},
   "outputs": [],
   "source": [
    "ndb.generate_change_report()"
   ]
  },
  {
   "cell_type": "code",
   "execution_count": null,
   "id": "fe334ea259279f21",
   "metadata": {},
   "outputs": [],
   "source": [
    "ndb.scenarios[0][\"iam data\"].gains_data_IAM"
   ]
  },
  {
   "cell_type": "code",
   "execution_count": null,
   "id": "5a73163962ead122",
   "metadata": {},
   "outputs": [],
   "source": []
  },
  {
   "cell_type": "code",
   "execution_count": null,
   "id": "d213dbe1eb7dc272",
   "metadata": {},
   "outputs": [],
   "source": [
    "ndb.update_all()"
   ]
  },
  {
   "cell_type": "code",
   "execution_count": null,
   "id": "fb9125119e460f9",
   "metadata": {},
   "outputs": [],
   "source": [
    "ndb.write_db_to_brightway([\"test_dac\", \"test_dac2\"])"
   ]
  },
  {
   "cell_type": "code",
   "execution_count": null,
   "id": "e3f9b9d44a305ad8",
   "metadata": {},
   "outputs": [],
   "source": [
    "from premise.geomap import Geomap"
   ]
  },
  {
   "cell_type": "code",
   "execution_count": null,
   "id": "d2d9db61092ecf24",
   "metadata": {},
   "outputs": [],
   "source": [
    "Geomap()"
   ]
  },
  {
   "cell_type": "code",
   "execution_count": null,
   "id": "a7c84abee72f964b",
   "metadata": {},
   "outputs": [],
   "source": [
    "Geomap(model=\"remind\").geo.keys()"
   ]
  },
  {
   "cell_type": "code",
   "execution_count": null,
   "id": "ee6489cf5bf6d7b4",
   "metadata": {},
   "outputs": [],
   "source": [
    "ndb.scenarios[0][\"iam data\"].carbon_capture_rate.sel(variables=\"steel\")"
   ]
  },
  {
   "cell_type": "code",
   "execution_count": null,
   "id": "60e3a7ea3c1a023a",
   "metadata": {},
   "outputs": [],
   "source": [
    "for ds in ndb.scenarios[0][\"database\"]:\n",
    "    for e in ds[\"exchanges\"]:\n",
    "        if e[\"name\"].startswith(\"CO2 capture, at cement production plant\"):\n",
    "            print(e[\"name\"], e.get(\"location\"), e[\"amount\"])\n",
    "            print(ds[\"name\"])\n",
    "            print(\"--------------------\")"
   ]
  },
  {
   "cell_type": "code",
   "execution_count": null,
   "id": "bbaf04d22ed3a879",
   "metadata": {},
   "outputs": [],
   "source": []
  }
 ],
 "metadata": {
  "kernelspec": {
   "display_name": "Python 3 (ipykernel)",
   "language": "python",
   "name": "python3"
  },
  "language_info": {
   "codemirror_mode": {
    "name": "ipython",
    "version": 3
   },
   "file_extension": ".py",
   "mimetype": "text/x-python",
   "name": "python",
   "nbconvert_exporter": "python",
   "pygments_lexer": "ipython3",
   "version": "3.10.13"
  }
 },
 "nbformat": 4,
 "nbformat_minor": 5
}
