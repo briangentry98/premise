{
 "cells": [
  {
   "cell_type": "code",
   "execution_count": 1,
   "id": "536a04a5dcd99805",
   "metadata": {
    "ExecuteTime": {
     "end_time": "2025-05-31T19:24:42.355616Z",
     "start_time": "2025-05-31T19:24:33.871646Z"
    }
   },
   "outputs": [
    {
     "name": "stdout",
     "output_type": "stream",
     "text": [
      "Loading variables from /Users/romain/Github/premise/dev/variables.yaml\n",
      "USER_DATA_BASE_DIR: test\n",
      "premise v.(2, 3, 0, 'dev1')\n",
      "+------------------------------------------------------------------+\n",
      "| Warning                                                          |\n",
      "+------------------------------------------------------------------+\n",
      "| Because some of the scenarios can yield LCI databases            |\n",
      "| containing net negative emission technologies (NET),             |\n",
      "| it is advised to account for biogenic CO2 flows when calculating |\n",
      "| Global Warming potential indicators.                             |\n",
      "| `premise_gwp` provides characterization factors for such flows.  |\n",
      "| It also provides factors for hydrogen emissions to air.          |\n",
      "|                                                                  |\n",
      "| Within your bw2 project:                                         |\n",
      "| from premise_gwp import add_premise_gwp                          |\n",
      "| add_premise_gwp()                                                |\n",
      "+------------------------------------------------------------------+\n",
      "+--------------------------------+----------------------------------+\n",
      "| Utils functions                | Description                      |\n",
      "+--------------------------------+----------------------------------+\n",
      "| clear_cache()                  | Clears the cache folder. Useful  |\n",
      "|                                | when updating `premise`or        |\n",
      "|                                | encountering issues with         |\n",
      "|                                | inventories.                     |\n",
      "+--------------------------------+----------------------------------+\n",
      "| get_regions_definition(model)  | Retrieves the list of countries  |\n",
      "|                                | for each region of the model.    |\n",
      "+--------------------------------+----------------------------------+\n",
      "| ndb.NewDatabase(...)           | Generates a summary of the most  |\n",
      "| ndb.generate_scenario_report() | important scenarios' variables.  |\n",
      "+--------------------------------+----------------------------------+\n",
      "Keep uncertainty data?\n",
      "NewDatabase(..., keep_source_db_uncertainty=True), keep_imports_uncertainty=True)\n",
      "\n",
      "Hide these messages?\n",
      "NewDatabase(..., quiet=True)\n",
      "- Extracting source database\n",
      "- Extracting inventories\n",
      "- Fetching IAM data\n",
      "The following variables are missing from the IAM file:\n",
      "+-----------------------------------------------------------------+\n",
      "|                             Variable                            |\n",
      "+-----------------------------------------------------------------+\n",
      "| Final Energy|Transport|Air|International|Synthetic Jet Kerosene |\n",
      "|    Final Energy|Transport|Air|Domestic|Synthetic Jet Kerosene   |\n",
      "+-----------------------------------------------------------------+\n",
      "Done!\n"
     ]
    }
   ],
   "source": [
    "from premise import *\n",
    "import bw2data\n",
    "bw2data.projects.set_current(\"ecoinvent-3.10.1-cutoff\")\n",
    "#bw2data.projects.set_current(\"ecoinvent-3.8-cutoff\")\n",
    "#bw2data.projects.set_current(\"ecoinvent-3.9.1-cutoff_bw25\")\n",
    "#clear_inventory_cache()\n",
    "scenarios = [\n",
    "    {\"model\": \"remind\", \"pathway\": \"SSP2-rollBack\", \"year\": 2050},\n",
    "    {\"model\": \"image\", \"pathway\": \"SSP2-VLHO\", \"year\": 2050},\n",
    "    {\"model\": \"tiam-ucl\", \"pathway\": \"SSP2-RCP19\", \"year\": 2050},\n",
    "]\n",
    "\n",
    "ndb = NewDatabase(\n",
    "        scenarios=scenarios,\n",
    "        source_db=\"ecoinvent-3.10.1-cutoff\",\n",
    "        source_version=\"3.10\",\n",
    "        biosphere_name=\"biosphere3\",\n",
    "        key='tUePmX_S5B8ieZkkM7WUU2CnO8SmShwmAeWK9x2rTFo=',\n",
    "        #system_model=\"consequential\",\n",
    "        keep_imports_uncertainty=True,\n",
    "        keep_source_db_uncertainty=True\n",
    ")\n",
    "#ndb.write_db_to_brightway(\"test final energy 2\")"
   ]
  },
  {
   "cell_type": "code",
   "execution_count": 2,
   "id": "f6b6f582ed096b0e",
   "metadata": {
    "ExecuteTime": {
     "end_time": "2025-05-31T19:24:56.297176Z",
     "start_time": "2025-05-31T19:24:42.364648Z"
    }
   },
   "outputs": [
    {
     "name": "stderr",
     "output_type": "stream",
     "text": [
      "Processing scenarios for sector 'electricity': 100%|█| 3/3 [01:00<00:0"
     ]
    },
    {
     "name": "stdout",
     "output_type": "stream",
     "text": [
      "Done!\n",
      "\n",
      "CPU times: user 56.9 s, sys: 1.66 s, total: 58.5 s\n",
      "Wall time: 1min\n"
     ]
    },
    {
     "name": "stderr",
     "output_type": "stream",
     "text": [
      "\n"
     ]
    }
   ],
   "source": [
    "%%time\n",
    "ndb.update(\"electricity\")"
   ]
  },
  {
   "cell_type": "code",
   "execution_count": 3,
   "id": "544d9a47-02ac-4a61-bca7-dcd187968670",
   "metadata": {},
   "outputs": [
    {
     "name": "stdout",
     "output_type": "stream",
     "text": [
      "Generate change report.\n",
      "['timestamp', 'module', 'level', 'status', 'model', 'pathway', 'year', 'dataset', 'region', 'old electrical efficiency', 'new electrical efficiency', 'transformation loss', 'distribution loss', 'renewable share', 'ecoinvent original efficiency', 'Oberschelp et al. efficiency', 'efficiency change', 'CO2 scaling factor', 'SO2 scaling factor', 'CH4 scaling factor', 'NOx scaling factor', 'PM<2.5 scaling factor', 'PM 2.5-10 scaling factor', 'PM>10 scaling factor']\n",
      "                           0            1     2        3         4   \\\n",
      "0     2025-07-18 11:54:59,648  electricity  INFO  updated    remind   \n",
      "1     2025-07-18 11:54:59,653  electricity  INFO  updated    remind   \n",
      "2     2025-07-18 11:54:59,658  electricity  INFO  updated    remind   \n",
      "3     2025-07-18 11:54:59,662  electricity  INFO  updated    remind   \n",
      "4     2025-07-18 11:54:59,666  electricity  INFO  updated    remind   \n",
      "...                       ...          ...   ...      ...       ...   \n",
      "9018  2025-07-18 11:55:46,157  electricity  INFO  updated  tiam-ucl   \n",
      "9019  2025-07-18 11:55:46,157  electricity  INFO  updated  tiam-ucl   \n",
      "9020  2025-07-18 11:55:46,157  electricity  INFO  updated  tiam-ucl   \n",
      "9021  2025-07-18 11:55:46,158  electricity  INFO  updated  tiam-ucl   \n",
      "9022  2025-07-18 11:55:46,158  electricity  INFO  updated  tiam-ucl   \n",
      "\n",
      "                 5     6                                  7        8   \\\n",
      "0     SSP2-rollBack  2050    electricity production, lignite  US-NPCC   \n",
      "1     SSP2-rollBack  2050    electricity production, lignite       TW   \n",
      "2     SSP2-rollBack  2050  electricity production, hard coal    CA-QC   \n",
      "3     SSP2-rollBack  2050    electricity production, lignite    CA-NS   \n",
      "4     SSP2-rollBack  2050    electricity production, lignite    IN-OR   \n",
      "...             ...   ...                                ...      ...   \n",
      "9018     SSP2-RCP19  2050        electricity production, oil       TW   \n",
      "9019     SSP2-RCP19  2050        electricity production, oil    IN-BR   \n",
      "9020     SSP2-RCP19  2050        electricity production, oil       ID   \n",
      "9021     SSP2-RCP19  2050        electricity production, oil    IN-TN   \n",
      "9022     SSP2-RCP19  2050        electricity production, oil    CN-GD   \n",
      "\n",
      "            9   ...        14        15        16        17         18  19  \\\n",
      "0          NaN  ...  0.345902  0.310029  1.115710  0.853827   0.462329 NaN   \n",
      "1          NaN  ...  0.250295  0.327615  0.763992  0.622124   0.102342 NaN   \n",
      "2          NaN  ...  0.251660  0.336759  0.747301  0.891983   0.875440 NaN   \n",
      "3          NaN  ...  0.394242  0.329454  1.196653  1.050562   0.778449 NaN   \n",
      "4          NaN  ...  0.313013  0.280451  1.116105  0.844815  17.115861 NaN   \n",
      "...        ...  ...       ...       ...       ...       ...        ...  ..   \n",
      "9018  0.346230  ...       NaN       NaN       NaN       NaN        NaN NaN   \n",
      "9019  0.401285  ...       NaN       NaN       NaN       NaN        NaN NaN   \n",
      "9020  0.284189  ...       NaN       NaN       NaN       NaN        NaN NaN   \n",
      "9021  0.382120  ...       NaN       NaN       NaN       NaN        NaN NaN   \n",
      "9022  0.370246  ...       NaN       NaN       NaN       NaN        NaN NaN   \n",
      "\n",
      "            20        21        22        23  \n",
      "0     1.053028  0.008670  0.062830  0.086118  \n",
      "1     0.179744  0.006918  0.024221  0.016595  \n",
      "2     0.608785  0.134134  0.789937  0.253121  \n",
      "3     0.868802  0.005402  0.056645  0.284638  \n",
      "4     1.365982  0.155587  1.237489  2.730630  \n",
      "...        ...       ...       ...       ...  \n",
      "9018       NaN       NaN       NaN       NaN  \n",
      "9019       NaN       NaN       NaN       NaN  \n",
      "9020       NaN       NaN       NaN       NaN  \n",
      "9021       NaN       NaN       NaN       NaN  \n",
      "9022       NaN       NaN       NaN       NaN  \n",
      "\n",
      "[9023 rows x 24 columns]\n",
      "['timestamp', 'module', 'level', 'model', 'variable', 'name', 'reference product', 'location']\n",
      "                             0              1     2         3             4  \\\n",
      "0      2025-07-18 11:54:58,610  activity_maps  INFO    remind     hard coal   \n",
      "1      2025-07-18 11:54:58,610  activity_maps  INFO    remind     hard coal   \n",
      "2      2025-07-18 11:54:58,610  activity_maps  INFO    remind     hard coal   \n",
      "3      2025-07-18 11:54:58,610  activity_maps  INFO    remind     hard coal   \n",
      "4      2025-07-18 11:54:58,610  activity_maps  INFO    remind     hard coal   \n",
      "...                        ...            ...   ...       ...           ...   \n",
      "15747  2025-07-18 11:55:39,244  activity_maps  INFO  tiam-ucl  Wind Onshore   \n",
      "15748  2025-07-18 11:55:39,244  activity_maps  INFO  tiam-ucl  Wind Onshore   \n",
      "15749  2025-07-18 11:55:39,244  activity_maps  INFO  tiam-ucl  Wind Onshore   \n",
      "15750  2025-07-18 11:55:39,244  activity_maps  INFO  tiam-ucl  Wind Onshore   \n",
      "15751  2025-07-18 11:55:39,244  activity_maps  INFO  tiam-ucl  Wind Onshore   \n",
      "\n",
      "                                                       5  \\\n",
      "0                      market for hard coal, run-of-mine   \n",
      "1                                   market for hard coal   \n",
      "2                                   market for hard coal   \n",
      "3      hard coal mine operation and hard coal prepara...   \n",
      "4                                   market for hard coal   \n",
      "...                                                  ...   \n",
      "15747  electricity production, wind, >3MW turbine, on...   \n",
      "15748  electricity production, wind, 1-3MW turbine, o...   \n",
      "15749  electricity production, wind, >3MW turbine, on...   \n",
      "15750  electricity production, wind, >3MW turbine, on...   \n",
      "15751  electricity production, wind, 1-3MW turbine, o...   \n",
      "\n",
      "                               6                                   7  \n",
      "0         hard coal, run-of-mine                                  IN  \n",
      "1                      hard coal                                  AU  \n",
      "2                      hard coal                                  IN  \n",
      "3                      hard coal  Europe, without Russia and Türkiye  \n",
      "4                      hard coal                                  RU  \n",
      "...                          ...                                 ...  \n",
      "15747  electricity, high voltage                               CN-HE  \n",
      "15748  electricity, high voltage                                  DK  \n",
      "15749  electricity, high voltage                                  LT  \n",
      "15750  electricity, high voltage                               IN-TN  \n",
      "15751  electricity, high voltage                             US-SERC  \n",
      "\n",
      "[15752 rows x 8 columns]\n",
      "['timestamp', 'module', 'level', 'model', 'pathway', 'year', 'name', 'reference product', 'location', 'severity', 'reason', 'message']\n",
      "                          0           1     2         3              4     5   \\\n",
      "0    2025-07-18 11:55:05,824  validation  INFO    remind  SSP2-rollBack  2050   \n",
      "1    2025-07-18 11:55:05,825  validation  INFO    remind  SSP2-rollBack  2050   \n",
      "2    2025-07-18 11:55:05,825  validation  INFO    remind  SSP2-rollBack  2050   \n",
      "3    2025-07-18 11:55:05,825  validation  INFO    remind  SSP2-rollBack  2050   \n",
      "4    2025-07-18 11:55:05,825  validation  INFO    remind  SSP2-rollBack  2050   \n",
      "..                       ...         ...   ...       ...            ...   ...   \n",
      "258  2025-07-18 11:55:48,707  validation  INFO  tiam-ucl     SSP2-RCP19  2050   \n",
      "259  2025-07-18 11:55:48,707  validation  INFO  tiam-ucl     SSP2-RCP19  2050   \n",
      "260  2025-07-18 11:55:48,707  validation  INFO  tiam-ucl     SSP2-RCP19  2050   \n",
      "261  2025-07-18 11:55:48,707  validation  INFO  tiam-ucl     SSP2-RCP19  2050   \n",
      "262  2025-07-18 11:55:48,707  validation  INFO  tiam-ucl     SSP2-RCP19  2050   \n",
      "\n",
      "                                                    6   \\\n",
      "0    electricity production, natural gas, conventio...   \n",
      "1                      electricity production, lignite   \n",
      "2                      electricity production, lignite   \n",
      "3                      electricity production, lignite   \n",
      "4                          electricity production, oil   \n",
      "..                                                 ...   \n",
      "258  electricity production, at wood burning power ...   \n",
      "259  electricity production, at wood burning power ...   \n",
      "260  electricity production, at wood burning power ...   \n",
      "261  electricity production, at wood burning power ...   \n",
      "262  electricity production, at wood burning power ...   \n",
      "\n",
      "                            7        8      9   \\\n",
      "0    electricity, high voltage    IN-TR  minor   \n",
      "1    electricity, high voltage  US-NPCC  minor   \n",
      "2    electricity, high voltage    IN-OR  minor   \n",
      "3    electricity, high voltage   US-MRO  minor   \n",
      "4    electricity, high voltage  US-WECC  minor   \n",
      "..                         ...      ...    ...   \n",
      "258  electricity, high voltage      SKO  minor   \n",
      "259  electricity, high voltage       UK  minor   \n",
      "260  electricity, high voltage      USA  minor   \n",
      "261  electricity, high voltage      WEU  minor   \n",
      "262  electricity, high voltage    World  minor   \n",
      "\n",
      "                                            10  \\\n",
      "0    electricity efficiency possibly incorrect   \n",
      "1             CO2 emissions possibly incorrect   \n",
      "2             CO2 emissions possibly incorrect   \n",
      "3             CO2 emissions possibly incorrect   \n",
      "4    electricity efficiency possibly incorrect   \n",
      "..                                         ...   \n",
      "258           CO2 emissions possibly incorrect   \n",
      "259           CO2 emissions possibly incorrect   \n",
      "260           CO2 emissions possibly incorrect   \n",
      "261           CO2 emissions possibly incorrect   \n",
      "262           CO2 emissions possibly incorrect   \n",
      "\n",
      "                                                    11  \n",
      "0    Current eff.: 0.22375111980761267. Min: 0.25. ...  \n",
      "1    Current CO2: 0.9525617786803847. Expected: 1.2...  \n",
      "2    Current CO2: 0.9888457274003182. Expected: 1.2...  \n",
      "3    Current CO2: 0.9525617786803847. Expected: 1.2...  \n",
      "4    Current eff.: 0.17040150140948004. Min: 0.2. M...  \n",
      "..                                                 ...  \n",
      "258  Current CO2: 0.187. Expected: 0.08742857142857...  \n",
      "259  Current CO2: 0.187. Expected: 0.08742857142857...  \n",
      "260  Current CO2: 0.187. Expected: 0.08742857142857...  \n",
      "261  Current CO2: 0.187. Expected: 0.08742857142857...  \n",
      "262  Current CO2: 0.187. Expected: 0.08742857142857...  \n",
      "\n",
      "[263 rows x 12 columns]\n",
      "Report saved under /Users/romain/Github/premise/dev/export/change reports/.\n"
     ]
    }
   ],
   "source": [
    "ndb.generate_change_report()"
   ]
  },
  {
   "cell_type": "code",
   "execution_count": 3,
   "id": "975dc0d8-2e8e-4d01-88cc-8755f86ad927",
   "metadata": {},
   "outputs": [
    {
     "name": "stdout",
     "output_type": "stream",
     "text": [
      "Write new database(s) to Brightway.\n",
      "Running all checks...\n",
      "Minor anomalies found: check the change report.\n",
      "Database ei_cutoff_3.10_remind_SSP2-rollBack_2050 2025-07-03 already exists: it will be overwritten.\n",
      "Vacuuming database \n"
     ]
    },
    {
     "name": "stderr",
     "output_type": "stream",
     "text": [
      "Writing activities to SQLite3 database:\n",
      "0% [##############################] 100% | ETA: 00:00:00\n",
      "Total time elapsed: 00:00:20\n"
     ]
    },
    {
     "name": "stdout",
     "output_type": "stream",
     "text": [
      "Title: Writing activities to SQLite3 database:\n",
      "  Started: 07/03/2025 17:34:57\n",
      "  Finished: 07/03/2025 17:35:17\n",
      "  Total time elapsed: 00:00:20\n",
      "  CPU %: 89.90\n",
      "  Memory %: 7.44\n",
      "Created database: ei_cutoff_3.10_remind_SSP2-rollBack_2050 2025-07-03\n",
      "Running all checks...\n",
      "Minor anomalies found: check the change report.\n",
      "---> MAJOR anomalies found: check the change report.\n",
      "Generate change report.\n",
      "Report saved under /Users/romain/Github/premise/dev/export/change reports/.\n"
     ]
    },
    {
     "ename": "ValueError",
     "evalue": "The database is not ready for export: MAJOR anomalies found. Check the change report.",
     "output_type": "error",
     "traceback": [
      "\u001b[31m---------------------------------------------------------------------------\u001b[39m",
      "\u001b[31mValueError\u001b[39m                                Traceback (most recent call last)",
      "\u001b[36mFile \u001b[39m\u001b[32m~/Github/premise/premise/new_database.py:1162\u001b[39m, in \u001b[36mNewDatabase.write_db_to_brightway\u001b[39m\u001b[34m(self, name)\u001b[39m\n\u001b[32m   1161\u001b[39m \u001b[38;5;28;01mtry\u001b[39;00m:\n\u001b[32m-> \u001b[39m\u001b[32m1162\u001b[39m     \u001b[43m_prepare_database\u001b[49m\u001b[43m(\u001b[49m\n\u001b[32m   1163\u001b[39m \u001b[43m        \u001b[49m\u001b[43mscenario\u001b[49m\u001b[43m=\u001b[49m\u001b[43mscenario\u001b[49m\u001b[43m,\u001b[49m\n\u001b[32m   1164\u001b[39m \u001b[43m        \u001b[49m\u001b[43mdb_name\u001b[49m\u001b[43m=\u001b[49m\u001b[43mname\u001b[49m\u001b[43m[\u001b[49m\u001b[43ms\u001b[49m\u001b[43m]\u001b[49m\u001b[43m,\u001b[49m\n\u001b[32m   1165\u001b[39m \u001b[43m        \u001b[49m\u001b[43moriginal_database\u001b[49m\u001b[43m=\u001b[49m\u001b[38;5;28;43mself\u001b[39;49m\u001b[43m.\u001b[49m\u001b[43mdatabase\u001b[49m\u001b[43m,\u001b[49m\n\u001b[32m   1166\u001b[39m \u001b[43m        \u001b[49m\u001b[43mbiosphere_name\u001b[49m\u001b[43m=\u001b[49m\u001b[38;5;28;43mself\u001b[39;49m\u001b[43m.\u001b[49m\u001b[43mbiosphere_name\u001b[49m\u001b[43m,\u001b[49m\n\u001b[32m   1167\u001b[39m \u001b[43m    \u001b[49m\u001b[43m)\u001b[49m\n\u001b[32m   1168\u001b[39m \u001b[38;5;28;01mexcept\u001b[39;00m \u001b[38;5;167;01mValueError\u001b[39;00m:\n",
      "\u001b[36mFile \u001b[39m\u001b[32m~/Github/premise/premise/export.py:1029\u001b[39m, in \u001b[36m_prepare_database\u001b[39m\u001b[34m(scenario, db_name, original_database, biosphere_name)\u001b[39m\n\u001b[32m   1022\u001b[39m \u001b[38;5;28;01mdef\u001b[39;00m\u001b[38;5;250m \u001b[39m\u001b[34m_prepare_database\u001b[39m(\n\u001b[32m   1023\u001b[39m     scenario,\n\u001b[32m   1024\u001b[39m     db_name,\n\u001b[32m   1025\u001b[39m     original_database,\n\u001b[32m   1026\u001b[39m     biosphere_name,\n\u001b[32m   1027\u001b[39m ):\n\u001b[32m-> \u001b[39m\u001b[32m1029\u001b[39m     scenario[\u001b[33m\"\u001b[39m\u001b[33mdatabase\u001b[39m\u001b[33m\"\u001b[39m] = \u001b[43mprepare_db_for_export\u001b[49m\u001b[43m(\u001b[49m\n\u001b[32m   1030\u001b[39m \u001b[43m        \u001b[49m\u001b[43mscenario\u001b[49m\u001b[43m,\u001b[49m\n\u001b[32m   1031\u001b[39m \u001b[43m        \u001b[49m\u001b[43mname\u001b[49m\u001b[43m=\u001b[49m\u001b[43mdb_name\u001b[49m\u001b[43m,\u001b[49m\n\u001b[32m   1032\u001b[39m \u001b[43m        \u001b[49m\u001b[43moriginal_database\u001b[49m\u001b[43m=\u001b[49m\u001b[43moriginal_database\u001b[49m\u001b[43m,\u001b[49m\n\u001b[32m   1033\u001b[39m \u001b[43m        \u001b[49m\u001b[43mbiosphere_name\u001b[49m\u001b[43m=\u001b[49m\u001b[43mbiosphere_name\u001b[49m\u001b[43m,\u001b[49m\n\u001b[32m   1034\u001b[39m \u001b[43m    \u001b[49m\u001b[43m)\u001b[49m\n\u001b[32m   1036\u001b[39m     \u001b[38;5;28;01mreturn\u001b[39;00m scenario\n",
      "\u001b[36mFile \u001b[39m\u001b[32m~/Github/premise/premise/export.py:1017\u001b[39m, in \u001b[36mprepare_db_for_export\u001b[39m\u001b[34m(scenario, name, original_database, biosphere_name)\u001b[39m\n\u001b[32m   1007\u001b[39m validator = BaseDatasetValidator(\n\u001b[32m   1008\u001b[39m     model=scenario[\u001b[33m\"\u001b[39m\u001b[33mmodel\u001b[39m\u001b[33m\"\u001b[39m],\n\u001b[32m   1009\u001b[39m     scenario=scenario[\u001b[33m\"\u001b[39m\u001b[33mpathway\u001b[39m\u001b[33m\"\u001b[39m],\n\u001b[32m   (...)\u001b[39m\u001b[32m   1015\u001b[39m     biosphere_name=biosphere_name,\n\u001b[32m   1016\u001b[39m )\n\u001b[32m-> \u001b[39m\u001b[32m1017\u001b[39m \u001b[43mvalidator\u001b[49m\u001b[43m.\u001b[49m\u001b[43mrun_all_checks\u001b[49m\u001b[43m(\u001b[49m\u001b[43m)\u001b[49m\n\u001b[32m   1019\u001b[39m \u001b[38;5;28;01mreturn\u001b[39;00m validator.database\n",
      "\u001b[36mFile \u001b[39m\u001b[32m~/Github/premise/premise/validation.py:671\u001b[39m, in \u001b[36mBaseDatasetValidator.run_all_checks\u001b[39m\u001b[34m(self)\u001b[39m\n\u001b[32m    670\u001b[39m \u001b[38;5;28mprint\u001b[39m(\u001b[33m\"\u001b[39m\u001b[33m---> MAJOR anomalies found: check the change report.\u001b[39m\u001b[33m\"\u001b[39m)\n\u001b[32m--> \u001b[39m\u001b[32m671\u001b[39m \u001b[38;5;28;01mraise\u001b[39;00m \u001b[38;5;167;01mValueError\u001b[39;00m\n",
      "\u001b[31mValueError\u001b[39m: ",
      "\nDuring handling of the above exception, another exception occurred:\n",
      "\u001b[31mValueError\u001b[39m                                Traceback (most recent call last)",
      "\u001b[36mCell\u001b[39m\u001b[36m \u001b[39m\u001b[32mIn[3]\u001b[39m\u001b[32m, line 1\u001b[39m\n\u001b[32m----> \u001b[39m\u001b[32m1\u001b[39m \u001b[43mndb\u001b[49m\u001b[43m.\u001b[49m\u001b[43mwrite_db_to_brightway\u001b[49m\u001b[43m(\u001b[49m\u001b[43m)\u001b[49m\n",
      "\u001b[36mFile \u001b[39m\u001b[32m~/Github/premise/premise/new_database.py:1170\u001b[39m, in \u001b[36mNewDatabase.write_db_to_brightway\u001b[39m\u001b[34m(self, name)\u001b[39m\n\u001b[32m   1168\u001b[39m \u001b[38;5;28;01mexcept\u001b[39;00m \u001b[38;5;167;01mValueError\u001b[39;00m:\n\u001b[32m   1169\u001b[39m     \u001b[38;5;28mself\u001b[39m.generate_change_report()\n\u001b[32m-> \u001b[39m\u001b[32m1170\u001b[39m     \u001b[38;5;28;01mraise\u001b[39;00m \u001b[38;5;167;01mValueError\u001b[39;00m(\n\u001b[32m   1171\u001b[39m         \u001b[33m\"\u001b[39m\u001b[33mThe database is not ready for export: MAJOR anomalies found. Check the change report.\u001b[39m\u001b[33m\"\u001b[39m\n\u001b[32m   1172\u001b[39m     )\n\u001b[32m   1174\u001b[39m scenario[\u001b[33m\"\u001b[39m\u001b[33mdatabase name\u001b[39m\u001b[33m\"\u001b[39m] = name[s]\n\u001b[32m   1175\u001b[39m write_brightway_database(\n\u001b[32m   1176\u001b[39m     scenario[\u001b[33m\"\u001b[39m\u001b[33mdatabase\u001b[39m\u001b[33m\"\u001b[39m],\n\u001b[32m   1177\u001b[39m     name[s],\n\u001b[32m   1178\u001b[39m )\n",
      "\u001b[31mValueError\u001b[39m: The database is not ready for export: MAJOR anomalies found. Check the change report."
     ]
    }
   ],
   "source": [
    "ndb.write_db_to_brightway()"
   ]
  },
  {
   "cell_type": "code",
   "execution_count": 4,
   "id": "ff3bf957b44ebe9d",
   "metadata": {},
   "outputs": [],
   "source": [
    "from premise.activity_maps import InventorySet, debug_mapping_to_dataframe\n",
    "from premise.utils import load_database\n",
    "\n",
    "for scenario in ndb.scenarios:\n",
    "    scenario = load_database(scenario)"
   ]
  },
  {
   "cell_type": "code",
   "execution_count": 4,
   "id": "f7a908bd-bf0a-43b2-81d1-5ba86a0e9fbc",
   "metadata": {},
   "outputs": [
    {
     "name": "stdout",
     "output_type": "stream",
     "text": [
      "Running all checks...\n",
      "Minor anomalies found: check the change report.\n"
     ]
    }
   ],
   "source": [
    "from premise.validation import BaseDatasetValidator\n",
    "\n",
    "scenario = ndb.scenarios[0]\n",
    "\n",
    "try:\n",
    "    # validate the database\n",
    "    validator = BaseDatasetValidator(\n",
    "        model=scenario[\"model\"],\n",
    "        scenario=scenario[\"pathway\"],\n",
    "        year=scenario[\"year\"],\n",
    "        regions=scenario[\"iam data\"].regions,\n",
    "        original_database=ndb.database,\n",
    "        database=scenario[\"database\"],\n",
    "        db_name=\"some name\",\n",
    "        biosphere_name=\"biosphere3\",\n",
    "    )\n",
    "    validator.run_all_checks()\n",
    "except ValueError:\n",
    "    ndb.generate_change_report()"
   ]
  },
  {
   "cell_type": "code",
   "execution_count": 3,
   "id": "1cbe913512716d4d",
   "metadata": {
    "ExecuteTime": {
     "end_time": "2025-05-31T14:52:28.977133Z",
     "start_time": "2025-05-31T14:52:28.846350Z"
    }
   },
   "outputs": [
    {
     "name": "stdout",
     "output_type": "stream",
     "text": [
      "Write new database(s) to Brightway.\n",
      "Running all checks...\n",
      "Minor anomalies found: check the change report.\n"
     ]
    },
    {
     "name": "stderr",
     "output_type": "stream",
     "text": [
      "Writing activities to SQLite3 database:\n",
      "0% [##############################] 100% | ETA: 00:00:00\n",
      "Total time elapsed: 00:00:15\n"
     ]
    },
    {
     "name": "stdout",
     "output_type": "stream",
     "text": [
      "Title: Writing activities to SQLite3 database:\n",
      "  Started: 07/03/2025 16:09:09\n",
      "  Finished: 07/03/2025 16:09:25\n",
      "  Total time elapsed: 00:00:15\n",
      "  CPU %: 90.40\n",
      "  Memory %: 13.33\n",
      "Created database: ei_cutoff_3.10_remind_SSP2-rollBack_2050 2025-07-03\n",
      "Generate scenario report.\n",
      "Report saved under /Users/romain/Github/premise/dev/export/scenario_report.\n",
      "Generate change report.\n",
      "Report saved under /Users/romain/Github/premise/dev/export/change reports/.\n"
     ]
    }
   ],
   "source": [
    "ndb.write_db_to_brightway()"
   ]
  },
  {
   "cell_type": "code",
   "execution_count": 4,
   "id": "a98f6a056e254034",
   "metadata": {
    "ExecuteTime": {
     "end_time": "2025-05-31T14:53:08.167508Z",
     "start_time": "2025-05-31T14:53:08.162949Z"
    }
   },
   "outputs": [
    {
     "data": {
      "text/plain": [
       "'CAZ'"
      ]
     },
     "execution_count": 4,
     "metadata": {},
     "output_type": "execute_result"
    }
   ],
   "source": [
    "ndb.generate_change_report()"
   ]
  },
  {
   "cell_type": "code",
   "execution_count": 3,
   "id": "d1371e26c1ef3f12",
   "metadata": {
    "ExecuteTime": {
     "end_time": "2025-05-31T19:29:02.063908Z",
     "start_time": "2025-05-31T19:24:56.349879Z"
    }
   },
   "outputs": [
    {
     "name": "stdout",
     "output_type": "stream",
     "text": [
      "Write new database(s) to Brightway.\n",
      "Running all checks...\n",
      "Minor anomalies found: check the change report.\n",
      "Warning: No valid output stream.\n",
      "Title: Writing activities to SQLite3 database:\n",
      "  Started: 05/31/2025 21:25:58\n",
      "  Finished: 05/31/2025 21:26:18\n",
      "  Total time elapsed: 00:00:19\n",
      "  CPU %: 92.40\n",
      "  Memory %: 15.12\n",
      "Created database: test cng 3\n",
      "Generate scenario report.\n",
      "Report saved under /Users/romain/GitHub/premise/dev/export/scenario_report.\n",
      "Generate change report.\n",
      "Report saved under /Users/romain/GitHub/premise/dev.\n"
     ]
    }
   ],
   "source": [
    "ndb.write_db_to_brightway()"
   ]
  },
  {
   "cell_type": "code",
   "execution_count": 5,
   "id": "f4460b04-3c97-48f2-ad57-ab5fc08803b4",
   "metadata": {},
   "outputs": [
    {
     "name": "stdout",
     "output_type": "stream",
     "text": [
      "carbon dioxide, captured, at cement production plant, using monoethanolamine RER\n"
     ]
    }
   ],
   "source": [
    "for ds in ndb.scenarios[0][\"database\"]:\n",
    "    if ds[\"name\"] == \"carbon dioxide, captured, at cement production plant, using monoethanolamine\":\n",
    "        print(ds[\"name\"], ds[\"location\"])"
   ]
  },
  {
   "cell_type": "code",
   "execution_count": 3,
   "id": "ccce5b22-4785-49ad-afb1-a78802aedfc1",
   "metadata": {
    "ExecuteTime": {
     "end_time": "2025-05-31T15:14:34.316563Z",
     "start_time": "2025-05-31T15:14:31.150889Z"
    }
   },
   "outputs": [],
   "source": [
    "    df = debug_mapping_to_dataframe(\n",
    "    scenarios[0]\n",
    ")"
   ]
  },
  {
   "cell_type": "code",
   "execution_count": 4,
   "id": "1e6a097d-612d-42fc-970b-641ed6d730a5",
   "metadata": {},
   "outputs": [],
   "source": [
    "df.to_excel(\"mapping.xlsx\")"
   ]
  },
  {
   "cell_type": "code",
   "execution_count": 5,
   "id": "be71ab42-7ac0-481e-8aa7-ace9833d9bf5",
   "metadata": {},
   "outputs": [],
   "source": [
    "inv = InventorySet(\n",
    "    database=ndb.scenarios[0][\"database\"],\n",
    "    version=\"3.10\",\n",
    "    model=\"remind\"\n",
    ")\n",
    "biomass_map = inv.generate_cement_map()\n",
    "df_biomass = debug_mapping_to_dataframe(biomass_map)\n",
    "df_biomass"
   ]
  },
  {
   "cell_type": "code",
   "execution_count": 5,
   "id": "e4ae8960-848b-46a7-bc4d-113e047bc30e",
   "metadata": {},
   "outputs": [
    {
     "data": {
      "text/html": [
       "<div>\n",
       "<style scoped>\n",
       "    .dataframe tbody tr th:only-of-type {\n",
       "        vertical-align: middle;\n",
       "    }\n",
       "\n",
       "    .dataframe tbody tr th {\n",
       "        vertical-align: top;\n",
       "    }\n",
       "\n",
       "    .dataframe thead th {\n",
       "        text-align: right;\n",
       "    }\n",
       "</style>\n",
       "<table border=\"1\" class=\"dataframe\">\n",
       "  <thead>\n",
       "    <tr style=\"text-align: right;\">\n",
       "      <th></th>\n",
       "      <th>Category</th>\n",
       "      <th>Market</th>\n",
       "      <th>Product</th>\n",
       "      <th>Locations</th>\n",
       "    </tr>\n",
       "  </thead>\n",
       "  <tbody>\n",
       "    <tr>\n",
       "      <th>0</th>\n",
       "      <td>cement, dry feed rotary kiln</td>\n",
       "      <td>clinker production</td>\n",
       "      <td>clinker</td>\n",
       "      <td>[BR, CA-QC, CAZ, CH, CHA, CO, EC, EUR, Europe ...</td>\n",
       "    </tr>\n",
       "    <tr>\n",
       "      <th>1</th>\n",
       "      <td>cement, dry feed rotary kiln, efficient, with ...</td>\n",
       "      <td>clinker production</td>\n",
       "      <td>clinker</td>\n",
       "      <td>[BR, CA-QC, CAZ, CH, CHA, CO, EC, EUR, Europe ...</td>\n",
       "    </tr>\n",
       "    <tr>\n",
       "      <th>2</th>\n",
       "      <td></td>\n",
       "      <td>clinker production, dry feed rotary kiln, effi...</td>\n",
       "      <td>clinker</td>\n",
       "      <td>[CAZ, CHA, EUR, Europe without Switzerland, IN...</td>\n",
       "    </tr>\n",
       "  </tbody>\n",
       "</table>\n",
       "</div>"
      ],
      "text/plain": [
       "                                            Category  \\\n",
       "0                       cement, dry feed rotary kiln   \n",
       "1  cement, dry feed rotary kiln, efficient, with ...   \n",
       "2                                                      \n",
       "\n",
       "                                              Market  Product  \\\n",
       "0                                 clinker production  clinker   \n",
       "1                                 clinker production  clinker   \n",
       "2  clinker production, dry feed rotary kiln, effi...  clinker   \n",
       "\n",
       "                                           Locations  \n",
       "0  [BR, CA-QC, CAZ, CH, CHA, CO, EC, EUR, Europe ...  \n",
       "1  [BR, CA-QC, CAZ, CH, CHA, CO, EC, EUR, Europe ...  \n",
       "2  [CAZ, CHA, EUR, Europe without Switzerland, IN...  "
      ]
     },
     "execution_count": 5,
     "metadata": {},
     "output_type": "execute_result"
    }
   ],
   "source": [
    "dataset = bw2data.Database(\"ecoinvent-3.11-cutoff\").random()\n",
    "\n",
    "list = []\n",
    "\n",
    "for exc in dataset.exchanges():\n",
    "    list.append(\n",
    "        (\n",
    "            dataset[\"name\"],\n",
    "            dataset.get(\"comment\", \"\"),\n",
    "            exc[\"name\"],\n",
    "            exc.input.get(\"reference product\"),\n",
    "            exc.input.get(\"location\"),\n",
    "            exc[\"type\"],\n",
    "            exc[\"amount\"],\n",
    "            exc[\"unit\"],\n",
    "        )\n",
    "    )"
   ]
  },
  {
   "cell_type": "code",
   "execution_count": null,
   "id": "7db3d85c-6ac4-41df-8cc6-da32863e0c3d",
   "metadata": {},
   "outputs": [],
   "source": [
    "import pandas as pd\n",
    "pd.DataFrame(list, columns=[\"dataset\", \"comment\",\"name\", \"product\", \"location\", \"type\", \"amount\", \"unit\"])"
   ]
  },
  {
   "cell_type": "code",
   "execution_count": 9,
   "id": "a7aba331-d50b-4613-b734-87615f221902",
   "metadata": {},
   "outputs": [],
   "source": [
    "for ds in ndb.scenarios[3][\"database\"]:\n",
    "    if ds[\"name\"] == \"transport, passenger bus, gasoline, 13m single deck urban bus, EURO-VI\":\n",
    "        print(ds[\"location\"])"
   ]
  },
  {
   "cell_type": "code",
   "execution_count": 6,
   "id": "1461747f13237266",
   "metadata": {
    "ExecuteTime": {
     "end_time": "2025-05-31T15:16:12.946035Z",
     "start_time": "2025-05-31T15:16:12.749927Z"
    }
   },
   "outputs": [
    {
     "name": "stdout",
     "output_type": "stream",
     "text": [
      "market for natural gas, low pressure JPN natural gas, low pressure\n",
      "market for natural gas, low pressure 1.0 JPN production\n",
      "biomethane production, from biogas upgrading, using amine scrubbing 0.25094126690230667 JPN technosphere\n",
      "natural gas, high pressure, import from AE 0.006514966900189843 RoW technosphere\n",
      "natural gas, high pressure, import from AU 0.13096181401672782 RoW technosphere\n",
      "natural gas, high pressure, import from EG 0.0009565722182054117 RoW technosphere\n",
      "natural gas, high pressure, import from ID 0.009271498155888725 RoW technosphere\n",
      "natural gas, high pressure, import from MY 0.050056608013976156 RoW technosphere\n",
      "natural gas, high pressure, import from NG 0.004153829905826414 RoW technosphere\n",
      "natural gas, high pressure, import from OM 0.009361828196270407 RoW technosphere\n",
      "natural gas, high pressure, import from PE 0.002624487359181432 JPN technosphere\n",
      "natural gas, high pressure, import from QA 0.044482293487315694 RoW technosphere\n",
      "natural gas, high pressure, import from RU 0.03162021892561264 RoW technosphere\n",
      "natural gas, high pressure, import from US 0.034757567944892986 RoW technosphere\n",
      "natural gas, liquefied, import from AE 0.006514966900189843 RoW technosphere\n",
      "natural gas, liquefied, import from AU 0.13096181401672782 RoW technosphere\n",
      "natural gas, liquefied, import from EG 0.0009565722182054117 RoW technosphere\n",
      "natural gas, liquefied, import from ID 0.009271498155888725 RoW technosphere\n",
      "natural gas, liquefied, import from MY 0.050056608013976156 RoW technosphere\n",
      "natural gas, liquefied, import from NG 0.004153829905826414 RoW technosphere\n",
      "natural gas, liquefied, import from OM 0.009361828196270407 RoW technosphere\n",
      "natural gas, liquefied, import from PE 0.002624487359181432 RoW technosphere\n",
      "natural gas, liquefied, import from QA 0.044482293487315694 RoW technosphere\n",
      "natural gas, liquefied, import from RU 0.03162021892561264 RoW technosphere\n",
      "natural gas, liquefied, import from US 0.034757567944892986 RoW technosphere\n",
      "\n"
     ]
    }
   ],
   "source": [
    "t = [\n",
    "    tech for tech in ndb.scenarios[0][\"iam data\"].daccs_energy_use.variables.values\n",
    "]"
   ]
  },
  {
   "cell_type": "code",
   "execution_count": 7,
   "id": "a63c33246ded8fe9",
   "metadata": {
    "ExecuteTime": {
     "end_time": "2025-05-30T10:15:24.052604Z",
     "start_time": "2025-05-30T10:15:24.024019Z"
    }
   },
   "outputs": [
    {
     "name": "stdout",
     "output_type": "stream",
     "text": [
      "market for transport, passenger car, EURO 3 1.0 RER production\n",
      "transport, passenger car, EURO 3 1.0 RER technosphere\n",
      "\n",
      "market for transport, passenger car with internal combustion engine 1.0 RER production\n",
      "transport, passenger car with internal combustion engine 1.0 RER technosphere\n",
      "\n",
      "market for transport, passenger car, EURO 4 1.0 RER production\n",
      "transport, passenger car, EURO 4 1.0 RER technosphere\n",
      "\n",
      "market for transport, passenger car, EURO 5 1.0 RER production\n",
      "transport, passenger car, EURO 5 1.0 RER technosphere\n",
      "\n",
      "market for transport, passenger car 1.0 RER production\n",
      "market for transport, passenger car 1.0 EUR technosphere\n",
      "\n"
     ]
    }
   ],
   "source": [
    "[x for x in t if x not in ndb.scenarios[0][\"iam data\"].production_volumes.variables.values]"
   ]
  },
  {
   "cell_type": "code",
   "execution_count": 5,
   "id": "abb7edb84da2ed10",
   "metadata": {
    "ExecuteTime": {
     "end_time": "2025-05-30T07:43:45.640111Z",
     "start_time": "2025-05-30T07:43:45.591358Z"
    }
   },
   "outputs": [
    {
     "name": "stdout",
     "output_type": "stream",
     "text": [
      "market for sawlog and veneer log, softwood, measured as solid wood under bark production CHA 1.0\n",
      "market for transport, freight train technosphere CN 13.2253954116397\n",
      "market for transport, freight, lorry, unspecified technosphere RoW 5.805904223724\n",
      "market for transport, freight, sea, bulk carrier for dry goods technosphere GLO 15.6522262861392\n",
      "softwood forestry, pine, sustainable forest management technosphere RoW 0.448540479487862\n",
      "softwood forestry, spruce, sustainable forest management technosphere RoW 0.551459520512138\n",
      "\n"
     ]
    }
   ],
   "source": [
    "ndb.scenarios[0][\"iam data\"].production_volumes.sel(\n",
    "    year=2060, variables=t\n",
    ")"
   ]
  },
  {
   "cell_type": "code",
   "execution_count": null,
   "id": "1dc344c2e8c8af47",
   "metadata": {},
   "outputs": [],
   "source": [
    " ndb.scenarios[0][\"iam data\"].daccs_energy_use.sel(region=\"CAZ\", year=2060)"
   ]
  },
  {
   "cell_type": "code",
   "execution_count": null,
   "id": "fddad7e3b3ce3df0",
   "metadata": {},
   "outputs": [],
   "source": [
    "    ei311 = list(set([\n",
    "    (\n",
    "        act[\"name\"],\n",
    "        act[\"reference product\"],\n",
    "    )\n",
    "    for act in bw2data.Database(\"ecoinvent-3.11-cutoff\")\n",
    "]))"
   ]
  },
  {
   "cell_type": "code",
   "execution_count": null,
   "id": "3d4787d6fd6eed0f",
   "metadata": {},
   "outputs": [],
   "source": []
  },
  {
   "cell_type": "code",
   "execution_count": null,
   "id": "3042801535eb2edd",
   "metadata": {},
   "outputs": [],
   "source": [
    "ndb.write_db_to_simapro()"
   ]
  },
  {
   "cell_type": "code",
   "execution_count": null,
   "id": "1f83c7e86330f01d",
   "metadata": {},
   "outputs": [],
   "source": [
    "ndb.scenarios[1][\"iam data\"].carbon_capture_rate"
   ]
  },
  {
   "cell_type": "code",
   "execution_count": null,
   "id": "11481d3ada198833",
   "metadata": {},
   "outputs": [],
   "source": [
    "from collections import defaultdict\n",
    "res = defaultdict(float)\n",
    "for ds in ndb.scenarios[1][\"database\"]:\n",
    "    if ds[\"name\"]==\"market group for heat, district or industrial, natural gas\":\n",
    "        print(ds[\"location\"], ds[\"name\"])\n",
    "        for e in ds[\"exchanges\"]:\n",
    "            print(e[\"name\"], e[\"amount\"], e.get(\"location\"), e[\"type\"])\n",
    "        print()\n"
   ]
  },
  {
   "cell_type": "code",
   "execution_count": null,
   "id": "10bfdd08837e1191",
   "metadata": {},
   "outputs": [],
   "source": [
    "from premise.geomap import Geomap\n",
    "geo = Geomap(\"remind\")\n",
    "geo.ecoinvent_to_iam_location(\"Europe, without Russia and Turkey\")"
   ]
  },
  {
   "cell_type": "code",
   "execution_count": null,
   "id": "c45644d449e49f48",
   "metadata": {},
   "outputs": [],
   "source": [
    "geo.rev_additional_mappings"
   ]
  },
  {
   "cell_type": "code",
   "execution_count": null,
   "id": "8f8ce523f532db76",
   "metadata": {},
   "outputs": [],
   "source": [
    "import pandas as pd\n",
    "import matplotlib.pyplot as plt\n",
    "pd.DataFrame.from_dict(res, orient=\"index\").plot(kind=\"bar\", figsize=(20, 5))\n",
    "plt.ylabel(\"kg heavy fuel oil/kWh\")\n",
    "plt.savefig(\"electricity production, oil.png\")"
   ]
  },
  {
   "cell_type": "code",
   "execution_count": null,
   "id": "8c8a1fec9589751f",
   "metadata": {},
   "outputs": [],
   "source": [
    "ndb.scenarios[0][\"iam data\"].electricity_efficiencies.sel(variables=\"Biomass IGCC CCS\", year=2050)"
   ]
  },
  {
   "cell_type": "code",
   "execution_count": null,
   "id": "bd3545b05dd6a461",
   "metadata": {},
   "outputs": [],
   "source": [
    "ndb.scenarios[0][\"iam data\"].gas_markets.sel(region=\"World\")"
   ]
  },
  {
   "cell_type": "code",
   "execution_count": null,
   "id": "3c11a56fae6edb1e",
   "metadata": {},
   "outputs": [],
   "source": [
    "for ds in ndb.scenarios[0][\"database\"]:\n",
    "    for e in ds[\"exchanges\"]:\n",
    "        if e[\"name\"] == \"market for platinum\" and e[\"product\"] == \"platinum\":\n",
    "            print(ds[\"name\"], ds[\"location\"], e[\"name\"], e[\"location\"])"
   ]
  },
  {
   "cell_type": "code",
   "execution_count": null,
   "id": "d7306de6c3f7d666",
   "metadata": {},
   "outputs": [],
   "source": [
    "from premise.activity_maps import InventorySet\n",
    "inv = InventorySet(ndb.database, \"3.9\")"
   ]
  },
  {
   "cell_type": "code",
   "execution_count": null,
   "id": "2ec8df24fcb542f1",
   "metadata": {},
   "outputs": [],
   "source": [
    "inv.generate_powerplant_map()"
   ]
  },
  {
   "cell_type": "code",
   "execution_count": null,
   "id": "5b76ad182f3baeba",
   "metadata": {},
   "outputs": [],
   "source": [
    "ndb.write_db_to_brightway(\"test_metals\")"
   ]
  },
  {
   "cell_type": "code",
   "execution_count": null,
   "id": "72550b1fed0d35f0",
   "metadata": {},
   "outputs": [],
   "source": [
    "len(acts)"
   ]
  },
  {
   "cell_type": "code",
   "execution_count": null,
   "id": "92643f7e6927245d",
   "metadata": {},
   "outputs": [],
   "source": [
    "import bw2data\n",
    "bw2io.BW2Package.export_obj(obj=bw.Database(\"brian\"), filename=\"db_for_brian.bw2package\")"
   ]
  },
  {
   "cell_type": "code",
   "execution_count": null,
   "id": "de440f0db2b13ec4",
   "metadata": {},
   "outputs": [],
   "source": []
  },
  {
   "cell_type": "code",
   "execution_count": null,
   "id": "cd94ca83dbc3b727",
   "metadata": {},
   "outputs": [],
   "source": [
    "ei_acts = list(set([(a[\"name\"], a[\"reference product\"]) for a in bw.Database(\"ecoinvent 3.9.1 cutoff\")]))\n",
    "print(len(ei_acts))"
   ]
  },
  {
   "cell_type": "code",
   "execution_count": null,
   "id": "6fe20db999c31460",
   "metadata": {},
   "outputs": [],
   "source": [
    "for ds in i.data:\n",
    "    if (ds[\"name\"], ds[\"reference product\"]) not in ei_acts:\n",
    "        print(ds[\"name\"])"
   ]
  },
  {
   "cell_type": "code",
   "execution_count": null,
   "id": "d8a7689d7ea9f548",
   "metadata": {},
   "outputs": [],
   "source": [
    "for ds in i.data:\n",
    "    print(ds[\"name\"])"
   ]
  },
  {
   "cell_type": "code",
   "execution_count": null,
   "id": "ce2d1a7299bd6782",
   "metadata": {},
   "outputs": [],
   "source": [
    "i.statistics()"
   ]
  },
  {
   "cell_type": "code",
   "execution_count": null,
   "id": "dcb64973be80c3c",
   "metadata": {},
   "outputs": [],
   "source": [
    "bw.get_activity(('brian', '360c5e612a154ebb8cee2650bcc1bc75_copy1'))"
   ]
  },
  {
   "cell_type": "code",
   "execution_count": null,
   "id": "32a8ddbc29d21b73",
   "metadata": {},
   "outputs": [],
   "source": [
    "bw.projects.set_current(\"ei39\")"
   ]
  },
  {
   "cell_type": "code",
   "execution_count": null,
   "id": "6a2b812bfe7ed3ef",
   "metadata": {},
   "outputs": [],
   "source": [
    "import csv\n",
    "\n",
    "with open(\"flows_biosphere_39.csv\", \"w\", newline=\"\", ) as f:\n",
    "    writer = csv.writer(f, delimiter=\";\")\n",
    "    writer.writerows(l)"
   ]
  },
  {
   "cell_type": "code",
   "execution_count": null,
   "id": "8b670e0fa0fda81f",
   "metadata": {},
   "outputs": [],
   "source": [
    "import numpy as np\n",
    "for ds in ndb.scenarios[1][\"database\"]:\n",
    "    if ds[\"name\"] == (\"carbon dioxide, captured from atmosphere, with a solvent-based direct air capture system, 1MtCO2, with waste heat, and grid electricity\",\n",
    "                            \"carbon dioxide, captured from atmosphere\"):\n",
    "            print(ds[\"name\"], ds[\"location\"])"
   ]
  },
  {
   "cell_type": "code",
   "execution_count": null,
   "id": "fbe44335831df1",
   "metadata": {},
   "outputs": [],
   "source": [
    "ndb.scenarios[0][\"iam data\"].fuel_markets.sel(region=\"WEU\", year=2050)"
   ]
  },
  {
   "cell_type": "code",
   "execution_count": null,
   "id": "af8fd5290167c25c",
   "metadata": {},
   "outputs": [],
   "source": [
    "ndb.update_electricity()"
   ]
  },
  {
   "cell_type": "code",
   "execution_count": null,
   "id": "92bdc92f238e12fa",
   "metadata": {},
   "outputs": [],
   "source": [
    "ndb.generate_scenario_report()"
   ]
  },
  {
   "cell_type": "code",
   "execution_count": null,
   "id": "ecdb14752a986bf5",
   "metadata": {},
   "outputs": [],
   "source": [
    "ndb.update_all()"
   ]
  },
  {
   "cell_type": "code",
   "execution_count": null,
   "id": "bd553b607c0eec02",
   "metadata": {},
   "outputs": [],
   "source": [
    "ndb.generate_change_report()"
   ]
  },
  {
   "cell_type": "code",
   "execution_count": null,
   "id": "5a73163962ead122",
   "metadata": {},
   "outputs": [],
   "source": []
  },
  {
   "cell_type": "code",
   "execution_count": null,
   "id": "fb9125119e460f9",
   "metadata": {},
   "outputs": [],
   "source": [
    "ndb.write_db_to_brightway([\"test_dac\", \"test_dac2\"])"
   ]
  },
  {
   "cell_type": "code",
   "execution_count": null,
   "id": "d2d9db61092ecf24",
   "metadata": {},
   "outputs": [],
   "source": [
    "Geomap()"
   ]
  },
  {
   "cell_type": "code",
   "execution_count": null,
   "id": "ee6489cf5bf6d7b4",
   "metadata": {},
   "outputs": [],
   "source": [
    "ndb.scenarios[0][\"iam data\"].carbon_capture_rate.sel(variables=\"steel\")"
   ]
  },
  {
   "cell_type": "code",
   "execution_count": null,
   "id": "bbaf04d22ed3a879",
   "metadata": {},
   "outputs": [],
   "source": []
  }
 ],
 "metadata": {
  "kernelspec": {
   "display_name": "Python 3 (ipykernel)",
   "language": "python",
   "name": "python3"
  },
  "language_info": {
   "codemirror_mode": {
    "name": "ipython",
    "version": 3
   },
   "file_extension": ".py",
   "mimetype": "text/x-python",
   "name": "python",
   "nbconvert_exporter": "python",
   "pygments_lexer": "ipython3",
   "version": "3.11.12"
  }
 },
 "nbformat": 4,
 "nbformat_minor": 5
}
