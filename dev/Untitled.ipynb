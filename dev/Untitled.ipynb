{
 "cells": [
  {
   "metadata": {
    "ExecuteTime": {
     "end_time": "2025-05-31T19:24:42.355616Z",
     "start_time": "2025-05-31T19:24:33.871646Z"
    }
   },
   "cell_type": "code",
   "source": [
    "%%time\n",
    "\n",
    "from premise import *\n",
    "import bw2data\n",
    "bw2data.projects.set_current(\"ecoinvent-3.10.1-cutoff\")\n",
    "#bw2data.projects.set_current(\"ecoinvent-3.9.1-cutoff_bw25\")\n",
    "#clear_inventory_cache()\n",
    "scenarios = [\n",
    "    #{\"model\": \"remind\", \"pathway\": \"SSP2-NPi\", \"year\": 2020},\n",
    "    {\"model\": \"remind\", \"pathway\": \"SSP2-PkBudg650\", \"year\": 2040},\n",
    "]\n",
    "\n",
    "ndb = NewDatabase(\n",
    "        scenarios=scenarios,\n",
    "        source_db=\"ecoinvent-3.10.1-cutoff\",\n",
    "        source_version=\"3.10\",\n",
    "        biosphere_name=\"biosphere3\",\n",
    "        key='tUePmX_S5B8ieZkkM7WUU2CnO8SmShwmAeWK9x2rTFo=',\n",
    ")\n",
    "#ndb.write_db_to_brightway(\"test final energy 2\")"
   ],
   "id": "536a04a5dcd99805",
   "outputs": [
    {
     "name": "stdout",
     "output_type": "stream",
     "text": [
      "premise v.(2, 3, 0, 'dev0')\n",
      "+------------------------------------------------------------------+\n",
      "| Warning                                                          |\n",
      "+------------------------------------------------------------------+\n",
      "| Because some of the scenarios can yield LCI databases            |\n",
      "| containing net negative emission technologies (NET),             |\n",
      "| it is advised to account for biogenic CO2 flows when calculating |\n",
      "| Global Warming potential indicators.                             |\n",
      "| `premise_gwp` provides characterization factors for such flows.  |\n",
      "| It also provides factors for hydrogen emissions to air.          |\n",
      "|                                                                  |\n",
      "| Within your bw2 project:                                         |\n",
      "| from premise_gwp import add_premise_gwp                          |\n",
      "| add_premise_gwp()                                                |\n",
      "+------------------------------------------------------------------+\n",
      "+--------------------------------+----------------------------------+\n",
      "| Utils functions                | Description                      |\n",
      "+--------------------------------+----------------------------------+\n",
      "| clear_cache()                  | Clears the cache folder. Useful  |\n",
      "|                                | when updating `premise`or        |\n",
      "|                                | encountering issues with         |\n",
      "|                                | inventories.                     |\n",
      "+--------------------------------+----------------------------------+\n",
      "| get_regions_definition(model)  | Retrieves the list of countries  |\n",
      "|                                | for each region of the model.    |\n",
      "+--------------------------------+----------------------------------+\n",
      "| ndb.NewDatabase(...)           | Generates a summary of the most  |\n",
      "| ndb.generate_scenario_report() | important scenarios' variables.  |\n",
      "+--------------------------------+----------------------------------+\n",
      "Keep uncertainty data?\n",
      "NewDatabase(..., keep_source_db_uncertainty=True), keep_imports_uncertainty=True)\n",
      "\n",
      "Hide these messages?\n",
      "NewDatabase(..., quiet=True)\n",
      "- Extracting source database\n",
      "- Extracting inventories\n",
      "- Fetching IAM data\n",
      "Done!\n",
      "CPU times: user 6.44 s, sys: 904 ms, total: 7.35 s\n",
      "Wall time: 8.48 s\n"
     ]
    }
   ],
   "execution_count": 1
  },
  {
   "metadata": {
    "ExecuteTime": {
     "end_time": "2025-05-31T19:24:56.297176Z",
     "start_time": "2025-05-31T19:24:42.364648Z"
    }
   },
   "cell_type": "code",
   "source": [
    "%%time\n",
    "ndb.update([\n",
    "    \"fuels\"\n",
    "    #\"cars\",\n",
    "    #\"buses\",\n",
    "    #\"trains\",\n",
    "    #\"two_wheelers\",\n",
    "    #\"trucks\",\n",
    "\n",
    "    #\"heat\",\n",
    "    #\"final energy\",\n",
    "    #\"biomass\",\n",
    "    #\"electricity\",\n",
    "    #\"metals\"\n",
    "    #\"steel\",\n",
    "    #\"cement\",\n",
    "    #\"cdr\"\n",
    "])"
   ],
   "id": "f6b6f582ed096b0e",
   "outputs": [
    {
     "name": "stderr",
     "output_type": "stream",
     "text": [
      "Processing scenarios for 1 sectors: 100%|█| 1/1 [00:13<00:00, 13.93s/i"
     ]
    },
    {
     "name": "stdout",
     "output_type": "stream",
     "text": [
      "Done!\n",
      "\n",
      "CPU times: user 9.59 s, sys: 1.88 s, total: 11.5 s\n",
      "Wall time: 13.9 s\n"
     ]
    },
    {
     "name": "stderr",
     "output_type": "stream",
     "text": [
      "\n"
     ]
    }
   ],
   "execution_count": 2
  },
  {
   "metadata": {
    "ExecuteTime": {
     "end_time": "2025-05-31T14:52:28.977133Z",
     "start_time": "2025-05-31T14:52:28.846350Z"
    }
   },
   "cell_type": "code",
   "source": [
    "from premise.geomap import Geomap\n",
    "geo = Geomap(model=\"remind\")"
   ],
   "id": "1cbe913512716d4d",
   "outputs": [],
   "execution_count": 3
  },
  {
   "metadata": {
    "ExecuteTime": {
     "end_time": "2025-05-31T14:53:08.167508Z",
     "start_time": "2025-05-31T14:53:08.162949Z"
    }
   },
   "cell_type": "code",
   "source": "geo.ecoinvent_to_iam_location(\"CA\")",
   "id": "a98f6a056e254034",
   "outputs": [
    {
     "data": {
      "text/plain": [
       "'CAZ'"
      ]
     },
     "execution_count": 4,
     "metadata": {},
     "output_type": "execute_result"
    }
   ],
   "execution_count": 4
  },
  {
   "metadata": {
    "ExecuteTime": {
     "end_time": "2025-05-31T19:29:02.063908Z",
     "start_time": "2025-05-31T19:24:56.349879Z"
    }
   },
   "cell_type": "code",
   "source": "ndb.write_db_to_brightway(\"test cng 3\")",
   "id": "d1371e26c1ef3f12",
   "outputs": [
    {
     "name": "stdout",
     "output_type": "stream",
     "text": [
      "Write new database(s) to Brightway.\n",
      "Running all checks...\n",
      "Minor anomalies found: check the change report.\n",
      "Warning: No valid output stream.\n",
      "Title: Writing activities to SQLite3 database:\n",
      "  Started: 05/31/2025 21:25:58\n",
      "  Finished: 05/31/2025 21:26:18\n",
      "  Total time elapsed: 00:00:19\n",
      "  CPU %: 92.40\n",
      "  Memory %: 15.12\n",
      "Created database: test cng 3\n",
      "Generate scenario report.\n",
      "Report saved under /Users/romain/GitHub/premise/dev/export/scenario_report.\n",
      "Generate change report.\n",
      "Report saved under /Users/romain/GitHub/premise/dev.\n"
     ]
    }
   ],
   "execution_count": 3
  },
  {
   "metadata": {},
   "cell_type": "code",
   "outputs": [],
   "execution_count": null,
   "source": [
    "import bw2calc\n",
    "import bw2data\n",
    "bw2data.projects.set_current(\"ecoinvent-3.10-cutoff\")\n",
    "db = bw2data.Database(\"test steel 9\")\n",
    "act = db.random()\n",
    "method = bw2data.methods.random()\n",
    "print(act)\n",
    "print(method)\n",
    "lca = bw2calc.LCA({act:1}, method)\n",
    "lca.lci()\n",
    "lca.lcia()\n",
    "lca.score"
   ],
   "id": "ff3bf957b44ebe9d"
  },
  {
   "cell_type": "code",
   "execution_count": 16,
   "id": "f4460b04-3c97-48f2-ad57-ab5fc08803b4",
   "metadata": {},
   "outputs": [
    {
     "data": {
      "text/plain": [
       "<Compressed Sparse Row sparse matrix of dtype 'float64'\n",
       "\twith 335965 stored elements and shape (2687, 26329)>"
      ]
     },
     "execution_count": 16,
     "metadata": {},
     "output_type": "execute_result"
    }
   ],
   "source": [
    "lca.inventory"
   ]
  },
  {
   "cell_type": "code",
   "id": "ccce5b22-4785-49ad-afb1-a78802aedfc1",
   "metadata": {
    "ExecuteTime": {
     "end_time": "2025-05-31T15:14:34.316563Z",
     "start_time": "2025-05-31T15:14:31.150889Z"
    }
   },
   "source": [
    "from premise.utils import load_database\n",
    "\n",
    "for scenario in ndb.scenarios:\n",
    "    scenario = load_database(scenario)"
   ],
   "outputs": [],
   "execution_count": 3
  },
  {
   "cell_type": "code",
   "execution_count": 4,
   "id": "1e6a097d-612d-42fc-970b-641ed6d730a5",
   "metadata": {},
   "outputs": [],
   "source": [
    "from premise.activity_maps import InventorySet, debug_mapping_to_dataframe"
   ]
  },
  {
   "cell_type": "code",
   "execution_count": 5,
   "id": "be71ab42-7ac0-481e-8aa7-ace9833d9bf5",
   "metadata": {},
   "outputs": [],
   "source": [
    "import pandas as pd\n",
    "# Display full DataFrame without truncation\n",
    "pd.set_option('display.max_rows', None)        # Show all rows\n",
    "pd.set_option('display.max_columns', None)     # Show all columns\n",
    "pd.set_option('display.max_colwidth', None)    # Don't truncate column content\n",
    "pd.set_option('display.expand_frame_repr', False)  # Prevent line wrapping\n"
   ]
  },
  {
   "cell_type": "code",
   "execution_count": 5,
   "id": "e4ae8960-848b-46a7-bc4d-113e047bc30e",
   "metadata": {},
   "outputs": [
    {
     "data": {
      "text/html": [
       "<div>\n",
       "<style scoped>\n",
       "    .dataframe tbody tr th:only-of-type {\n",
       "        vertical-align: middle;\n",
       "    }\n",
       "\n",
       "    .dataframe tbody tr th {\n",
       "        vertical-align: top;\n",
       "    }\n",
       "\n",
       "    .dataframe thead th {\n",
       "        text-align: right;\n",
       "    }\n",
       "</style>\n",
       "<table border=\"1\" class=\"dataframe\">\n",
       "  <thead>\n",
       "    <tr style=\"text-align: right;\">\n",
       "      <th></th>\n",
       "      <th>Category</th>\n",
       "      <th>Market</th>\n",
       "      <th>Product</th>\n",
       "      <th>Locations</th>\n",
       "    </tr>\n",
       "  </thead>\n",
       "  <tbody>\n",
       "    <tr>\n",
       "      <th>0</th>\n",
       "      <td>cement, dry feed rotary kiln</td>\n",
       "      <td>clinker production</td>\n",
       "      <td>clinker</td>\n",
       "      <td>[BR, CA-QC, CAZ, CH, CHA, CO, EC, EUR, Europe ...</td>\n",
       "    </tr>\n",
       "    <tr>\n",
       "      <th>1</th>\n",
       "      <td>cement, dry feed rotary kiln, efficient, with ...</td>\n",
       "      <td>clinker production</td>\n",
       "      <td>clinker</td>\n",
       "      <td>[BR, CA-QC, CAZ, CH, CHA, CO, EC, EUR, Europe ...</td>\n",
       "    </tr>\n",
       "    <tr>\n",
       "      <th>2</th>\n",
       "      <td></td>\n",
       "      <td>clinker production, dry feed rotary kiln, effi...</td>\n",
       "      <td>clinker</td>\n",
       "      <td>[CAZ, CHA, EUR, Europe without Switzerland, IN...</td>\n",
       "    </tr>\n",
       "  </tbody>\n",
       "</table>\n",
       "</div>"
      ],
      "text/plain": [
       "                                            Category  \\\n",
       "0                       cement, dry feed rotary kiln   \n",
       "1  cement, dry feed rotary kiln, efficient, with ...   \n",
       "2                                                      \n",
       "\n",
       "                                              Market  Product  \\\n",
       "0                                 clinker production  clinker   \n",
       "1                                 clinker production  clinker   \n",
       "2  clinker production, dry feed rotary kiln, effi...  clinker   \n",
       "\n",
       "                                           Locations  \n",
       "0  [BR, CA-QC, CAZ, CH, CHA, CO, EC, EUR, Europe ...  \n",
       "1  [BR, CA-QC, CAZ, CH, CHA, CO, EC, EUR, Europe ...  \n",
       "2  [CAZ, CHA, EUR, Europe without Switzerland, IN...  "
      ]
     },
     "execution_count": 5,
     "metadata": {},
     "output_type": "execute_result"
    }
   ],
   "source": [
    "inv = InventorySet(\n",
    "    database=ndb.scenarios[0][\"database\"],\n",
    "    version=\"3.10\",\n",
    "    model=\"remind\"\n",
    ")\n",
    "biomass_map = inv.generate_cement_map()\n",
    "df_biomass = debug_mapping_to_dataframe(biomass_map)\n",
    "df_biomass\n"
   ]
  },
  {
   "cell_type": "code",
   "execution_count": null,
   "id": "7db3d85c-6ac4-41df-8cc6-da32863e0c3d",
   "metadata": {},
   "outputs": [],
   "source": [
    "inv = InventorySet(database=my_database)\n",
    "biomass_map = inv.generate_biomass_map()\n"
   ]
  },
  {
   "cell_type": "code",
   "execution_count": 9,
   "id": "a7aba331-d50b-4613-b734-87615f221902",
   "metadata": {},
   "outputs": [],
   "source": [
    "biomass = {k: list(set([(x[\"name\"], x[\"reference product\"]) for x in v])) for k, v in inv.generate_biomass_map().items()}\n",
    "#generate_heat_map\n",
    "#generate_activities_using_metals_map\n",
    "#generate_powerplant_map\n",
    "#generate_cdr_map\n",
    "#generate_powerplant_fuels_map\n",
    "#generate_steel_map\n",
    "#generate_fuel_map\n",
    "#generate_mining_waste_map\n",
    "#generate_final_energy_map\n"
   ]
  },
  {
   "cell_type": "code",
   "id": "1461747f13237266",
   "metadata": {
    "ExecuteTime": {
     "end_time": "2025-05-31T15:16:12.946035Z",
     "start_time": "2025-05-31T15:16:12.749927Z"
    }
   },
   "source": [
    "for ds in ndb.scenarios[0][\"database\"]:\n",
    "    if ds[\"name\"] == \"market for natural gas, low pressure\" and ds[\"location\"] == \"JPN\":\n",
    "        print(ds[\"name\"], ds[\"location\"], ds[\"reference product\"])\n",
    "        for e in ds[\"exchanges\"]:\n",
    "            print(e[\"name\"], e[\"amount\"], e.get(\"location\"), e[\"type\"])\n",
    "        print()\n"
   ],
   "outputs": [
    {
     "name": "stdout",
     "output_type": "stream",
     "text": [
      "market for natural gas, low pressure JPN natural gas, low pressure\n",
      "market for natural gas, low pressure 1.0 JPN production\n",
      "biomethane production, from biogas upgrading, using amine scrubbing 0.25094126690230667 JPN technosphere\n",
      "natural gas, high pressure, import from AE 0.006514966900189843 RoW technosphere\n",
      "natural gas, high pressure, import from AU 0.13096181401672782 RoW technosphere\n",
      "natural gas, high pressure, import from EG 0.0009565722182054117 RoW technosphere\n",
      "natural gas, high pressure, import from ID 0.009271498155888725 RoW technosphere\n",
      "natural gas, high pressure, import from MY 0.050056608013976156 RoW technosphere\n",
      "natural gas, high pressure, import from NG 0.004153829905826414 RoW technosphere\n",
      "natural gas, high pressure, import from OM 0.009361828196270407 RoW technosphere\n",
      "natural gas, high pressure, import from PE 0.002624487359181432 JPN technosphere\n",
      "natural gas, high pressure, import from QA 0.044482293487315694 RoW technosphere\n",
      "natural gas, high pressure, import from RU 0.03162021892561264 RoW technosphere\n",
      "natural gas, high pressure, import from US 0.034757567944892986 RoW technosphere\n",
      "natural gas, liquefied, import from AE 0.006514966900189843 RoW technosphere\n",
      "natural gas, liquefied, import from AU 0.13096181401672782 RoW technosphere\n",
      "natural gas, liquefied, import from EG 0.0009565722182054117 RoW technosphere\n",
      "natural gas, liquefied, import from ID 0.009271498155888725 RoW technosphere\n",
      "natural gas, liquefied, import from MY 0.050056608013976156 RoW technosphere\n",
      "natural gas, liquefied, import from NG 0.004153829905826414 RoW technosphere\n",
      "natural gas, liquefied, import from OM 0.009361828196270407 RoW technosphere\n",
      "natural gas, liquefied, import from PE 0.002624487359181432 RoW technosphere\n",
      "natural gas, liquefied, import from QA 0.044482293487315694 RoW technosphere\n",
      "natural gas, liquefied, import from RU 0.03162021892561264 RoW technosphere\n",
      "natural gas, liquefied, import from US 0.034757567944892986 RoW technosphere\n",
      "\n"
     ]
    }
   ],
   "execution_count": 6
  },
  {
   "metadata": {
    "ExecuteTime": {
     "end_time": "2025-05-30T10:15:24.052604Z",
     "start_time": "2025-05-30T10:15:24.024019Z"
    }
   },
   "cell_type": "code",
   "source": [
    "for ds in ndb.scenarios[0][\"database\"]:\n",
    "    if ds[\"name\"].startswith(\"market for transport, passenger car\") and ds[\"location\"] == \"RER\":\n",
    "        for e in ds[\"exchanges\"]:\n",
    "            print(e[\"name\"], e[\"amount\"], e.get(\"location\"), e[\"type\"])\n",
    "        print()"
   ],
   "id": "a63c33246ded8fe9",
   "outputs": [
    {
     "name": "stdout",
     "output_type": "stream",
     "text": [
      "market for transport, passenger car, EURO 3 1.0 RER production\n",
      "transport, passenger car, EURO 3 1.0 RER technosphere\n",
      "\n",
      "market for transport, passenger car with internal combustion engine 1.0 RER production\n",
      "transport, passenger car with internal combustion engine 1.0 RER technosphere\n",
      "\n",
      "market for transport, passenger car, EURO 4 1.0 RER production\n",
      "transport, passenger car, EURO 4 1.0 RER technosphere\n",
      "\n",
      "market for transport, passenger car, EURO 5 1.0 RER production\n",
      "transport, passenger car, EURO 5 1.0 RER technosphere\n",
      "\n",
      "market for transport, passenger car 1.0 RER production\n",
      "market for transport, passenger car 1.0 EUR technosphere\n",
      "\n"
     ]
    }
   ],
   "execution_count": 7
  },
  {
   "cell_type": "code",
   "id": "abb7edb84da2ed10",
   "metadata": {
    "ExecuteTime": {
     "end_time": "2025-05-30T07:43:45.640111Z",
     "start_time": "2025-05-30T07:43:45.591358Z"
    }
   },
   "source": [
    "for ds in ndb.scenarios[0][\"database\"]:\n",
    "    if ds[\"name\"] == \"market for sawlog and veneer log, softwood, measured as solid wood under bark\" and ds[\"location\"] == \"CHA\":\n",
    "        for e in ds[\"exchanges\"]:\n",
    "            print(e[\"name\"], e[\"type\"], e.get(\"location\"), e[\"amount\"])\n",
    "        print()\n",
    "        #from pprint import pprint\n",
    "        #pprint(ds)\n",
    "        #break"
   ],
   "outputs": [
    {
     "name": "stdout",
     "output_type": "stream",
     "text": [
      "market for sawlog and veneer log, softwood, measured as solid wood under bark production CHA 1.0\n",
      "market for transport, freight train technosphere CN 13.2253954116397\n",
      "market for transport, freight, lorry, unspecified technosphere RoW 5.805904223724\n",
      "market for transport, freight, sea, bulk carrier for dry goods technosphere GLO 15.6522262861392\n",
      "softwood forestry, pine, sustainable forest management technosphere RoW 0.448540479487862\n",
      "softwood forestry, spruce, sustainable forest management technosphere RoW 0.551459520512138\n",
      "\n"
     ]
    }
   ],
   "execution_count": 5
  },
  {
   "cell_type": "code",
   "execution_count": null,
   "id": "1dc344c2e8c8af47",
   "metadata": {},
   "outputs": [],
   "source": [
    "FU = [\n",
    "    {a: 1} for a in\n",
    "    bw2data.Database(\"ecoinvent_cutoff_3.9_image_SSP2-Base_2050\")\n",
    "    if a[\"name\"].startswith(\"electricity production\") and a[\"unit\"] == \"kilowatt hour\"\n",
    "]\n",
    "\n",
    "print(len(FU))\n",
    "\n",
    "list_meth = [\n",
    "    ('IPCC 2021', 'climate change', 'GWP 100a, incl. H'),\n",
    "    ('IPCC 2021', 'climate change', 'GWP 100a, incl. H and bio CO2')\n",
    "]\n",
    "import bw2calc\n",
    "bw2data.calculation_setups['multiLCA'] = {'inv': FU, 'ia': list_meth}\n",
    "myMultiLCA = bw2calc.MultiLCA('multiLCA')\n",
    "df_impact_exc = pd.DataFrame(columns = [\", \".join(i) for i in list_meth],\n",
    "     data = myMultiLCA.results,\n",
    "     index=[k[\"name\"] + \", \" + k[\"location\"] for i in FU for k in i]\n",
    ")"
   ]
  },
  {
   "cell_type": "code",
   "execution_count": null,
   "id": "fddad7e3b3ce3df0",
   "metadata": {},
   "outputs": [],
   "source": [
    "ndb.update_steel()"
   ]
  },
  {
   "cell_type": "code",
   "execution_count": null,
   "id": "3d4787d6fd6eed0f",
   "metadata": {},
   "outputs": [],
   "source": [
    "ndb.update_biomass()"
   ]
  },
  {
   "cell_type": "code",
   "execution_count": null,
   "id": "befda89aaafa2382",
   "metadata": {},
   "outputs": [],
   "source": [
    "ndb.update_electricity()"
   ]
  },
  {
   "cell_type": "code",
   "execution_count": null,
   "id": "3042801535eb2edd",
   "metadata": {},
   "outputs": [],
   "source": [
    "ndb.write_db_to_simapro()"
   ]
  },
  {
   "cell_type": "code",
   "execution_count": null,
   "id": "df6a73e7cbb9ffa0",
   "metadata": {},
   "outputs": [],
   "source": [
    "for ds in ndb.scenarios[0][\"database\"]:\n",
    "    if ds[\"name\"].startswith(\"market group for electricity, low\"):\n",
    "        print(ds[\"name\"], ds[\"reference product\"], ds[\"location\"])"
   ]
  },
  {
   "cell_type": "code",
   "execution_count": null,
   "id": "1f83c7e86330f01d",
   "metadata": {},
   "outputs": [],
   "source": [
    "ndb.scenarios[1][\"iam data\"].carbon_capture_rate"
   ]
  },
  {
   "cell_type": "code",
   "execution_count": null,
   "id": "196733a35a2d69f3",
   "metadata": {},
   "outputs": [],
   "source": [
    "from collections import defaultdict\n",
    "res = defaultdict(float)\n",
    "for ds in ndb.scenarios[0][\"database\"]:\n",
    "    if ds[\"reference product\"]==\"biogas\":\n",
    "        print(ds[\"location\"], ds[\"name\"])\n",
    "        for e in ds[\"exchanges\"]:\n",
    "            print(e[\"name\"], e[\"amount\"], e.get(\"location\"))\n",
    "        print()\n",
    "\n"
   ]
  },
  {
   "cell_type": "code",
   "execution_count": null,
   "id": "11481d3ada198833",
   "metadata": {},
   "outputs": [],
   "source": [
    "from collections import defaultdict\n",
    "res = defaultdict(float)\n",
    "for ds in ndb.scenarios[1][\"database\"]:\n",
    "    if ds[\"name\"]==\"market group for heat, district or industrial, natural gas\":\n",
    "        print(ds[\"location\"], ds[\"name\"])\n",
    "        for e in ds[\"exchanges\"]:\n",
    "            print(e[\"name\"], e[\"amount\"], e.get(\"location\"), e[\"type\"])\n",
    "        print()\n"
   ]
  },
  {
   "cell_type": "code",
   "execution_count": null,
   "id": "25589d4ace41a00a",
   "metadata": {},
   "outputs": [],
   "source": [
    "from collections import defaultdict\n",
    "res = defaultdict(float)\n",
    "for ds in ndb.scenarios[0][\"database\"]:\n",
    "    if ds[\"name\"]==\"transport, freight, lorry, plugin diesel hybrid, 26t gross weight, 2020, EURO-VI, regional delivery\" and ds[\"location\"] == \"ME\":\n",
    "        print(ds[\"location\"], ds[\"name\"])\n",
    "        for e in ds[\"exchanges\"]:\n",
    "            print(e[\"name\"], e[\"amount\"], e.get(\"location\"), e[\"type\"])\n",
    "        print()\n"
   ]
  },
  {
   "cell_type": "code",
   "execution_count": null,
   "id": "10bfdd08837e1191",
   "metadata": {},
   "outputs": [],
   "source": [
    "from premise.geomap import Geomap\n",
    "geo = Geomap(\"remind\")\n",
    "geo.ecoinvent_to_iam_location(\"Europe, without Russia and Turkey\")"
   ]
  },
  {
   "cell_type": "code",
   "execution_count": null,
   "id": "3b0e4b8b0904090d",
   "metadata": {},
   "outputs": [],
   "source": [
    "geo.iam_to_ecoinvent_location(\"EUR\")"
   ]
  },
  {
   "cell_type": "code",
   "execution_count": null,
   "id": "c45644d449e49f48",
   "metadata": {},
   "outputs": [],
   "source": [
    "geo.rev_additional_mappings"
   ]
  },
  {
   "cell_type": "code",
   "execution_count": null,
   "id": "8556e2982ba2b13b",
   "metadata": {},
   "outputs": [],
   "source": [
    "from collections import defaultdict\n",
    "res = defaultdict(float)\n",
    "for ds in ndb.scenarios[0][\"database\"]:\n",
    "    if ds[\"name\"]==\"pig iron production\" and ds[\"location\"] == \"CHN\":\n",
    "        print(ds[\"location\"], ds[\"name\"])\n",
    "        for e in ds[\"exchanges\"]:\n",
    "            print(e[\"name\"], e[\"amount\"])\n",
    "        print(ds[\"comment\"])\n",
    "        print()\n"
   ]
  },
  {
   "cell_type": "code",
   "execution_count": null,
   "id": "8f8ce523f532db76",
   "metadata": {},
   "outputs": [],
   "source": [
    "import pandas as pd\n",
    "import matplotlib.pyplot as plt\n",
    "pd.DataFrame.from_dict(res, orient=\"index\").plot(kind=\"bar\", figsize=(20, 5))\n",
    "plt.ylabel(\"kg heavy fuel oil/kWh\")\n",
    "plt.savefig(\"electricity production, oil.png\")"
   ]
  },
  {
   "cell_type": "code",
   "execution_count": null,
   "id": "aa6f95a63a594df3",
   "metadata": {},
   "outputs": [],
   "source": [
    "ndb.scenarios[0][\"iam data\"].electricity_efficiencies.coords[\"variables\"].values"
   ]
  },
  {
   "cell_type": "code",
   "execution_count": null,
   "id": "8c8a1fec9589751f",
   "metadata": {},
   "outputs": [],
   "source": [
    "ndb.scenarios[0][\"iam data\"].electricity_efficiencies.sel(variables=\"Biomass IGCC CCS\", year=2050)"
   ]
  },
  {
   "cell_type": "code",
   "execution_count": null,
   "id": "965434f4ed4c0c8b",
   "metadata": {},
   "outputs": [],
   "source": [
    "ndb.generate_change_report()"
   ]
  },
  {
   "cell_type": "code",
   "execution_count": null,
   "id": "bd3545b05dd6a461",
   "metadata": {},
   "outputs": [],
   "source": [
    "ndb.scenarios[0][\"iam data\"].gas_markets.sel(region=\"World\")"
   ]
  },
  {
   "cell_type": "code",
   "execution_count": null,
   "id": "57242751b841c527",
   "metadata": {},
   "outputs": [],
   "source": [
    "ndb.scenarios[0]."
   ]
  },
  {
   "cell_type": "code",
   "execution_count": null,
   "id": "3c11a56fae6edb1e",
   "metadata": {},
   "outputs": [],
   "source": [
    "for ds in ndb.scenarios[0][\"database\"]:\n",
    "    for e in ds[\"exchanges\"]:\n",
    "        if e[\"name\"] == \"market for platinum\" and e[\"product\"] == \"platinum\":\n",
    "            print(ds[\"name\"], ds[\"location\"], e[\"name\"], e[\"location\"])"
   ]
  },
  {
   "cell_type": "code",
   "execution_count": null,
   "id": "fcd627206940b21d",
   "metadata": {},
   "outputs": [],
   "source": [
    "import pprint\n",
    "for ds in ndb.scenarios[0][\"database\"]:\n",
    "    if ds[\"name\"].lower() == \"lithium carbonate, precipitated\":\n",
    "        print(ds[\"name\"], ds[\"location\"])"
   ]
  },
  {
   "cell_type": "code",
   "execution_count": null,
   "id": "d7306de6c3f7d666",
   "metadata": {},
   "outputs": [],
   "source": [
    "from premise.activity_maps import InventorySet\n",
    "inv = InventorySet(ndb.database, \"3.9\")"
   ]
  },
  {
   "cell_type": "code",
   "execution_count": null,
   "id": "50350461511f76bd",
   "metadata": {},
   "outputs": [],
   "source": [
    "inv.generate_metals_map()"
   ]
  },
  {
   "cell_type": "code",
   "execution_count": null,
   "id": "2ec8df24fcb542f1",
   "metadata": {},
   "outputs": [],
   "source": [
    "inv.generate_powerplant_map()"
   ]
  },
  {
   "cell_type": "code",
   "execution_count": null,
   "id": "116a0069bb4d87d0",
   "metadata": {},
   "outputs": [],
   "source": [
    "inv.generate_daccs_map()"
   ]
  },
  {
   "cell_type": "code",
   "execution_count": null,
   "id": "5b76ad182f3baeba",
   "metadata": {},
   "outputs": [],
   "source": [
    "ndb.write_db_to_brightway(\"test_metals\")"
   ]
  },
  {
   "cell_type": "code",
   "execution_count": null,
   "id": "b45ac5225053b343",
   "metadata": {},
   "outputs": [],
   "source": [
    "products = [\n",
    "    'lightweighting, glider',\n",
    "    'auxilliary battery inputs, for road vehicle',\n",
    "    'battery cell, Li-ion, NMC622',\n",
    "    'auxilliary electronics inputs, for fuel cell electric vehicle',\n",
    "    'auxilliary material inputs, for fuel cell electric vehicle',\n",
    "    'fuel cell stack, for fuel cell electric vehicle',\n",
    "    'carbon fiber, weaved',\n",
    "    'tank liner, polyethylene, high density',\n",
    "    'transformer and rectifier unit, for electrolyser',\n",
    "    'fuel tank, for diesel road vehicle',\n",
    "    'fuel tank, for compressed hydrogen gas, 700bar',\n",
    "    'fuel tank, for compressed hydrogen gas, 700bar',\n",
    "    'fuel tank, for compressed hydrogen gas, 700bar',\n",
    "    'fuel tank, for compressed natural gas, 200 bar',\n",
    "    'charger, level 3, plugin, 200 kW, for electric vehicle',\n",
    "    'gearbox, for lorry',\n",
    "    'transmission, for lorry',\n",
    "    'suspension, for lorry',\n",
    "    'power electronics, for lorry',\n",
    "    'auxilliary material inputs, for electric lorry',\n",
    "    'retarder, for lorry',\n",
    "    'cabin, for lorry',\n",
    "    'frame, blanks and saddle, for lorry',\n",
    "    'tires and wheels, for lorry',\n",
    "    'auxilliary material inputs, for hydrid electric lorry',\n",
    "    'exhaust system, for lorry',\n",
    "    'internal combustion engine, for lorry',\n",
    "    'lead acid battery, for lorry',\n",
    "    'charger, level 3, with pantograph, 450 kW, for electric vehicle',\n",
    "    'overhead lines, for electric vehicle',\n",
    "    'battery cell, Li-ion, LTO',\n",
    "    'charging station, 3kW',\n",
    "    'battery cell,  Li-ion, LFP',\n",
    "    'battery cell, Li-ion, NCA',\n",
    "    'assembly operation, for lorry'\n",
    "]\n",
    "\n",
    "print(len(products))\n",
    "\n",
    "acts = [a for a in bw.Database(\"brian\") if a[\"reference product\"] in products]"
   ]
  },
  {
   "cell_type": "code",
   "execution_count": null,
   "id": "72550b1fed0d35f0",
   "metadata": {},
   "outputs": [],
   "source": [
    "len(acts)"
   ]
  },
  {
   "cell_type": "code",
   "execution_count": null,
   "id": "9c3774c79a448faa",
   "metadata": {},
   "outputs": [],
   "source": [
    "[a[\"reference product\"] for a in acts]"
   ]
  },
  {
   "cell_type": "code",
   "execution_count": null,
   "id": "92643f7e6927245d",
   "metadata": {},
   "outputs": [],
   "source": [
    "import bw2data\n",
    "bw2io.BW2Package.export_obj(obj=bw.Database(\"brian\"), filename=\"db_for_brian.bw2package\")"
   ]
  },
  {
   "cell_type": "code",
   "execution_count": null,
   "id": "9c356f2368eb5b2f",
   "metadata": {},
   "outputs": [],
   "source": [
    "import bw2data\n",
    "bw2io.BW2Package.import_file(\"db_for_brian.bw2package\")"
   ]
  },
  {
   "cell_type": "code",
   "execution_count": null,
   "id": "de440f0db2b13ec4",
   "metadata": {},
   "outputs": [],
   "source": []
  },
  {
   "cell_type": "code",
   "execution_count": null,
   "id": "a1c8fa6cb4f2dd8",
   "metadata": {},
   "outputs": [],
   "source": [
    "fp = \"/Users/romain/Library/Application Support/Brightway3/ei39.f1469ad5eb0a071dc60323f6e0fce980/output/lci-brian.xlsx\"\n",
    "import bw2io\n",
    "\n",
    "i = bw2io.ExcelImporter(fp)\n",
    "i.apply_strategies()"
   ]
  },
  {
   "cell_type": "code",
   "execution_count": null,
   "id": "cd94ca83dbc3b727",
   "metadata": {},
   "outputs": [],
   "source": [
    "ei_acts = list(set([(a[\"name\"], a[\"reference product\"]) for a in bw.Database(\"ecoinvent 3.9.1 cutoff\")]))\n",
    "print(len(ei_acts))"
   ]
  },
  {
   "cell_type": "code",
   "execution_count": null,
   "id": "92206a853e60d19b",
   "metadata": {},
   "outputs": [],
   "source": [
    "for ds in i.data:\n",
    "    if (ds[\"name\"], ds[\"reference product\"]) in ei_acts:\n",
    "        i.data.remove(ds)"
   ]
  },
  {
   "cell_type": "code",
   "execution_count": null,
   "id": "6fe20db999c31460",
   "metadata": {},
   "outputs": [],
   "source": [
    "for ds in i.data:\n",
    "    if (ds[\"name\"], ds[\"reference product\"]) not in ei_acts:\n",
    "        print(ds[\"name\"])"
   ]
  },
  {
   "cell_type": "code",
   "execution_count": null,
   "id": "4c208c1745d4e045",
   "metadata": {},
   "outputs": [],
   "source": [
    "len(i.data)"
   ]
  },
  {
   "cell_type": "code",
   "execution_count": null,
   "id": "d8a7689d7ea9f548",
   "metadata": {},
   "outputs": [],
   "source": [
    "for ds in i.data:\n",
    "    print(ds[\"name\"])"
   ]
  },
  {
   "cell_type": "code",
   "execution_count": null,
   "id": "835d05ffcee22155",
   "metadata": {},
   "outputs": [],
   "source": [
    "i.match_database(fields=[\"name\", \"unit\", \"location\"])\n",
    "i.match_database(\"ecoinvent 3.9.1 cutoff\", fields=[\"name\", \"reference product\", \"location\", \"unit\"])\n",
    "i.match_database(\"biosphere3\", fields=[\"name\", \"categories\", \"unit\"])"
   ]
  },
  {
   "cell_type": "code",
   "execution_count": null,
   "id": "ce2d1a7299bd6782",
   "metadata": {},
   "outputs": [],
   "source": [
    "i.statistics()"
   ]
  },
  {
   "cell_type": "code",
   "execution_count": null,
   "id": "44505a17c9058074",
   "metadata": {},
   "outputs": [],
   "source": [
    "list(i.unlinked)[-1]"
   ]
  },
  {
   "cell_type": "code",
   "execution_count": null,
   "id": "dcb64973be80c3c",
   "metadata": {},
   "outputs": [],
   "source": [
    "bw.get_activity(('brian', '360c5e612a154ebb8cee2650bcc1bc75_copy1'))"
   ]
  },
  {
   "cell_type": "code",
   "execution_count": null,
   "id": "cf8f1b66b781babb",
   "metadata": {},
   "outputs": [],
   "source": [
    "for f in bw.Database(\"biosphere3\"):\n",
    "    if f[\"code\"] == \"e030108f-2125-4bcb-a73b-ad72130fcca3\":\n",
    "        print(f)"
   ]
  },
  {
   "cell_type": "code",
   "execution_count": null,
   "id": "32a8ddbc29d21b73",
   "metadata": {},
   "outputs": [],
   "source": [
    "bw.projects.set_current(\"ei39\")"
   ]
  },
  {
   "cell_type": "code",
   "execution_count": null,
   "id": "821a5e9586fd98ec",
   "metadata": {},
   "outputs": [],
   "source": [
    "l = []\n",
    "\n",
    "for f in bw.Database(\"biosphere3\"):\n",
    "    l.append([f[\"name\"], f[\"categories\"][0], f[\"categories\"][1] if len(f[\"categories\"])>1 else \"unspecified\", f[\"unit\"], f[\"code\"]])"
   ]
  },
  {
   "cell_type": "code",
   "execution_count": null,
   "id": "6a2b812bfe7ed3ef",
   "metadata": {},
   "outputs": [],
   "source": [
    "import csv\n",
    "\n",
    "with open(\"flows_biosphere_39.csv\", \"w\", newline=\"\", ) as f:\n",
    "    writer = csv.writer(f, delimiter=\";\")\n",
    "    writer.writerows(l)"
   ]
  },
  {
   "cell_type": "code",
   "execution_count": null,
   "id": "62f0ebb66127ad0",
   "metadata": {},
   "outputs": [],
   "source": [
    "ndb.scenarios[1][\"iam data\"].fuel_markets.sel(region=\"NEU\").variables.values"
   ]
  },
  {
   "cell_type": "code",
   "execution_count": null,
   "id": "8b670e0fa0fda81f",
   "metadata": {},
   "outputs": [],
   "source": [
    "import numpy as np\n",
    "for ds in ndb.scenarios[1][\"database\"]:\n",
    "    if ds[\"name\"] == (\"carbon dioxide, captured from atmosphere, with a solvent-based direct air capture system, 1MtCO2, with waste heat, and grid electricity\",\n",
    "                            \"carbon dioxide, captured from atmosphere\"):\n",
    "            print(ds[\"name\"], ds[\"location\"])"
   ]
  },
  {
   "cell_type": "code",
   "execution_count": null,
   "id": "48db9dd51197d500",
   "metadata": {},
   "outputs": [],
   "source": [
    "for ds in ndb.scenarios[1][\"database\"]:\n",
    "    if \"carbon dioxide, captured\" in ds[\"name\"]:\n",
    "        print(ds[\"name\"], ds[\"location\"])"
   ]
  },
  {
   "cell_type": "code",
   "execution_count": null,
   "id": "fbe44335831df1",
   "metadata": {},
   "outputs": [],
   "source": [
    "ndb.scenarios[0][\"iam data\"].fuel_markets.sel(region=\"WEU\", year=2050)"
   ]
  },
  {
   "cell_type": "code",
   "execution_count": null,
   "id": "f20df6c9c884d6bd",
   "metadata": {},
   "outputs": [],
   "source": [
    "ndb.scenarios[0][\"iam data\"].fuel_markets.sel(region=\"WEU\")"
   ]
  },
  {
   "cell_type": "code",
   "execution_count": null,
   "id": "af8fd5290167c25c",
   "metadata": {},
   "outputs": [],
   "source": [
    "ndb.update_electricity()"
   ]
  },
  {
   "cell_type": "code",
   "execution_count": null,
   "id": "c73afb6cb07d765e",
   "metadata": {},
   "outputs": [],
   "source": [
    "ndb.scenarios[0][\"iam data\"].fuel_markets"
   ]
  },
  {
   "cell_type": "code",
   "execution_count": null,
   "id": "92bdc92f238e12fa",
   "metadata": {},
   "outputs": [],
   "source": [
    "ndb.generate_scenario_report()"
   ]
  },
  {
   "cell_type": "code",
   "execution_count": null,
   "id": "65caa34ff603bc11",
   "metadata": {},
   "outputs": [],
   "source": [
    "ndb.generate_change_report()"
   ]
  },
  {
   "cell_type": "code",
   "execution_count": null,
   "id": "ecdb14752a986bf5",
   "metadata": {},
   "outputs": [],
   "source": [
    "ndb.update_all()"
   ]
  },
  {
   "cell_type": "code",
   "execution_count": null,
   "id": "a32b6ceb2068aa88",
   "metadata": {},
   "outputs": [],
   "source": [
    "ndb.generate_scenario_report()"
   ]
  },
  {
   "cell_type": "code",
   "execution_count": null,
   "id": "bd553b607c0eec02",
   "metadata": {},
   "outputs": [],
   "source": [
    "ndb.generate_change_report()"
   ]
  },
  {
   "cell_type": "code",
   "execution_count": null,
   "id": "fe334ea259279f21",
   "metadata": {},
   "outputs": [],
   "source": [
    "ndb.scenarios[0][\"iam data\"].gains_data_IAM"
   ]
  },
  {
   "cell_type": "code",
   "execution_count": null,
   "id": "5a73163962ead122",
   "metadata": {},
   "outputs": [],
   "source": []
  },
  {
   "cell_type": "code",
   "execution_count": null,
   "id": "d213dbe1eb7dc272",
   "metadata": {},
   "outputs": [],
   "source": [
    "ndb.update_all()"
   ]
  },
  {
   "cell_type": "code",
   "execution_count": null,
   "id": "fb9125119e460f9",
   "metadata": {},
   "outputs": [],
   "source": [
    "ndb.write_db_to_brightway([\"test_dac\", \"test_dac2\"])"
   ]
  },
  {
   "cell_type": "code",
   "execution_count": null,
   "id": "e3f9b9d44a305ad8",
   "metadata": {},
   "outputs": [],
   "source": [
    "from premise.geomap import Geomap"
   ]
  },
  {
   "cell_type": "code",
   "execution_count": null,
   "id": "d2d9db61092ecf24",
   "metadata": {},
   "outputs": [],
   "source": [
    "Geomap()"
   ]
  },
  {
   "cell_type": "code",
   "execution_count": null,
   "id": "a7c84abee72f964b",
   "metadata": {},
   "outputs": [],
   "source": [
    "Geomap(model=\"remind\").geo.keys()"
   ]
  },
  {
   "cell_type": "code",
   "execution_count": null,
   "id": "ee6489cf5bf6d7b4",
   "metadata": {},
   "outputs": [],
   "source": [
    "ndb.scenarios[0][\"iam data\"].carbon_capture_rate.sel(variables=\"steel\")"
   ]
  },
  {
   "cell_type": "code",
   "execution_count": null,
   "id": "60e3a7ea3c1a023a",
   "metadata": {},
   "outputs": [],
   "source": [
    "for ds in ndb.scenarios[0][\"database\"]:\n",
    "    for e in ds[\"exchanges\"]:\n",
    "        if e[\"name\"].startswith(\"CO2 capture, at cement production plant\"):\n",
    "            print(e[\"name\"], e.get(\"location\"), e[\"amount\"])\n",
    "            print(ds[\"name\"])\n",
    "            print(\"--------------------\")"
   ]
  },
  {
   "cell_type": "code",
   "execution_count": null,
   "id": "bbaf04d22ed3a879",
   "metadata": {},
   "outputs": [],
   "source": []
  }
 ],
 "metadata": {
  "kernelspec": {
   "display_name": "Python 3 (ipykernel)",
   "language": "python",
   "name": "python3"
  },
  "language_info": {
   "codemirror_mode": {
    "name": "ipython",
    "version": 3
   },
   "file_extension": ".py",
   "mimetype": "text/x-python",
   "name": "python",
   "nbconvert_exporter": "python",
   "pygments_lexer": "ipython3",
   "version": "3.11.12"
  }
 },
 "nbformat": 4,
 "nbformat_minor": 5
}
